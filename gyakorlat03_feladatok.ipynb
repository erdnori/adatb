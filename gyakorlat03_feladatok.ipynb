{
    "metadata": {
        "kernelspec": {
            "name": "SQL",
            "display_name": "SQL",
            "language": "sql"
        },
        "language_info": {
            "name": "sql",
            "version": ""
        },
        "extensions": {
            "azuredatastudio": {
                "version": 1,
                "views": []
            }
        }
    },
    "nbformat_minor": 2,
    "nbformat": 4,
    "cells": [
        {
            "cell_type": "markdown",
            "source": [
                "**Az első 5 feladat ismétlés (többtáblás lekérdezések) a tanulmányi adatbázisból**\n",
                "\n",
                "1. Készítsünk listát arról, hogy melyik óra melyik teremben van!\n",
                "    \n",
                "    1. Jelenítsük meg az óra azonosítóját és a terem nevét!\n",
                "    2. A listát szűrjük a 3 karakter hosszú, \\[100;199\\] zárt intervallumba eső termekre! Feltesszük, hogy a 3 karakter hosszú terem nevek csak számjegyeket tartalmaznak."
            ],
            "metadata": {
                "azdata_cell_guid": "77f2d5b3-38e9-41cc-893f-f5afd02b97ef"
            },
            "attachments": {}
        },
        {
            "cell_type": "code",
            "source": [
                ""
            ],
            "metadata": {
                "azdata_cell_guid": "bd3cef1a-4e6e-4ece-9dc3-aaa9d2b5d66d",
                "language": "sql"
            },
            "outputs": [],
            "execution_count": null
        },
        {
            "cell_type": "markdown",
            "source": [
                "2. <span style=\"font-weight: 600; color: rgb(36, 41, 47); font-family: -apple-system, BlinkMacSystemFont, &quot;Segoe UI&quot;, Helvetica, Arial, sans-serif, &quot;Apple Color Emoji&quot;, &quot;Segoe UI Emoji&quot;; font-size: 16px;\">Hány óra van összesen az egyes napokon?</span>\n",
                "\n",
                "1. Jelenítsük meg a napok nevét és az órák számát az adott napon!\n",
                "2. Az oszlopokat nevezzük el értelemszerűen!\n",
                "3. A listát rendezzük óraszám szerint növekvő sorrendbe!"
            ],
            "metadata": {
                "azdata_cell_guid": "88f5b4bb-f4c1-4bad-a0c7-b2592687b422"
            },
            "attachments": {}
        },
        {
            "cell_type": "code",
            "source": [
                "SELECT n.nap AS 'Napok',\r\n",
                "       COUNT(o.ora_id) AS 'Órák száma'\r\n",
                "FROM Orak o JOIN Napok n ON o.nap=n.nap_id\r\n",
                "GROUP BY n.nap\r\n",
                "ORDER BY COUNT(o.ora_id) ASC"
            ],
            "metadata": {
                "azdata_cell_guid": "e9de5726-f036-4fb9-8c33-a873955ed886",
                "language": "sql"
            },
            "outputs": [
                {
                    "output_type": "display_data",
                    "data": {
                        "text/html": "(5 rows affected)"
                    },
                    "metadata": {}
                },
                {
                    "output_type": "display_data",
                    "data": {
                        "text/html": "Total execution time: 00:00:00.048"
                    },
                    "metadata": {}
                },
                {
                    "output_type": "execute_result",
                    "metadata": {},
                    "execution_count": 31,
                    "data": {
                        "application/vnd.dataresource+json": {
                            "schema": {
                                "fields": [
                                    {
                                        "name": "Napok"
                                    },
                                    {
                                        "name": "Órák száma"
                                    }
                                ]
                            },
                            "data": [
                                {
                                    "Napok": "Péntek",
                                    "Órák száma": "6"
                                },
                                {
                                    "Napok": "Szerda",
                                    "Órák száma": "6"
                                },
                                {
                                    "Napok": "Kedd",
                                    "Órák száma": "13"
                                },
                                {
                                    "Napok": "Csütörtök",
                                    "Órák száma": "19"
                                },
                                {
                                    "Napok": "Hétfő",
                                    "Órák száma": "23"
                                }
                            ]
                        },
                        "text/html": [
                            "<table>",
                            "<tr><th>Napok</th><th>Órák száma</th></tr>",
                            "<tr><td>Péntek</td><td>6</td></tr>",
                            "<tr><td>Szerda</td><td>6</td></tr>",
                            "<tr><td>Kedd</td><td>13</td></tr>",
                            "<tr><td>Csütörtök</td><td>19</td></tr>",
                            "<tr><td>Hétfő</td><td>23</td></tr>",
                            "</table>"
                        ]
                    }
                }
            ],
            "execution_count": 31
        },
        {
            "cell_type": "markdown",
            "source": [
                "3. <span style=\"font-weight: 600; color: rgb(36, 41, 47); font-family: -apple-system, BlinkMacSystemFont, &quot;Segoe UI&quot;, Helvetica, Arial, sans-serif, &quot;Apple Color Emoji&quot;, &quot;Segoe UI Emoji&quot;; font-size: 16px;\">Készítsünk listát arról, hogy melyik oktatónak hány órája van az Órák táblában!</span>\n",
                "\n",
                "1. A lista jelenítse meg az oktatók nevét, és az órák számát!\n",
                "2. Az oszlopokat nevezzük el értelemszerűen!\n",
                "3. A listából hagyjuk ki az óraadókat!"
            ],
            "metadata": {
                "azdata_cell_guid": "9e7249de-1b59-43d8-84b1-26fa7d81fc5a"
            },
            "attachments": {}
        },
        {
            "cell_type": "code",
            "source": [
                ""
            ],
            "metadata": {
                "azdata_cell_guid": "6405d3e8-a9b1-45d7-aa76-3b1e785ef6cc",
                "language": "sql"
            },
            "outputs": [],
            "execution_count": null
        },
        {
            "cell_type": "markdown",
            "source": [
                "4. <span style=\"color: rgb(36, 41, 47); font-family: -apple-system, BlinkMacSystemFont, &quot;Segoe UI&quot;, Helvetica, Arial, sans-serif, &quot;Apple Color Emoji&quot;, &quot;Segoe UI Emoji&quot;; font-size: 16px;\">Van-e olyan tantárgy, amelyből nincs óra?</span>\n",
                "\n",
                "1. Jelentsük meg a tantárgy nevét és a tantárgyfelelős nevét!"
            ],
            "metadata": {
                "azdata_cell_guid": "6478e469-c094-472c-a772-ccd5b5c61516"
            },
            "attachments": {}
        },
        {
            "cell_type": "code",
            "source": [
                "SELECT tan.Tantárgynév,\r\n",
                "        o.targy,\r\n",
                "        okt.nev AS 'Tantárgyfelelős'\r\n",
                "FROM Tantárgyak tan LEFT JOIN Orak o ON tan.Tkód=o.targy --azt is listázza, ahol nincs belőle óra\r\n",
                "                    JOIN Oktatok okt ON okt.oktato_id=tan.Tantárgyfelelős\r\n",
                "WHERE o.targy IS NULL\r\n",
                "            "
            ],
            "metadata": {
                "azdata_cell_guid": "02031ea2-3838-458d-839c-228e3b362b61",
                "language": "sql"
            },
            "outputs": [
                {
                    "output_type": "display_data",
                    "data": {
                        "text/html": "(1 row affected)"
                    },
                    "metadata": {}
                },
                {
                    "output_type": "display_data",
                    "data": {
                        "text/html": "Total execution time: 00:00:00.032"
                    },
                    "metadata": {}
                },
                {
                    "output_type": "execute_result",
                    "metadata": {},
                    "execution_count": 43,
                    "data": {
                        "application/vnd.dataresource+json": {
                            "schema": {
                                "fields": [
                                    {
                                        "name": "Tantárgynév"
                                    },
                                    {
                                        "name": "targy"
                                    },
                                    {
                                        "name": "Tantárgyfelelős"
                                    }
                                ]
                            },
                            "data": [
                                {
                                    "Tantárgynév": "Folyami gáttan",
                                    "targy": "NULL",
                                    "Tantárgyfelelős": "Varga Kata"
                                }
                            ]
                        },
                        "text/html": [
                            "<table>",
                            "<tr><th>Tantárgynév</th><th>targy</th><th>Tantárgyfelelős</th></tr>",
                            "<tr><td>Folyami gáttan</td><td>NULL</td><td>Varga Kata</td></tr>",
                            "</table>"
                        ]
                    }
                }
            ],
            "execution_count": 43
        },
        {
            "cell_type": "markdown",
            "source": [
                "5. <span style=\"background-color: rgb(255, 255, 255); color: rgb(36, 41, 47); font-family: -apple-system, BlinkMacSystemFont, &quot;Segoe UI&quot;, Helvetica, Arial, sans-serif, &quot;Apple Color Emoji&quot;, &quot;Segoe UI Emoji&quot;; font-size: 16px;\">Hány óra van összesen a 120-as teremben?</span>"
            ],
            "metadata": {
                "azdata_cell_guid": "9edbbaf9-c276-4898-9a01-e1b2993c089f"
            },
            "attachments": {}
        },
        {
            "cell_type": "code",
            "source": [
                ""
            ],
            "metadata": {
                "azdata_cell_guid": "5ad5fdcb-2878-4111-861a-833bcd50e935",
                "language": "sql"
            },
            "outputs": [],
            "execution_count": null
        },
        {
            "cell_type": "markdown",
            "source": [
                "**A 6-10 feladatokat halmazműveletek segítségével oldjuk meg, szintén a tanulmányi adatbázison**\n",
                "\n",
                "6. <span style=\"background-color:rgb(255, 255, 255);color:rgb(36, 41, 47);font-family:-apple-system, BlinkMacSystemFont, &quot;Segoe UI&quot;, Helvetica, Arial, sans-serif, &quot;Apple Color Emoji&quot;, &quot;Segoe UI Emoji&quot;;font-size:16px;font-weight:600;\">Jelenítsük meg azon tanárok azonosítóját és nevét, akik hétfői vagy keddi napokon tanítanak!</span>"
            ],
            "metadata": {
                "azdata_cell_guid": "5fe65c1c-2479-45ac-ad03-ec99d12eae21"
            },
            "attachments": {}
        },
        {
            "cell_type": "code",
            "source": [
                "--hétfőn tanítók UNION kedden tanítók\r\n",
                "SELECT okt.oktato_id,\r\n",
                "        okt.nev\r\n",
                "FROM Orak o JOIN Napok n ON o.nap=n.nap_id\r\n",
                "            JOIN Oktatok okt ON o.tanar=okt.oktato_id\r\n",
                "WHERE n.nap=N'hétfő' --ha N-et írok elé, unicode string lesz (karakterek miatt)\r\n",
                "\r\n",
                "UNION --UNION ALL: ha valaki mindkét nap tanít, duplán fog megjelenni a neve\r\n",
                "\r\n",
                "SELECT okt.oktato_id,\r\n",
                "        okt.nev\r\n",
                "FROM Orak o JOIN Napok n ON o.nap=n.nap_id\r\n",
                "            JOIN Oktatok okt ON o.tanar=okt.oktato_id\r\n",
                "WHERE n.nap='kedd'\r\n",
                ""
            ],
            "metadata": {
                "azdata_cell_guid": "924f2dde-f1c2-4def-a7f9-dbf4bace7735",
                "language": "sql"
            },
            "outputs": [
                {
                    "output_type": "display_data",
                    "data": {
                        "text/html": "(17 rows affected)"
                    },
                    "metadata": {}
                },
                {
                    "output_type": "display_data",
                    "data": {
                        "text/html": "Total execution time: 00:00:00.014"
                    },
                    "metadata": {}
                },
                {
                    "output_type": "execute_result",
                    "metadata": {},
                    "execution_count": 47,
                    "data": {
                        "application/vnd.dataresource+json": {
                            "schema": {
                                "fields": [
                                    {
                                        "name": "oktato_id"
                                    },
                                    {
                                        "name": "nev"
                                    }
                                ]
                            },
                            "data": [
                                {
                                    "oktato_id": "1",
                                    "nev": "Kovács László"
                                },
                                {
                                    "oktato_id": "2",
                                    "nev": "Szentágotai Istvás"
                                },
                                {
                                    "oktato_id": "3",
                                    "nev": "Szerb László"
                                },
                                {
                                    "oktato_id": "4",
                                    "nev": "Ujfalussi István"
                                },
                                {
                                    "oktato_id": "5",
                                    "nev": "Balkán András"
                                },
                                {
                                    "oktato_id": "6",
                                    "nev": "Szép llonka"
                                },
                                {
                                    "oktato_id": "7",
                                    "nev": "Kiss János"
                                },
                                {
                                    "oktato_id": "8",
                                    "nev": "Pelikán József"
                                },
                                {
                                    "oktato_id": "9",
                                    "nev": "Farkasos Piroska"
                                },
                                {
                                    "oktato_id": "10",
                                    "nev": "Jogrerős Pál"
                                },
                                {
                                    "oktato_id": "12",
                                    "nev": "Varga Kata"
                                },
                                {
                                    "oktato_id": "14",
                                    "nev": "Szénási ászló"
                                },
                                {
                                    "oktato_id": "18",
                                    "nev": "Nógrádi Kata"
                                },
                                {
                                    "oktato_id": "20",
                                    "nev": "Kovács András"
                                },
                                {
                                    "oktato_id": "104",
                                    "nev": "Ludas Mátyás"
                                },
                                {
                                    "oktato_id": "108",
                                    "nev": "Róbert Gida"
                                },
                                {
                                    "oktato_id": "200",
                                    "nev": "Aranyi Mária"
                                }
                            ]
                        },
                        "text/html": [
                            "<table>",
                            "<tr><th>oktato_id</th><th>nev</th></tr>",
                            "<tr><td>1</td><td>Kovács László</td></tr>",
                            "<tr><td>2</td><td>Szentágotai Istvás</td></tr>",
                            "<tr><td>3</td><td>Szerb László</td></tr>",
                            "<tr><td>4</td><td>Ujfalussi István</td></tr>",
                            "<tr><td>5</td><td>Balkán András</td></tr>",
                            "<tr><td>6</td><td>Szép llonka</td></tr>",
                            "<tr><td>7</td><td>Kiss János</td></tr>",
                            "<tr><td>8</td><td>Pelikán József</td></tr>",
                            "<tr><td>9</td><td>Farkasos Piroska</td></tr>",
                            "<tr><td>10</td><td>Jogrerős Pál</td></tr>",
                            "<tr><td>12</td><td>Varga Kata</td></tr>",
                            "<tr><td>14</td><td>Szénási ászló</td></tr>",
                            "<tr><td>18</td><td>Nógrádi Kata</td></tr>",
                            "<tr><td>20</td><td>Kovács András</td></tr>",
                            "<tr><td>104</td><td>Ludas Mátyás</td></tr>",
                            "<tr><td>108</td><td>Róbert Gida</td></tr>",
                            "<tr><td>200</td><td>Aranyi Mária</td></tr>",
                            "</table>"
                        ]
                    }
                }
            ],
            "execution_count": 47
        },
        {
            "cell_type": "markdown",
            "source": [
                "7. <span style=\"background-color: rgb(255, 255, 255); color: rgb(36, 41, 47); font-family: -apple-system, BlinkMacSystemFont, &quot;Segoe UI&quot;, Helvetica, Arial, sans-serif, &quot;Apple Color Emoji&quot;, &quot;Segoe UI Emoji&quot;; font-size: 16px; font-weight: 600;\">Melyek azok a tantárgyak, amelyek esetén van óra a 8.00-kor kezdődő sávban, de nincs a 12.30-kor kezdődő sávban?</span>"
            ],
            "metadata": {
                "azdata_cell_guid": "3aeb6bf5-b111-40d5-92b2-9712ce335696"
            },
            "attachments": {}
        },
        {
            "cell_type": "code",
            "source": [
                ""
            ],
            "metadata": {
                "azdata_cell_guid": "3e89b651-f56f-4102-af52-30eb2bbe360d",
                "language": "sql"
            },
            "outputs": [],
            "execution_count": null
        },
        {
            "cell_type": "markdown",
            "source": [
                "8. <span style=\"background-color: rgb(255, 255, 255); color: rgb(36, 41, 47); font-family: -apple-system, BlinkMacSystemFont, &quot;Segoe UI&quot;, Helvetica, Arial, sans-serif, &quot;Apple Color Emoji&quot;, &quot;Segoe UI Emoji&quot;; font-size: 16px; font-weight: 600;\">Listázzuk azokat a termeket, amelyekben oktat Kovács László és van olyan tanóra a teremben, ahol a tantárgy nevében nem szerepel az 'ürge' szó!</span>"
            ],
            "metadata": {
                "azdata_cell_guid": "26a504dc-ff6a-439f-94c0-4580eca3eacf"
            },
            "attachments": {}
        },
        {
            "cell_type": "code",
            "source": [
                ""
            ],
            "metadata": {
                "azdata_cell_guid": "1cbb8aeb-78b5-4350-aa45-e3202fdab85b",
                "language": "sql"
            },
            "outputs": [],
            "execution_count": null
        },
        {
            "cell_type": "markdown",
            "source": [
                "9. <span style=\"font-weight: 600; color: rgb(36, 41, 47); font-family: -apple-system, BlinkMacSystemFont, &quot;Segoe UI&quot;, Helvetica, Arial, sans-serif, &quot;Apple Color Emoji&quot;, &quot;Segoe UI Emoji&quot;; font-size: 16px;\">Készítsünk listát arról, hogy melyik tanárnak hány órája van a (munka) hét elején (hétfőn), hét közben (kedd, szerda és csütörtök), illetve a hét végén (péntek)!</span>\n",
                "\n",
                "1. Jelenítsük meg a tanár azonosítóját, nevét, az időszakot (hét eleje - hét közben - hét vége), valamint az óraszámot!\n",
                "2. A három megjelölt időszakot külön kérdezzük le, majd fűzzük össze a lekérdezések eredményeit!\n",
                "3. Rendezzük a listát az oktató neve, azon belül időszak szerint!"
            ],
            "metadata": {
                "azdata_cell_guid": "435e2860-2dd5-4877-90f4-34a43baeb53c"
            },
            "attachments": {}
        },
        {
            "cell_type": "code",
            "source": [
                ""
            ],
            "metadata": {
                "azdata_cell_guid": "ce846351-ddbe-4d8e-b8fb-2a92c73ac80b",
                "language": "sql"
            },
            "outputs": [],
            "execution_count": null
        },
        {
            "cell_type": "markdown",
            "source": [
                "10. <span style=\"background-color: rgb(255, 255, 255); color: rgb(36, 41, 47); font-family: -apple-system, BlinkMacSystemFont, &quot;Segoe UI&quot;, Helvetica, Arial, sans-serif, &quot;Apple Color Emoji&quot;, &quot;Segoe UI Emoji&quot;; font-size: 16px; font-weight: 600;\">Melyik napokon nincs órája Pelikán Józsefnek?</span>"
            ],
            "metadata": {
                "azdata_cell_guid": "217c5772-afe2-4a7c-b913-e3a3e09d6411"
            },
            "attachments": {}
        },
        {
            "cell_type": "code",
            "source": [
                "--LISTÁZZUK AZ ÖSSZES NAPOT\r\n",
                "--EXPECT\r\n",
                "--Listázzuk azokat a napokat, amikor van órája\r\n",
                "--Megjegyzés: LEFT JOIN-nal is megoldható VAGY beágyazott SELECT-el is\r\n",
                "\r\n",
                "SELECT nap\r\n",
                "FROM Napok\r\n",
                "\r\n",
                "EXCEPT\r\n",
                "\r\n",
                "--Mikor van órája P. Józsefnek\r\n",
                "SELECT n.nap\r\n",
                "FROM Orak o JOIN Napok n ON o.nap=n.nap_id\r\n",
                "            JOIN Oktatok okt ON okt.oktato_id=o.tanar\r\n",
                "WHERE okt.nev=N'Pelikán József'"
            ],
            "metadata": {
                "azdata_cell_guid": "a9cc0926-3dbd-4ed8-8179-1c39d64a0762",
                "language": "sql"
            },
            "outputs": [
                {
                    "output_type": "display_data",
                    "data": {
                        "text/html": "(3 rows affected)"
                    },
                    "metadata": {}
                },
                {
                    "output_type": "display_data",
                    "data": {
                        "text/html": "Total execution time: 00:00:00.036"
                    },
                    "metadata": {}
                },
                {
                    "output_type": "execute_result",
                    "metadata": {},
                    "execution_count": 56,
                    "data": {
                        "application/vnd.dataresource+json": {
                            "schema": {
                                "fields": [
                                    {
                                        "name": "nap"
                                    }
                                ]
                            },
                            "data": [
                                {
                                    "nap": "Csütörtök"
                                },
                                {
                                    "nap": "Péntek"
                                },
                                {
                                    "nap": "Szerda"
                                }
                            ]
                        },
                        "text/html": [
                            "<table>",
                            "<tr><th>nap</th></tr>",
                            "<tr><td>Csütörtök</td></tr>",
                            "<tr><td>Péntek</td></tr>",
                            "<tr><td>Szerda</td></tr>",
                            "</table>"
                        ]
                    }
                }
            ],
            "execution_count": 56
        },
        {
            "cell_type": "markdown",
            "source": [
                "**A 11-15 feladatok gyakorlásra szolgálnak a közelgő zh-ra :-)**\n",
                "\n",
                "11. _Készítsünk listát az oktatók adatairól!_\n",
                "\n",
                "1. Az oktatók titulusa és neve összefűzve jelenjen meg, közöttük szóközzel!\n",
                "2. Ha valakinek nincs titulusa, akkor csak a neve jelenjen meg, szóköz nélkül!\n",
                "3. A listát rendezzük a beosztás kódja, azon belül a státusz kódja szerint növekvő sorrendbe!\n",
                "4. Az oszlopokat nevezzük el értelemszerűen!"
            ],
            "metadata": {
                "azdata_cell_guid": "d2340f5f-1614-473c-b937-85740d67f7c1"
            },
            "attachments": {}
        },
        {
            "cell_type": "code",
            "source": [
                "SELECT IIF(titulus IS NULL, nev, titulus+' '+nev) AS 'Név'\r\n",
                "FROM Oktatok\r\n",
                "ORDER BY beosztás ASC,\r\n",
                "         [status] ASC\r\n",
                ""
            ],
            "metadata": {
                "azdata_cell_guid": "e99c2c53-898f-4787-b0e6-182d106dc16f",
                "language": "sql"
            },
            "outputs": [
                {
                    "output_type": "display_data",
                    "data": {
                        "text/html": "(25 rows affected)"
                    },
                    "metadata": {}
                },
                {
                    "output_type": "display_data",
                    "data": {
                        "text/html": "Total execution time: 00:00:00.104"
                    },
                    "metadata": {}
                },
                {
                    "output_type": "execute_result",
                    "metadata": {},
                    "execution_count": 67,
                    "data": {
                        "application/vnd.dataresource+json": {
                            "schema": {
                                "fields": [
                                    {
                                        "name": "Név"
                                    }
                                ]
                            },
                            "data": [
                                {
                                    "Név": "Nógrádi Kata"
                                },
                                {
                                    "Név": "Rácz András"
                                },
                                {
                                    "Név": "Kovács András"
                                },
                                {
                                    "Név": "Ludas Mátyás"
                                },
                                {
                                    "Név": "Aranyi Mária"
                                },
                                {
                                    "Név": "Szabó Andrera"
                                },
                                {
                                    "Név": "Kiss István"
                                },
                                {
                                    "Név": "Mészáros Kriszta"
                                },
                                {
                                    "Név": "Róbert Gida"
                                },
                                {
                                    "Név": "Vitéz János"
                                },
                                {
                                    "Név": "Kiss János"
                                },
                                {
                                    "Név": "Pelikán József"
                                },
                                {
                                    "Név": "Farkasos Piroska"
                                },
                                {
                                    "Név": "Dr. Szép llonka"
                                },
                                {
                                    "Név": "Szénási ászló"
                                },
                                {
                                    "Név": "Dr. Szentágotai Istvás"
                                },
                                {
                                    "Név": "Szerb László"
                                },
                                {
                                    "Név": "Dr. Józsa Gábor"
                                },
                                {
                                    "Név": "Dr. Varga Kata"
                                },
                                {
                                    "Név": "Dr. Balkán András"
                                },
                                {
                                    "Név": "Dr. Kovacs Istvan"
                                },
                                {
                                    "Név": "Dr. Juhász András"
                                },
                                {
                                    "Név": "Prof. Jogrerős Pál"
                                },
                                {
                                    "Név": "Dr. Kovács László"
                                },
                                {
                                    "Név": "Prof, tanszékvezető Ujfalussi István"
                                }
                            ]
                        },
                        "text/html": [
                            "<table>",
                            "<tr><th>Név</th></tr>",
                            "<tr><td>Nógrádi Kata</td></tr>",
                            "<tr><td>Rácz András</td></tr>",
                            "<tr><td>Kovács András</td></tr>",
                            "<tr><td>Ludas Mátyás</td></tr>",
                            "<tr><td>Aranyi Mária</td></tr>",
                            "<tr><td>Szabó Andrera</td></tr>",
                            "<tr><td>Kiss István</td></tr>",
                            "<tr><td>Mészáros Kriszta</td></tr>",
                            "<tr><td>Róbert Gida</td></tr>",
                            "<tr><td>Vitéz János</td></tr>",
                            "<tr><td>Kiss János</td></tr>",
                            "<tr><td>Pelikán József</td></tr>",
                            "<tr><td>Farkasos Piroska</td></tr>",
                            "<tr><td>Dr. Szép llonka</td></tr>",
                            "<tr><td>Szénási ászló</td></tr>",
                            "<tr><td>Dr. Szentágotai Istvás</td></tr>",
                            "<tr><td>Szerb László</td></tr>",
                            "<tr><td>Dr. Józsa Gábor</td></tr>",
                            "<tr><td>Dr. Varga Kata</td></tr>",
                            "<tr><td>Dr. Balkán András</td></tr>",
                            "<tr><td>Dr. Kovacs Istvan</td></tr>",
                            "<tr><td>Dr. Juhász András</td></tr>",
                            "<tr><td>Prof. Jogrerős Pál</td></tr>",
                            "<tr><td>Dr. Kovács László</td></tr>",
                            "<tr><td>Prof, tanszékvezető Ujfalussi István</td></tr>",
                            "</table>"
                        ]
                    }
                }
            ],
            "execution_count": 67
        },
        {
            "cell_type": "markdown",
            "source": [
                "<span style=\"color: #09885a;\">12</span>. Készítsünk listát, amely megmutatja, hogy összesen hány tantárgy van kreditenkénti csoportosításban!\n",
                "\n",
                "  \n",
                "\n",
                "A listából hagyjuk ki azokat a tételeket, ahol ez a darabszám <span style=\"color: #09885a;\">1</span>!\n",
                "\n",
                "A Folyami gáttan tantárgyat ne vegyük figyelembe!\n",
                "\n",
                "A listát rendezzük darabszám szerint csökkenő sorrendbe!\n",
                "\n",
                "Az oszlopokat nevezzük el értelemszerűen!"
            ],
            "metadata": {
                "azdata_cell_guid": "a765e9d6-58b3-4171-872a-78f3118fd6e3"
            },
            "attachments": {}
        },
        {
            "cell_type": "code",
            "source": [
                "SELECT Kredit AS 'Kredit értéke',\r\n",
                "        Count(Tantárgynév) AS 'Tantárgyak száma'\r\n",
                "FROM Tantárgyak\r\n",
                "WHERE Tantárgynév!='Folyami gáttan'\r\n",
                "GROUP BY Kredit\r\n",
                "HAVING Count(Tantárgynév)>1\r\n",
                "ORDER BY Count(Tantárgynév) DESC"
            ],
            "metadata": {
                "azdata_cell_guid": "422e8127-b652-4d3a-bfd7-9b1637b5781e",
                "language": "sql",
                "tags": []
            },
            "outputs": [
                {
                    "output_type": "display_data",
                    "data": {
                        "text/html": "(4 rows affected)"
                    },
                    "metadata": {}
                },
                {
                    "output_type": "display_data",
                    "data": {
                        "text/html": "Total execution time: 00:00:00.007"
                    },
                    "metadata": {}
                },
                {
                    "output_type": "execute_result",
                    "metadata": {},
                    "execution_count": 74,
                    "data": {
                        "application/vnd.dataresource+json": {
                            "schema": {
                                "fields": [
                                    {
                                        "name": "Kredit értéke"
                                    },
                                    {
                                        "name": "Tantárgyak száma"
                                    }
                                ]
                            },
                            "data": [
                                {
                                    "Kredit értéke": "2",
                                    "Tantárgyak száma": "3"
                                },
                                {
                                    "Kredit értéke": "3",
                                    "Tantárgyak száma": "3"
                                },
                                {
                                    "Kredit értéke": "4",
                                    "Tantárgyak száma": "2"
                                },
                                {
                                    "Kredit értéke": "1",
                                    "Tantárgyak száma": "2"
                                }
                            ]
                        },
                        "text/html": [
                            "<table>",
                            "<tr><th>Kredit értéke</th><th>Tantárgyak száma</th></tr>",
                            "<tr><td>2</td><td>3</td></tr>",
                            "<tr><td>3</td><td>3</td></tr>",
                            "<tr><td>4</td><td>2</td></tr>",
                            "<tr><td>1</td><td>2</td></tr>",
                            "</table>"
                        ]
                    }
                }
            ],
            "execution_count": 74
        },
        {
            "cell_type": "markdown",
            "source": [
                "13. _Készítsünk listát az oktatók nevéről, a beosztásuk alapján elvárt és a tényleges óraszámukról!_\n",
                "\n",
                "1. Az oszlopok neve legyen 'Oktató neve', 'Elvárt óraszám' és 'Tényleges óraszám'\n",
                "2. Szűrjük a listát azokra az oktatókra, ahol az elvárt és a tényleges óraszám azonos"
            ],
            "metadata": {
                "azdata_cell_guid": "3f9237ae-f109-401c-acb9-31d75e73331b"
            },
            "attachments": {}
        },
        {
            "cell_type": "code",
            "source": [
                "SELECT okt.nev AS 'Oktató neve', \r\n",
                "       b.elvart 'Elvárt óraszám',\r\n",
                "       COUNT(*) AS 'Tényleges óraszám'\r\n",
                "FROM Orak o JOIN Oktatok okt ON o.tanar=okt.oktato_id\r\n",
                "            JOIN Beosztasok b ON okt.beosztás=b.beosztas_id\r\n",
                "GROUP BY okt.nev, b.elvart\r\n",
                "HAVING b.elvart=COUNT(*)"
            ],
            "metadata": {
                "azdata_cell_guid": "4b31bb89-cfbc-46b1-8639-85c462877786",
                "language": "sql",
                "tags": []
            },
            "outputs": [
                {
                    "output_type": "display_data",
                    "data": {
                        "text/html": "(4 rows affected)"
                    },
                    "metadata": {}
                },
                {
                    "output_type": "display_data",
                    "data": {
                        "text/html": "Total execution time: 00:00:00.017"
                    },
                    "metadata": {}
                },
                {
                    "output_type": "execute_result",
                    "metadata": {},
                    "execution_count": 88,
                    "data": {
                        "application/vnd.dataresource+json": {
                            "schema": {
                                "fields": [
                                    {
                                        "name": "Oktató neve"
                                    },
                                    {
                                        "name": "Elvárt óraszám"
                                    },
                                    {
                                        "name": "Tényleges óraszám"
                                    }
                                ]
                            },
                            "data": [
                                {
                                    "Oktató neve": "Jogrerős Pál",
                                    "Elvárt óraszám": "2",
                                    "Tényleges óraszám": "2"
                                },
                                {
                                    "Oktató neve": "Juhász András",
                                    "Elvárt óraszám": "2",
                                    "Tényleges óraszám": "2"
                                },
                                {
                                    "Oktató neve": "Varga Kata",
                                    "Elvárt óraszám": "4",
                                    "Tényleges óraszám": "4"
                                },
                                {
                                    "Oktató neve": "Pelikán József",
                                    "Elvárt óraszám": "6",
                                    "Tényleges óraszám": "6"
                                }
                            ]
                        },
                        "text/html": [
                            "<table>",
                            "<tr><th>Oktató neve</th><th>Elvárt óraszám</th><th>Tényleges óraszám</th></tr>",
                            "<tr><td>Jogrerős Pál</td><td>2</td><td>2</td></tr>",
                            "<tr><td>Juhász András</td><td>2</td><td>2</td></tr>",
                            "<tr><td>Varga Kata</td><td>4</td><td>4</td></tr>",
                            "<tr><td>Pelikán József</td><td>6</td><td>6</td></tr>",
                            "</table>"
                        ]
                    }
                }
            ],
            "execution_count": 88
        },
        {
            "cell_type": "markdown",
            "source": [
                "14. _Készítsünk listát, amely megmutatja, hogy mely tantárgyból nincs óra egyáltalán!_\n",
                "\n",
                "1. Csak a tantárgy neve jelenjen meg!"
            ],
            "metadata": {
                "azdata_cell_guid": "f634e09a-85ef-4e70-8ec6-ef355dfddaa7"
            },
            "attachments": {}
        },
        {
            "cell_type": "code",
            "source": [
                "SELECT tan.Tantárgynév\r\n",
                "FROM Tantárgyak tan LEFT JOIN Orak o ON tan.Tkód=o.targy\r\n",
                "WHERE o.nap IS NULL"
            ],
            "metadata": {
                "azdata_cell_guid": "88abc55b-2c78-495b-a72f-3f8f4eb5fe70",
                "language": "sql"
            },
            "outputs": [
                {
                    "output_type": "display_data",
                    "data": {
                        "text/html": "(1 row affected)"
                    },
                    "metadata": {}
                },
                {
                    "output_type": "display_data",
                    "data": {
                        "text/html": "Total execution time: 00:00:00.009"
                    },
                    "metadata": {}
                },
                {
                    "output_type": "execute_result",
                    "metadata": {},
                    "execution_count": 78,
                    "data": {
                        "application/vnd.dataresource+json": {
                            "schema": {
                                "fields": [
                                    {
                                        "name": "Tantárgynév"
                                    }
                                ]
                            },
                            "data": [
                                {
                                    "Tantárgynév": "Folyami gáttan"
                                }
                            ]
                        },
                        "text/html": [
                            "<table>",
                            "<tr><th>Tantárgynév</th></tr>",
                            "<tr><td>Folyami gáttan</td></tr>",
                            "</table>"
                        ]
                    }
                }
            ],
            "execution_count": 78
        },
        {
            "cell_type": "markdown",
            "source": [
                "15. _Hány órájuk van az óraadóknak napi bontásban?_\n",
                "\n",
                "1. Csak a napok nevét és az óraszámot jelenítsük meg!\n",
                "2. Rendezzük a listát óraszám szerint növekvő sorrendbe!"
            ],
            "metadata": {
                "azdata_cell_guid": "4cbf2f0d-a65d-480a-8186-ccdb24498443"
            },
            "attachments": {}
        },
        {
            "cell_type": "code",
            "source": [
                "SELECT n.nap\r\n",
                "FROM Orak o JOIN Oktatok okt ON o.tanar=okt.oktato_id\r\n",
                "            JOIN Napok n ON o.nap=n.nap_id"
            ],
            "metadata": {
                "azdata_cell_guid": "c148aee8-bc85-40bf-b80a-a4898a6c05cb",
                "language": "sql"
            },
            "outputs": [
                {
                    "output_type": "display_data",
                    "data": {
                        "text/html": "(67 rows affected)"
                    },
                    "metadata": {}
                },
                {
                    "output_type": "display_data",
                    "data": {
                        "text/html": "Total execution time: 00:00:00.011"
                    },
                    "metadata": {}
                },
                {
                    "output_type": "execute_result",
                    "metadata": {},
                    "execution_count": 82,
                    "data": {
                        "application/vnd.dataresource+json": {
                            "schema": {
                                "fields": [
                                    {
                                        "name": "nap"
                                    }
                                ]
                            },
                            "data": [
                                {
                                    "nap": "Szerda"
                                },
                                {
                                    "nap": "Kedd"
                                },
                                {
                                    "nap": "Hétfő"
                                },
                                {
                                    "nap": "Hétfő"
                                },
                                {
                                    "nap": "Szerda"
                                },
                                {
                                    "nap": "Kedd"
                                },
                                {
                                    "nap": "Kedd"
                                },
                                {
                                    "nap": "Kedd"
                                },
                                {
                                    "nap": "Hétfő"
                                },
                                {
                                    "nap": "Csütörtök"
                                },
                                {
                                    "nap": "Hétfő"
                                },
                                {
                                    "nap": "Hétfő"
                                },
                                {
                                    "nap": "Kedd"
                                },
                                {
                                    "nap": "Kedd"
                                },
                                {
                                    "nap": "Csütörtök"
                                },
                                {
                                    "nap": "Csütörtök"
                                },
                                {
                                    "nap": "Csütörtök"
                                },
                                {
                                    "nap": "Csütörtök"
                                },
                                {
                                    "nap": "Csütörtök"
                                },
                                {
                                    "nap": "Csütörtök"
                                },
                                {
                                    "nap": "Csütörtök"
                                },
                                {
                                    "nap": "Csütörtök"
                                },
                                {
                                    "nap": "Péntek"
                                },
                                {
                                    "nap": "Péntek"
                                },
                                {
                                    "nap": "Péntek"
                                },
                                {
                                    "nap": "Péntek"
                                },
                                {
                                    "nap": "Csütörtök"
                                },
                                {
                                    "nap": "Kedd"
                                },
                                {
                                    "nap": "Szerda"
                                },
                                {
                                    "nap": "Csütörtök"
                                },
                                {
                                    "nap": "Csütörtök"
                                },
                                {
                                    "nap": "Péntek"
                                },
                                {
                                    "nap": "Hétfő"
                                },
                                {
                                    "nap": "Hétfő"
                                },
                                {
                                    "nap": "Hétfő"
                                },
                                {
                                    "nap": "Hétfő"
                                },
                                {
                                    "nap": "Hétfő"
                                },
                                {
                                    "nap": "Hétfő"
                                },
                                {
                                    "nap": "Csütörtök"
                                },
                                {
                                    "nap": "Szerda"
                                },
                                {
                                    "nap": "Csütörtök"
                                },
                                {
                                    "nap": "Csütörtök"
                                },
                                {
                                    "nap": "Csütörtök"
                                },
                                {
                                    "nap": "Csütörtök"
                                },
                                {
                                    "nap": "Hétfő"
                                },
                                {
                                    "nap": "Kedd"
                                },
                                {
                                    "nap": "Hétfő"
                                },
                                {
                                    "nap": "Kedd"
                                },
                                {
                                    "nap": "Csütörtök"
                                },
                                {
                                    "nap": "Hétfő"
                                },
                                {
                                    "nap": "Hétfő"
                                },
                                {
                                    "nap": "Hétfő"
                                },
                                {
                                    "nap": "Hétfő"
                                },
                                {
                                    "nap": "Hétfő"
                                },
                                {
                                    "nap": "Hétfő"
                                },
                                {
                                    "nap": "Hétfő"
                                },
                                {
                                    "nap": "Hétfő"
                                },
                                {
                                    "nap": "Hétfő"
                                },
                                {
                                    "nap": "Hétfő"
                                },
                                {
                                    "nap": "Kedd"
                                },
                                {
                                    "nap": "Kedd"
                                },
                                {
                                    "nap": "Kedd"
                                },
                                {
                                    "nap": "Szerda"
                                },
                                {
                                    "nap": "Csütörtök"
                                },
                                {
                                    "nap": "Péntek"
                                },
                                {
                                    "nap": "Szerda"
                                },
                                {
                                    "nap": "Kedd"
                                }
                            ]
                        },
                        "text/html": [
                            "<table>",
                            "<tr><th>nap</th></tr>",
                            "<tr><td>Szerda</td></tr>",
                            "<tr><td>Kedd</td></tr>",
                            "<tr><td>Hétfő</td></tr>",
                            "<tr><td>Hétfő</td></tr>",
                            "<tr><td>Szerda</td></tr>",
                            "<tr><td>Kedd</td></tr>",
                            "<tr><td>Kedd</td></tr>",
                            "<tr><td>Kedd</td></tr>",
                            "<tr><td>Hétfő</td></tr>",
                            "<tr><td>Csütörtök</td></tr>",
                            "<tr><td>Hétfő</td></tr>",
                            "<tr><td>Hétfő</td></tr>",
                            "<tr><td>Kedd</td></tr>",
                            "<tr><td>Kedd</td></tr>",
                            "<tr><td>Csütörtök</td></tr>",
                            "<tr><td>Csütörtök</td></tr>",
                            "<tr><td>Csütörtök</td></tr>",
                            "<tr><td>Csütörtök</td></tr>",
                            "<tr><td>Csütörtök</td></tr>",
                            "<tr><td>Csütörtök</td></tr>",
                            "<tr><td>Csütörtök</td></tr>",
                            "<tr><td>Csütörtök</td></tr>",
                            "<tr><td>Péntek</td></tr>",
                            "<tr><td>Péntek</td></tr>",
                            "<tr><td>Péntek</td></tr>",
                            "<tr><td>Péntek</td></tr>",
                            "<tr><td>Csütörtök</td></tr>",
                            "<tr><td>Kedd</td></tr>",
                            "<tr><td>Szerda</td></tr>",
                            "<tr><td>Csütörtök</td></tr>",
                            "<tr><td>Csütörtök</td></tr>",
                            "<tr><td>Péntek</td></tr>",
                            "<tr><td>Hétfő</td></tr>",
                            "<tr><td>Hétfő</td></tr>",
                            "<tr><td>Hétfő</td></tr>",
                            "<tr><td>Hétfő</td></tr>",
                            "<tr><td>Hétfő</td></tr>",
                            "<tr><td>Hétfő</td></tr>",
                            "<tr><td>Csütörtök</td></tr>",
                            "<tr><td>Szerda</td></tr>",
                            "<tr><td>Csütörtök</td></tr>",
                            "<tr><td>Csütörtök</td></tr>",
                            "<tr><td>Csütörtök</td></tr>",
                            "<tr><td>Csütörtök</td></tr>",
                            "<tr><td>Hétfő</td></tr>",
                            "<tr><td>Kedd</td></tr>",
                            "<tr><td>Hétfő</td></tr>",
                            "<tr><td>Kedd</td></tr>",
                            "<tr><td>Csütörtök</td></tr>",
                            "<tr><td>Hétfő</td></tr>",
                            "<tr><td>Hétfő</td></tr>",
                            "<tr><td>Hétfő</td></tr>",
                            "<tr><td>Hétfő</td></tr>",
                            "<tr><td>Hétfő</td></tr>",
                            "<tr><td>Hétfő</td></tr>",
                            "<tr><td>Hétfő</td></tr>",
                            "<tr><td>Hétfő</td></tr>",
                            "<tr><td>Hétfő</td></tr>",
                            "<tr><td>Hétfő</td></tr>",
                            "<tr><td>Kedd</td></tr>",
                            "<tr><td>Kedd</td></tr>",
                            "<tr><td>Kedd</td></tr>",
                            "<tr><td>Szerda</td></tr>",
                            "<tr><td>Csütörtök</td></tr>",
                            "<tr><td>Péntek</td></tr>",
                            "<tr><td>Szerda</td></tr>",
                            "<tr><td>Kedd</td></tr>",
                            "</table>"
                        ]
                    }
                }
            ],
            "execution_count": 82
        }
    ]
}