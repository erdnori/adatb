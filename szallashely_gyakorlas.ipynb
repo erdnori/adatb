{
    "metadata": {
        "kernelspec": {
            "name": "SQL",
            "display_name": "SQL",
            "language": "sql"
        },
        "language_info": {
            "name": "sql",
            "version": ""
        }
    },
    "nbformat_minor": 2,
    "nbformat": 4,
    "cells": [
        {
            "cell_type": "code",
            "source": [
                "SELECT USERNEV AS 'Azonosító',\r\n",
                "       NEV AS 'Név',\r\n",
                "       UPPER(LEFT(NEV,1)+RIGHT(NEV,1)) AS 'Monogram'\r\n",
                "FROM Vendeg\r\n",
                "WHERE EMAIL LIKE'%.hu'"
            ],
            "metadata": {
                "azdata_cell_guid": "59187fc3-279a-44bf-a2fb-934a77c7b1f5",
                "language": "sql"
            },
            "outputs": [
                {
                    "output_type": "display_data",
                    "data": {
                        "text/html": "(107 rows affected)"
                    },
                    "metadata": {}
                },
                {
                    "output_type": "display_data",
                    "data": {
                        "text/html": "Total execution time: 00:00:00.060"
                    },
                    "metadata": {}
                },
                {
                    "output_type": "execute_result",
                    "metadata": {},
                    "execution_count": 16,
                    "data": {
                        "application/vnd.dataresource+json": {
                            "schema": {
                                "fields": [
                                    {
                                        "name": "Azonosító"
                                    },
                                    {
                                        "name": "Név"
                                    },
                                    {
                                        "name": "Monogram"
                                    }
                                ]
                            },
                            "data": [
                                {
                                    "Azonosító": "adam1",
                                    "Név": "Kiss Ádám",
                                    "Monogram": "KM"
                                },
                                {
                                    "Azonosító": "adam4",
                                    "Név": "Bieniek Ádám",
                                    "Monogram": "BM"
                                },
                                {
                                    "Azonosító": "akos",
                                    "Név": "Bíró Ákos",
                                    "Monogram": "BS"
                                },
                                {
                                    "Azonosító": "aladar",
                                    "Név": "Dunai Aladár",
                                    "Monogram": "DR"
                                },
                                {
                                    "Azonosító": "alexandra",
                                    "Név": "Bagóczki Alexandra",
                                    "Monogram": "BA"
                                },
                                {
                                    "Azonosító": "andi",
                                    "Név": "Maródi Andrea",
                                    "Monogram": "MA"
                                },
                                {
                                    "Azonosító": "andras2",
                                    "Név": "Tóth András",
                                    "Monogram": "TS"
                                },
                                {
                                    "Azonosító": "andras21",
                                    "Név": "Molnár András",
                                    "Monogram": "MS"
                                },
                                {
                                    "Azonosító": "andras3",
                                    "Név": "Vígh András",
                                    "Monogram": "VS"
                                },
                                {
                                    "Azonosító": "ANDRASN",
                                    "Név": "Nagy András",
                                    "Monogram": "NS"
                                },
                                {
                                    "Azonosító": "andrea",
                                    "Név": "Kiss Andrea",
                                    "Monogram": "KA"
                                },
                                {
                                    "Azonosító": "anett3",
                                    "Név": "Pivarcsi Anett",
                                    "Monogram": "PT"
                                },
                                {
                                    "Azonosító": "anita",
                                    "Név": "Hamvay-Kovács Anita",
                                    "Monogram": "HA"
                                },
                                {
                                    "Azonosító": "annamaria1",
                                    "Név": "Szűcs Annamária",
                                    "Monogram": "SA"
                                },
                                {
                                    "Azonosító": "ARONK",
                                    "Név": "Kelemen Áron",
                                    "Monogram": "KN"
                                },
                                {
                                    "Azonosító": "arpad2",
                                    "Név": "Ötvös Árpád",
                                    "Monogram": "ÖD"
                                },
                                {
                                    "Azonosító": "ARPADH",
                                    "Név": "Horváth Árpád",
                                    "Monogram": "HD"
                                },
                                {
                                    "Azonosító": "ARPADM",
                                    "Név": "Móricz Árpád",
                                    "Monogram": "MD"
                                },
                                {
                                    "Azonosító": "attila1",
                                    "Név": "Gulyás Attila",
                                    "Monogram": "GA"
                                },
                                {
                                    "Azonosító": "attila4",
                                    "Név": "Baróti Attila",
                                    "Monogram": "BA"
                                },
                                {
                                    "Azonosító": "balazs1",
                                    "Név": "Bozsik Balázs",
                                    "Monogram": "BS"
                                },
                                {
                                    "Azonosító": "balazs2",
                                    "Név": "Szűcs Balázs",
                                    "Monogram": "SS"
                                },
                                {
                                    "Azonosító": "balu",
                                    "Név": "Endresz Bálint",
                                    "Monogram": "ET"
                                },
                                {
                                    "Azonosító": "beata4",
                                    "Név": "Bagi Beáta",
                                    "Monogram": "BA"
                                },
                                {
                                    "Azonosító": "BEATRIXK",
                                    "Név": "Kerényi Beatrix",
                                    "Monogram": "KX"
                                },
                                {
                                    "Azonosító": "BEATRIXS",
                                    "Név": "Szekendi Beatrix",
                                    "Monogram": "SX"
                                },
                                {
                                    "Azonosító": "BENCEB",
                                    "Név": "Bajusz Bence",
                                    "Monogram": "BE"
                                },
                                {
                                    "Azonosító": "bernadett2",
                                    "Név": "Kovács Bernadett",
                                    "Monogram": "KT"
                                },
                                {
                                    "Azonosító": "BERNADETTO",
                                    "Név": "Orbán Bernadett",
                                    "Monogram": "OT"
                                },
                                {
                                    "Azonosító": "brigitta",
                                    "Név": "Székely Brigitta",
                                    "Monogram": "SA"
                                },
                                {
                                    "Azonosító": "brigitta3",
                                    "Név": "Pataki Brigitta",
                                    "Monogram": "PA"
                                },
                                {
                                    "Azonosító": "csongor3",
                                    "Név": "Nagymihály Csongor",
                                    "Monogram": "NR"
                                },
                                {
                                    "Azonosító": "daniel",
                                    "Név": "Rácz Dániel",
                                    "Monogram": "RL"
                                },
                                {
                                    "Azonosító": "daniel1",
                                    "Név": "Keszler Dániel",
                                    "Monogram": "KL"
                                },
                                {
                                    "Azonosító": "debora",
                                    "Név": "Barna Debóra",
                                    "Monogram": "BA"
                                },
                                {
                                    "Azonosító": "dora3",
                                    "Név": "Sarodi Dóra",
                                    "Monogram": "SA"
                                },
                                {
                                    "Azonosító": "edit",
                                    "Név": "Bittmann Edit",
                                    "Monogram": "BT"
                                },
                                {
                                    "Azonosító": "emese",
                                    "Név": "Kuruc Emese",
                                    "Monogram": "KE"
                                },
                                {
                                    "Azonosító": "eszter",
                                    "Név": "Molnár Eszter",
                                    "Monogram": "MR"
                                },
                                {
                                    "Azonosító": "eszter2",
                                    "Név": "Balogh Eszter",
                                    "Monogram": "BR"
                                },
                                {
                                    "Azonosító": "eszter4",
                                    "Név": "Fülöp Eszter",
                                    "Monogram": "FR"
                                },
                                {
                                    "Azonosító": "ESZTERE",
                                    "Név": "Érsek Eszter",
                                    "Monogram": "ÉR"
                                },
                                {
                                    "Azonosító": "ferenc1",
                                    "Név": "Orosz Ferenc",
                                    "Monogram": "OC"
                                },
                                {
                                    "Azonosító": "gabor4",
                                    "Név": "Telek Gábor",
                                    "Monogram": "TR"
                                },
                                {
                                    "Azonosító": "georgij",
                                    "Név": "Nyíri Georgij",
                                    "Monogram": "NJ"
                                },
                                {
                                    "Azonosító": "GYONGYIK",
                                    "Név": "Kornseé Gyöngyi",
                                    "Monogram": "KI"
                                },
                                {
                                    "Azonosító": "henrik3",
                                    "Név": "Nádudvari Henrik",
                                    "Monogram": "NK"
                                },
                                {
                                    "Azonosító": "IBOLYAA",
                                    "Név": "Andor Ibolya",
                                    "Monogram": "AA"
                                },
                                {
                                    "Azonosító": "imre",
                                    "Név": "Búza Imre",
                                    "Monogram": "BE"
                                },
                                {
                                    "Azonosító": "imre1",
                                    "Név": "Papp Imre",
                                    "Monogram": "PE"
                                },
                                {
                                    "Azonosító": "istvan1",
                                    "Név": "Vizi István",
                                    "Monogram": "VN"
                                },
                                {
                                    "Azonosító": "jozsef2",
                                    "Név": "Vajda József",
                                    "Monogram": "VF"
                                },
                                {
                                    "Azonosító": "JOZSEFG",
                                    "Név": "Gyuris József",
                                    "Monogram": "GF"
                                },
                                {
                                    "Azonosító": "kata",
                                    "Név": "Gondos Katalin",
                                    "Monogram": "GN"
                                },
                                {
                                    "Azonosító": "katalin",
                                    "Név": "Horváth Katalin",
                                    "Monogram": "HN"
                                },
                                {
                                    "Azonosító": "kati",
                                    "Név": "Zatykó Katalin",
                                    "Monogram": "ZN"
                                },
                                {
                                    "Azonosító": "katka",
                                    "Név": "Kovács Katalin",
                                    "Monogram": "KN"
                                },
                                {
                                    "Azonosító": "klaudia2",
                                    "Név": "Bakó Klaudia",
                                    "Monogram": "BA"
                                },
                                {
                                    "Azonosító": "kornel4",
                                    "Név": "Lukács Kornél",
                                    "Monogram": "LL"
                                },
                                {
                                    "Azonosító": "krisztian4",
                                    "Név": "Czérna Krisztián",
                                    "Monogram": "CN"
                                },
                                {
                                    "Azonosító": "krisztina1",
                                    "Név": "Bori Krisztina",
                                    "Monogram": "BA"
                                },
                                {
                                    "Azonosító": "lajos",
                                    "Név": "Kiss Lajos",
                                    "Monogram": "KS"
                                },
                                {
                                    "Azonosító": "lala",
                                    "Név": "Nagymihály Lajos",
                                    "Monogram": "NS"
                                },
                                {
                                    "Azonosító": "laszlo1",
                                    "Név": "Farkas László",
                                    "Monogram": "FÓ"
                                },
                                {
                                    "Azonosító": "laszlo2",
                                    "Név": "Móra László",
                                    "Monogram": "MÓ"
                                },
                                {
                                    "Azonosító": "LASZLOA",
                                    "Név": "Antal László",
                                    "Monogram": "AÓ"
                                },
                                {
                                    "Azonosító": "LASZLON",
                                    "Név": "Nagy László",
                                    "Monogram": "NÓ"
                                },
                                {
                                    "Azonosító": "maria1",
                                    "Név": "Baráth Mária",
                                    "Monogram": "BA"
                                },
                                {
                                    "Azonosító": "mark",
                                    "Név": "Kispál Márk",
                                    "Monogram": "KK"
                                },
                                {
                                    "Azonosító": "MARKH",
                                    "Név": "Horváth Márk",
                                    "Monogram": "HK"
                                },
                                {
                                    "Azonosító": "MATEK",
                                    "Név": "Koza Máté",
                                    "Monogram": "KÉ"
                                },
                                {
                                    "Azonosító": "MATYASS",
                                    "Név": "Szilágyi Mátyás",
                                    "Monogram": "SS"
                                },
                                {
                                    "Azonosító": "MIHALYJ",
                                    "Név": "Juhász Mihály",
                                    "Monogram": "JY"
                                },
                                {
                                    "Azonosító": "MIKLOSB",
                                    "Név": "Balla Miklós",
                                    "Monogram": "BS"
                                },
                                {
                                    "Azonosító": "MONIKAM",
                                    "Név": "Mohos Mónika",
                                    "Monogram": "MA"
                                },
                                {
                                    "Azonosító": "NANDORF",
                                    "Név": "Fő Nándor",
                                    "Monogram": "FR"
                                },
                                {
                                    "Azonosító": "NIKOLETTAT",
                                    "Név": "Tatár Nikoletta",
                                    "Monogram": "TA"
                                },
                                {
                                    "Azonosító": "norbert2",
                                    "Név": "Hegedűs Norbert",
                                    "Monogram": "HT"
                                },
                                {
                                    "Azonosító": "pal",
                                    "Név": "Barabás Pál",
                                    "Monogram": "BL"
                                },
                                {
                                    "Azonosító": "peter4",
                                    "Név": "Bíró Péter",
                                    "Monogram": "BR"
                                },
                                {
                                    "Azonosító": "PETERB",
                                    "Név": "Berendi Péter",
                                    "Monogram": "BR"
                                },
                                {
                                    "Azonosító": "rajmond4",
                                    "Név": "Rácz Rajmond",
                                    "Monogram": "RD"
                                },
                                {
                                    "Azonosító": "reka4",
                                    "Név": "Szikszai Réka",
                                    "Monogram": "SA"
                                },
                                {
                                    "Azonosító": "RENATAK",
                                    "Név": "Kardos Renáta",
                                    "Monogram": "KA"
                                },
                                {
                                    "Azonosító": "ROBERTI",
                                    "Név": "Iván Róbert",
                                    "Monogram": "IT"
                                },
                                {
                                    "Azonosító": "roland1",
                                    "Név": "Ferencz Roland",
                                    "Monogram": "FD"
                                },
                                {
                                    "Azonosító": "sandor3",
                                    "Név": "Farkas Sándor",
                                    "Monogram": "FR"
                                },
                                {
                                    "Azonosító": "sara",
                                    "Név": "Farkas Sára",
                                    "Monogram": "FA"
                                },
                                {
                                    "Azonosító": "szabolcs",
                                    "Név": "Bodor Szabolcs",
                                    "Monogram": "BS"
                                },
                                {
                                    "Azonosító": "SZABOLCSM",
                                    "Név": "Miklós Szabolcs",
                                    "Monogram": "MS"
                                },
                                {
                                    "Azonosító": "SZILARDS",
                                    "Név": "Szalai Szilárd",
                                    "Monogram": "SD"
                                },
                                {
                                    "Azonosító": "szilvia1",
                                    "Név": "Tari Szilvia",
                                    "Monogram": "TA"
                                },
                                {
                                    "Azonosító": "tamara2",
                                    "Név": "Miklós Tamara",
                                    "Monogram": "MA"
                                },
                                {
                                    "Azonosító": "tamas",
                                    "Név": "Antal Tamás",
                                    "Monogram": "AS"
                                },
                                {
                                    "Azonosító": "tibor",
                                    "Név": "Gombos Tibor",
                                    "Monogram": "GR"
                                },
                                {
                                    "Azonosító": "tihamer",
                                    "Név": "Kazy Tihamér",
                                    "Monogram": "KR"
                                },
                                {
                                    "Azonosító": "timea2",
                                    "Név": "Dusha Tímea",
                                    "Monogram": "DA"
                                },
                                {
                                    "Azonosító": "valentin",
                                    "Név": "Feró Valentin",
                                    "Monogram": "FN"
                                },
                                {
                                    "Azonosító": "VIKTORIAU",
                                    "Név": "Urbán Viktoria",
                                    "Monogram": "UA"
                                },
                                {
                                    "Azonosító": "VIKTORK",
                                    "Név": "Keresztúri Viktor",
                                    "Monogram": "KR"
                                },
                                {
                                    "Azonosító": "zoltan",
                                    "Név": "Fodor Zoltán",
                                    "Monogram": "FN"
                                },
                                {
                                    "Azonosító": "ZOLTANP",
                                    "Név": "Pintér Zoltán",
                                    "Monogram": "PN"
                                },
                                {
                                    "Azonosító": "ZOLTANT",
                                    "Név": "Tóth Zoltán",
                                    "Monogram": "TN"
                                },
                                {
                                    "Azonosító": "zsolt1",
                                    "Név": "Pulai Zsolt",
                                    "Monogram": "PT"
                                },
                                {
                                    "Azonosító": "zsuzsa3",
                                    "Név": "Varsányi Zsuzsa",
                                    "Monogram": "VA"
                                },
                                {
                                    "Azonosító": "zsuzsanna",
                                    "Név": "Barta Zsuzsanna",
                                    "Monogram": "BA"
                                },
                                {
                                    "Azonosító": "ZSUZSAV",
                                    "Név": "Vajda Zsuzsa",
                                    "Monogram": "VA"
                                }
                            ]
                        },
                        "text/html": [
                            "<table>",
                            "<tr><th>Azonosító</th><th>Név</th><th>Monogram</th></tr>",
                            "<tr><td>adam1</td><td>Kiss Ádám</td><td>KM</td></tr>",
                            "<tr><td>adam4</td><td>Bieniek Ádám</td><td>BM</td></tr>",
                            "<tr><td>akos</td><td>Bíró Ákos</td><td>BS</td></tr>",
                            "<tr><td>aladar</td><td>Dunai Aladár</td><td>DR</td></tr>",
                            "<tr><td>alexandra</td><td>Bagóczki Alexandra</td><td>BA</td></tr>",
                            "<tr><td>andi</td><td>Maródi Andrea</td><td>MA</td></tr>",
                            "<tr><td>andras2</td><td>Tóth András</td><td>TS</td></tr>",
                            "<tr><td>andras21</td><td>Molnár András</td><td>MS</td></tr>",
                            "<tr><td>andras3</td><td>Vígh András</td><td>VS</td></tr>",
                            "<tr><td>ANDRASN</td><td>Nagy András</td><td>NS</td></tr>",
                            "<tr><td>andrea</td><td>Kiss Andrea</td><td>KA</td></tr>",
                            "<tr><td>anett3</td><td>Pivarcsi Anett</td><td>PT</td></tr>",
                            "<tr><td>anita</td><td>Hamvay-Kovács Anita</td><td>HA</td></tr>",
                            "<tr><td>annamaria1</td><td>Szűcs Annamária</td><td>SA</td></tr>",
                            "<tr><td>ARONK</td><td>Kelemen Áron</td><td>KN</td></tr>",
                            "<tr><td>arpad2</td><td>Ötvös Árpád</td><td>ÖD</td></tr>",
                            "<tr><td>ARPADH</td><td>Horváth Árpád</td><td>HD</td></tr>",
                            "<tr><td>ARPADM</td><td>Móricz Árpád</td><td>MD</td></tr>",
                            "<tr><td>attila1</td><td>Gulyás Attila</td><td>GA</td></tr>",
                            "<tr><td>attila4</td><td>Baróti Attila</td><td>BA</td></tr>",
                            "<tr><td>balazs1</td><td>Bozsik Balázs</td><td>BS</td></tr>",
                            "<tr><td>balazs2</td><td>Szűcs Balázs</td><td>SS</td></tr>",
                            "<tr><td>balu</td><td>Endresz Bálint</td><td>ET</td></tr>",
                            "<tr><td>beata4</td><td>Bagi Beáta</td><td>BA</td></tr>",
                            "<tr><td>BEATRIXK</td><td>Kerényi Beatrix</td><td>KX</td></tr>",
                            "<tr><td>BEATRIXS</td><td>Szekendi Beatrix</td><td>SX</td></tr>",
                            "<tr><td>BENCEB</td><td>Bajusz Bence</td><td>BE</td></tr>",
                            "<tr><td>bernadett2</td><td>Kovács Bernadett</td><td>KT</td></tr>",
                            "<tr><td>BERNADETTO</td><td>Orbán Bernadett</td><td>OT</td></tr>",
                            "<tr><td>brigitta</td><td>Székely Brigitta</td><td>SA</td></tr>",
                            "<tr><td>brigitta3</td><td>Pataki Brigitta</td><td>PA</td></tr>",
                            "<tr><td>csongor3</td><td>Nagymihály Csongor</td><td>NR</td></tr>",
                            "<tr><td>daniel</td><td>Rácz Dániel</td><td>RL</td></tr>",
                            "<tr><td>daniel1</td><td>Keszler Dániel</td><td>KL</td></tr>",
                            "<tr><td>debora</td><td>Barna Debóra</td><td>BA</td></tr>",
                            "<tr><td>dora3</td><td>Sarodi Dóra</td><td>SA</td></tr>",
                            "<tr><td>edit</td><td>Bittmann Edit</td><td>BT</td></tr>",
                            "<tr><td>emese</td><td>Kuruc Emese</td><td>KE</td></tr>",
                            "<tr><td>eszter</td><td>Molnár Eszter</td><td>MR</td></tr>",
                            "<tr><td>eszter2</td><td>Balogh Eszter</td><td>BR</td></tr>",
                            "<tr><td>eszter4</td><td>Fülöp Eszter</td><td>FR</td></tr>",
                            "<tr><td>ESZTERE</td><td>Érsek Eszter</td><td>ÉR</td></tr>",
                            "<tr><td>ferenc1</td><td>Orosz Ferenc</td><td>OC</td></tr>",
                            "<tr><td>gabor4</td><td>Telek Gábor</td><td>TR</td></tr>",
                            "<tr><td>georgij</td><td>Nyíri Georgij</td><td>NJ</td></tr>",
                            "<tr><td>GYONGYIK</td><td>Kornseé Gyöngyi</td><td>KI</td></tr>",
                            "<tr><td>henrik3</td><td>Nádudvari Henrik</td><td>NK</td></tr>",
                            "<tr><td>IBOLYAA</td><td>Andor Ibolya</td><td>AA</td></tr>",
                            "<tr><td>imre</td><td>Búza Imre</td><td>BE</td></tr>",
                            "<tr><td>imre1</td><td>Papp Imre</td><td>PE</td></tr>",
                            "<tr><td>istvan1</td><td>Vizi István</td><td>VN</td></tr>",
                            "<tr><td>jozsef2</td><td>Vajda József</td><td>VF</td></tr>",
                            "<tr><td>JOZSEFG</td><td>Gyuris József</td><td>GF</td></tr>",
                            "<tr><td>kata</td><td>Gondos Katalin</td><td>GN</td></tr>",
                            "<tr><td>katalin</td><td>Horváth Katalin</td><td>HN</td></tr>",
                            "<tr><td>kati</td><td>Zatykó Katalin</td><td>ZN</td></tr>",
                            "<tr><td>katka</td><td>Kovács Katalin</td><td>KN</td></tr>",
                            "<tr><td>klaudia2</td><td>Bakó Klaudia</td><td>BA</td></tr>",
                            "<tr><td>kornel4</td><td>Lukács Kornél</td><td>LL</td></tr>",
                            "<tr><td>krisztian4</td><td>Czérna Krisztián</td><td>CN</td></tr>",
                            "<tr><td>krisztina1</td><td>Bori Krisztina</td><td>BA</td></tr>",
                            "<tr><td>lajos</td><td>Kiss Lajos</td><td>KS</td></tr>",
                            "<tr><td>lala</td><td>Nagymihály Lajos</td><td>NS</td></tr>",
                            "<tr><td>laszlo1</td><td>Farkas László</td><td>FÓ</td></tr>",
                            "<tr><td>laszlo2</td><td>Móra László</td><td>MÓ</td></tr>",
                            "<tr><td>LASZLOA</td><td>Antal László</td><td>AÓ</td></tr>",
                            "<tr><td>LASZLON</td><td>Nagy László</td><td>NÓ</td></tr>",
                            "<tr><td>maria1</td><td>Baráth Mária</td><td>BA</td></tr>",
                            "<tr><td>mark</td><td>Kispál Márk</td><td>KK</td></tr>",
                            "<tr><td>MARKH</td><td>Horváth Márk</td><td>HK</td></tr>",
                            "<tr><td>MATEK</td><td>Koza Máté</td><td>KÉ</td></tr>",
                            "<tr><td>MATYASS</td><td>Szilágyi Mátyás</td><td>SS</td></tr>",
                            "<tr><td>MIHALYJ</td><td>Juhász Mihály</td><td>JY</td></tr>",
                            "<tr><td>MIKLOSB</td><td>Balla Miklós</td><td>BS</td></tr>",
                            "<tr><td>MONIKAM</td><td>Mohos Mónika</td><td>MA</td></tr>",
                            "<tr><td>NANDORF</td><td>Fő Nándor</td><td>FR</td></tr>",
                            "<tr><td>NIKOLETTAT</td><td>Tatár Nikoletta</td><td>TA</td></tr>",
                            "<tr><td>norbert2</td><td>Hegedűs Norbert</td><td>HT</td></tr>",
                            "<tr><td>pal</td><td>Barabás Pál</td><td>BL</td></tr>",
                            "<tr><td>peter4</td><td>Bíró Péter</td><td>BR</td></tr>",
                            "<tr><td>PETERB</td><td>Berendi Péter</td><td>BR</td></tr>",
                            "<tr><td>rajmond4</td><td>Rácz Rajmond</td><td>RD</td></tr>",
                            "<tr><td>reka4</td><td>Szikszai Réka</td><td>SA</td></tr>",
                            "<tr><td>RENATAK</td><td>Kardos Renáta</td><td>KA</td></tr>",
                            "<tr><td>ROBERTI</td><td>Iván Róbert</td><td>IT</td></tr>",
                            "<tr><td>roland1</td><td>Ferencz Roland</td><td>FD</td></tr>",
                            "<tr><td>sandor3</td><td>Farkas Sándor</td><td>FR</td></tr>",
                            "<tr><td>sara</td><td>Farkas Sára</td><td>FA</td></tr>",
                            "<tr><td>szabolcs</td><td>Bodor Szabolcs</td><td>BS</td></tr>",
                            "<tr><td>SZABOLCSM</td><td>Miklós Szabolcs</td><td>MS</td></tr>",
                            "<tr><td>SZILARDS</td><td>Szalai Szilárd</td><td>SD</td></tr>",
                            "<tr><td>szilvia1</td><td>Tari Szilvia</td><td>TA</td></tr>",
                            "<tr><td>tamara2</td><td>Miklós Tamara</td><td>MA</td></tr>",
                            "<tr><td>tamas</td><td>Antal Tamás</td><td>AS</td></tr>",
                            "<tr><td>tibor</td><td>Gombos Tibor</td><td>GR</td></tr>",
                            "<tr><td>tihamer</td><td>Kazy Tihamér</td><td>KR</td></tr>",
                            "<tr><td>timea2</td><td>Dusha Tímea</td><td>DA</td></tr>",
                            "<tr><td>valentin</td><td>Feró Valentin</td><td>FN</td></tr>",
                            "<tr><td>VIKTORIAU</td><td>Urbán Viktoria</td><td>UA</td></tr>",
                            "<tr><td>VIKTORK</td><td>Keresztúri Viktor</td><td>KR</td></tr>",
                            "<tr><td>zoltan</td><td>Fodor Zoltán</td><td>FN</td></tr>",
                            "<tr><td>ZOLTANP</td><td>Pintér Zoltán</td><td>PN</td></tr>",
                            "<tr><td>ZOLTANT</td><td>Tóth Zoltán</td><td>TN</td></tr>",
                            "<tr><td>zsolt1</td><td>Pulai Zsolt</td><td>PT</td></tr>",
                            "<tr><td>zsuzsa3</td><td>Varsányi Zsuzsa</td><td>VA</td></tr>",
                            "<tr><td>zsuzsanna</td><td>Barta Zsuzsanna</td><td>BA</td></tr>",
                            "<tr><td>ZSUZSAV</td><td>Vajda Zsuzsa</td><td>VA</td></tr>",
                            "</table>"
                        ]
                    }
                }
            ],
            "execution_count": 16
        },
        {
            "cell_type": "code",
            "source": [
                "--Ha a hagyományos monogram kellene:\r\n",
                "\r\n",
                "SELECT USERNEV AS 'Azonosító',\r\n",
                "       NEV AS 'Név',\r\n",
                "       UPPER(LEFT(NEV,1))+UPPER(SUBSTRING(NEV, CHARINDEX(' ', NEV) + 1, 1)) AS 'Monogram'\r\n",
                "FROM Vendeg\r\n",
                "WHERE EMAIL LIKE'%.hu'"
            ],
            "metadata": {
                "language": "sql",
                "azdata_cell_guid": "2239e000-e805-4f60-8350-55aa8a301bcb"
            },
            "outputs": [
                {
                    "output_type": "display_data",
                    "data": {
                        "text/html": "(107 rows affected)"
                    },
                    "metadata": {}
                },
                {
                    "output_type": "display_data",
                    "data": {
                        "text/html": "Total execution time: 00:00:00.071"
                    },
                    "metadata": {}
                },
                {
                    "output_type": "execute_result",
                    "metadata": {},
                    "execution_count": 19,
                    "data": {
                        "application/vnd.dataresource+json": {
                            "schema": {
                                "fields": [
                                    {
                                        "name": "Azonosító"
                                    },
                                    {
                                        "name": "Név"
                                    },
                                    {
                                        "name": "Monogram"
                                    }
                                ]
                            },
                            "data": [
                                {
                                    "Azonosító": "adam1",
                                    "Név": "Kiss Ádám",
                                    "Monogram": "KÁ"
                                },
                                {
                                    "Azonosító": "adam4",
                                    "Név": "Bieniek Ádám",
                                    "Monogram": "BÁ"
                                },
                                {
                                    "Azonosító": "akos",
                                    "Név": "Bíró Ákos",
                                    "Monogram": "BÁ"
                                },
                                {
                                    "Azonosító": "aladar",
                                    "Név": "Dunai Aladár",
                                    "Monogram": "DA"
                                },
                                {
                                    "Azonosító": "alexandra",
                                    "Név": "Bagóczki Alexandra",
                                    "Monogram": "BA"
                                },
                                {
                                    "Azonosító": "andi",
                                    "Név": "Maródi Andrea",
                                    "Monogram": "MA"
                                },
                                {
                                    "Azonosító": "andras2",
                                    "Név": "Tóth András",
                                    "Monogram": "TA"
                                },
                                {
                                    "Azonosító": "andras21",
                                    "Név": "Molnár András",
                                    "Monogram": "MA"
                                },
                                {
                                    "Azonosító": "andras3",
                                    "Név": "Vígh András",
                                    "Monogram": "VA"
                                },
                                {
                                    "Azonosító": "ANDRASN",
                                    "Név": "Nagy András",
                                    "Monogram": "NA"
                                },
                                {
                                    "Azonosító": "andrea",
                                    "Név": "Kiss Andrea",
                                    "Monogram": "KA"
                                },
                                {
                                    "Azonosító": "anett3",
                                    "Név": "Pivarcsi Anett",
                                    "Monogram": "PA"
                                },
                                {
                                    "Azonosító": "anita",
                                    "Név": "Hamvay-Kovács Anita",
                                    "Monogram": "HA"
                                },
                                {
                                    "Azonosító": "annamaria1",
                                    "Név": "Szűcs Annamária",
                                    "Monogram": "SA"
                                },
                                {
                                    "Azonosító": "ARONK",
                                    "Név": "Kelemen Áron",
                                    "Monogram": "KÁ"
                                },
                                {
                                    "Azonosító": "arpad2",
                                    "Név": "Ötvös Árpád",
                                    "Monogram": "ÖÁ"
                                },
                                {
                                    "Azonosító": "ARPADH",
                                    "Név": "Horváth Árpád",
                                    "Monogram": "HÁ"
                                },
                                {
                                    "Azonosító": "ARPADM",
                                    "Név": "Móricz Árpád",
                                    "Monogram": "MÁ"
                                },
                                {
                                    "Azonosító": "attila1",
                                    "Név": "Gulyás Attila",
                                    "Monogram": "GA"
                                },
                                {
                                    "Azonosító": "attila4",
                                    "Név": "Baróti Attila",
                                    "Monogram": "BA"
                                },
                                {
                                    "Azonosító": "balazs1",
                                    "Név": "Bozsik Balázs",
                                    "Monogram": "BB"
                                },
                                {
                                    "Azonosító": "balazs2",
                                    "Név": "Szűcs Balázs",
                                    "Monogram": "SB"
                                },
                                {
                                    "Azonosító": "balu",
                                    "Név": "Endresz Bálint",
                                    "Monogram": "EB"
                                },
                                {
                                    "Azonosító": "beata4",
                                    "Név": "Bagi Beáta",
                                    "Monogram": "BB"
                                },
                                {
                                    "Azonosító": "BEATRIXK",
                                    "Név": "Kerényi Beatrix",
                                    "Monogram": "KB"
                                },
                                {
                                    "Azonosító": "BEATRIXS",
                                    "Név": "Szekendi Beatrix",
                                    "Monogram": "SB"
                                },
                                {
                                    "Azonosító": "BENCEB",
                                    "Név": "Bajusz Bence",
                                    "Monogram": "BB"
                                },
                                {
                                    "Azonosító": "bernadett2",
                                    "Név": "Kovács Bernadett",
                                    "Monogram": "KB"
                                },
                                {
                                    "Azonosító": "BERNADETTO",
                                    "Név": "Orbán Bernadett",
                                    "Monogram": "OB"
                                },
                                {
                                    "Azonosító": "brigitta",
                                    "Név": "Székely Brigitta",
                                    "Monogram": "SB"
                                },
                                {
                                    "Azonosító": "brigitta3",
                                    "Név": "Pataki Brigitta",
                                    "Monogram": "PB"
                                },
                                {
                                    "Azonosító": "csongor3",
                                    "Név": "Nagymihály Csongor",
                                    "Monogram": "NC"
                                },
                                {
                                    "Azonosító": "daniel",
                                    "Név": "Rácz Dániel",
                                    "Monogram": "RD"
                                },
                                {
                                    "Azonosító": "daniel1",
                                    "Név": "Keszler Dániel",
                                    "Monogram": "KD"
                                },
                                {
                                    "Azonosító": "debora",
                                    "Név": "Barna Debóra",
                                    "Monogram": "BD"
                                },
                                {
                                    "Azonosító": "dora3",
                                    "Név": "Sarodi Dóra",
                                    "Monogram": "SD"
                                },
                                {
                                    "Azonosító": "edit",
                                    "Név": "Bittmann Edit",
                                    "Monogram": "BE"
                                },
                                {
                                    "Azonosító": "emese",
                                    "Név": "Kuruc Emese",
                                    "Monogram": "KE"
                                },
                                {
                                    "Azonosító": "eszter",
                                    "Név": "Molnár Eszter",
                                    "Monogram": "ME"
                                },
                                {
                                    "Azonosító": "eszter2",
                                    "Név": "Balogh Eszter",
                                    "Monogram": "BE"
                                },
                                {
                                    "Azonosító": "eszter4",
                                    "Név": "Fülöp Eszter",
                                    "Monogram": "FE"
                                },
                                {
                                    "Azonosító": "ESZTERE",
                                    "Név": "Érsek Eszter",
                                    "Monogram": "ÉE"
                                },
                                {
                                    "Azonosító": "ferenc1",
                                    "Név": "Orosz Ferenc",
                                    "Monogram": "OF"
                                },
                                {
                                    "Azonosító": "gabor4",
                                    "Név": "Telek Gábor",
                                    "Monogram": "TG"
                                },
                                {
                                    "Azonosító": "georgij",
                                    "Név": "Nyíri Georgij",
                                    "Monogram": "NG"
                                },
                                {
                                    "Azonosító": "GYONGYIK",
                                    "Név": "Kornseé Gyöngyi",
                                    "Monogram": "KG"
                                },
                                {
                                    "Azonosító": "henrik3",
                                    "Név": "Nádudvari Henrik",
                                    "Monogram": "NH"
                                },
                                {
                                    "Azonosító": "IBOLYAA",
                                    "Név": "Andor Ibolya",
                                    "Monogram": "AI"
                                },
                                {
                                    "Azonosító": "imre",
                                    "Név": "Búza Imre",
                                    "Monogram": "BI"
                                },
                                {
                                    "Azonosító": "imre1",
                                    "Név": "Papp Imre",
                                    "Monogram": "PI"
                                },
                                {
                                    "Azonosító": "istvan1",
                                    "Név": "Vizi István",
                                    "Monogram": "VI"
                                },
                                {
                                    "Azonosító": "jozsef2",
                                    "Név": "Vajda József",
                                    "Monogram": "VJ"
                                },
                                {
                                    "Azonosító": "JOZSEFG",
                                    "Név": "Gyuris József",
                                    "Monogram": "GJ"
                                },
                                {
                                    "Azonosító": "kata",
                                    "Név": "Gondos Katalin",
                                    "Monogram": "GK"
                                },
                                {
                                    "Azonosító": "katalin",
                                    "Név": "Horváth Katalin",
                                    "Monogram": "HK"
                                },
                                {
                                    "Azonosító": "kati",
                                    "Név": "Zatykó Katalin",
                                    "Monogram": "ZK"
                                },
                                {
                                    "Azonosító": "katka",
                                    "Név": "Kovács Katalin",
                                    "Monogram": "KK"
                                },
                                {
                                    "Azonosító": "klaudia2",
                                    "Név": "Bakó Klaudia",
                                    "Monogram": "BK"
                                },
                                {
                                    "Azonosító": "kornel4",
                                    "Név": "Lukács Kornél",
                                    "Monogram": "LK"
                                },
                                {
                                    "Azonosító": "krisztian4",
                                    "Név": "Czérna Krisztián",
                                    "Monogram": "CK"
                                },
                                {
                                    "Azonosító": "krisztina1",
                                    "Név": "Bori Krisztina",
                                    "Monogram": "BK"
                                },
                                {
                                    "Azonosító": "lajos",
                                    "Név": "Kiss Lajos",
                                    "Monogram": "KL"
                                },
                                {
                                    "Azonosító": "lala",
                                    "Név": "Nagymihály Lajos",
                                    "Monogram": "NL"
                                },
                                {
                                    "Azonosító": "laszlo1",
                                    "Név": "Farkas László",
                                    "Monogram": "FL"
                                },
                                {
                                    "Azonosító": "laszlo2",
                                    "Név": "Móra László",
                                    "Monogram": "ML"
                                },
                                {
                                    "Azonosító": "LASZLOA",
                                    "Név": "Antal László",
                                    "Monogram": "AL"
                                },
                                {
                                    "Azonosító": "LASZLON",
                                    "Név": "Nagy László",
                                    "Monogram": "NL"
                                },
                                {
                                    "Azonosító": "maria1",
                                    "Név": "Baráth Mária",
                                    "Monogram": "BM"
                                },
                                {
                                    "Azonosító": "mark",
                                    "Név": "Kispál Márk",
                                    "Monogram": "KM"
                                },
                                {
                                    "Azonosító": "MARKH",
                                    "Név": "Horváth Márk",
                                    "Monogram": "HM"
                                },
                                {
                                    "Azonosító": "MATEK",
                                    "Név": "Koza Máté",
                                    "Monogram": "KM"
                                },
                                {
                                    "Azonosító": "MATYASS",
                                    "Név": "Szilágyi Mátyás",
                                    "Monogram": "SM"
                                },
                                {
                                    "Azonosító": "MIHALYJ",
                                    "Név": "Juhász Mihály",
                                    "Monogram": "JM"
                                },
                                {
                                    "Azonosító": "MIKLOSB",
                                    "Név": "Balla Miklós",
                                    "Monogram": "BM"
                                },
                                {
                                    "Azonosító": "MONIKAM",
                                    "Név": "Mohos Mónika",
                                    "Monogram": "MM"
                                },
                                {
                                    "Azonosító": "NANDORF",
                                    "Név": "Fő Nándor",
                                    "Monogram": "FN"
                                },
                                {
                                    "Azonosító": "NIKOLETTAT",
                                    "Név": "Tatár Nikoletta",
                                    "Monogram": "TN"
                                },
                                {
                                    "Azonosító": "norbert2",
                                    "Név": "Hegedűs Norbert",
                                    "Monogram": "HN"
                                },
                                {
                                    "Azonosító": "pal",
                                    "Név": "Barabás Pál",
                                    "Monogram": "BP"
                                },
                                {
                                    "Azonosító": "peter4",
                                    "Név": "Bíró Péter",
                                    "Monogram": "BP"
                                },
                                {
                                    "Azonosító": "PETERB",
                                    "Név": "Berendi Péter",
                                    "Monogram": "BP"
                                },
                                {
                                    "Azonosító": "rajmond4",
                                    "Név": "Rácz Rajmond",
                                    "Monogram": "RR"
                                },
                                {
                                    "Azonosító": "reka4",
                                    "Név": "Szikszai Réka",
                                    "Monogram": "SR"
                                },
                                {
                                    "Azonosító": "RENATAK",
                                    "Név": "Kardos Renáta",
                                    "Monogram": "KR"
                                },
                                {
                                    "Azonosító": "ROBERTI",
                                    "Név": "Iván Róbert",
                                    "Monogram": "IR"
                                },
                                {
                                    "Azonosító": "roland1",
                                    "Név": "Ferencz Roland",
                                    "Monogram": "FR"
                                },
                                {
                                    "Azonosító": "sandor3",
                                    "Név": "Farkas Sándor",
                                    "Monogram": "FS"
                                },
                                {
                                    "Azonosító": "sara",
                                    "Név": "Farkas Sára",
                                    "Monogram": "FS"
                                },
                                {
                                    "Azonosító": "szabolcs",
                                    "Név": "Bodor Szabolcs",
                                    "Monogram": "BS"
                                },
                                {
                                    "Azonosító": "SZABOLCSM",
                                    "Név": "Miklós Szabolcs",
                                    "Monogram": "MS"
                                },
                                {
                                    "Azonosító": "SZILARDS",
                                    "Név": "Szalai Szilárd",
                                    "Monogram": "SS"
                                },
                                {
                                    "Azonosító": "szilvia1",
                                    "Név": "Tari Szilvia",
                                    "Monogram": "TS"
                                },
                                {
                                    "Azonosító": "tamara2",
                                    "Név": "Miklós Tamara",
                                    "Monogram": "MT"
                                },
                                {
                                    "Azonosító": "tamas",
                                    "Név": "Antal Tamás",
                                    "Monogram": "AT"
                                },
                                {
                                    "Azonosító": "tibor",
                                    "Név": "Gombos Tibor",
                                    "Monogram": "GT"
                                },
                                {
                                    "Azonosító": "tihamer",
                                    "Név": "Kazy Tihamér",
                                    "Monogram": "KT"
                                },
                                {
                                    "Azonosító": "timea2",
                                    "Név": "Dusha Tímea",
                                    "Monogram": "DT"
                                },
                                {
                                    "Azonosító": "valentin",
                                    "Név": "Feró Valentin",
                                    "Monogram": "FV"
                                },
                                {
                                    "Azonosító": "VIKTORIAU",
                                    "Név": "Urbán Viktoria",
                                    "Monogram": "UV"
                                },
                                {
                                    "Azonosító": "VIKTORK",
                                    "Név": "Keresztúri Viktor",
                                    "Monogram": "KV"
                                },
                                {
                                    "Azonosító": "zoltan",
                                    "Név": "Fodor Zoltán",
                                    "Monogram": "FZ"
                                },
                                {
                                    "Azonosító": "ZOLTANP",
                                    "Név": "Pintér Zoltán",
                                    "Monogram": "PZ"
                                },
                                {
                                    "Azonosító": "ZOLTANT",
                                    "Név": "Tóth Zoltán",
                                    "Monogram": "TZ"
                                },
                                {
                                    "Azonosító": "zsolt1",
                                    "Név": "Pulai Zsolt",
                                    "Monogram": "PZ"
                                },
                                {
                                    "Azonosító": "zsuzsa3",
                                    "Név": "Varsányi Zsuzsa",
                                    "Monogram": "VZ"
                                },
                                {
                                    "Azonosító": "zsuzsanna",
                                    "Név": "Barta Zsuzsanna",
                                    "Monogram": "BZ"
                                },
                                {
                                    "Azonosító": "ZSUZSAV",
                                    "Név": "Vajda Zsuzsa",
                                    "Monogram": "VZ"
                                }
                            ]
                        },
                        "text/html": [
                            "<table>",
                            "<tr><th>Azonosító</th><th>Név</th><th>Monogram</th></tr>",
                            "<tr><td>adam1</td><td>Kiss Ádám</td><td>KÁ</td></tr>",
                            "<tr><td>adam4</td><td>Bieniek Ádám</td><td>BÁ</td></tr>",
                            "<tr><td>akos</td><td>Bíró Ákos</td><td>BÁ</td></tr>",
                            "<tr><td>aladar</td><td>Dunai Aladár</td><td>DA</td></tr>",
                            "<tr><td>alexandra</td><td>Bagóczki Alexandra</td><td>BA</td></tr>",
                            "<tr><td>andi</td><td>Maródi Andrea</td><td>MA</td></tr>",
                            "<tr><td>andras2</td><td>Tóth András</td><td>TA</td></tr>",
                            "<tr><td>andras21</td><td>Molnár András</td><td>MA</td></tr>",
                            "<tr><td>andras3</td><td>Vígh András</td><td>VA</td></tr>",
                            "<tr><td>ANDRASN</td><td>Nagy András</td><td>NA</td></tr>",
                            "<tr><td>andrea</td><td>Kiss Andrea</td><td>KA</td></tr>",
                            "<tr><td>anett3</td><td>Pivarcsi Anett</td><td>PA</td></tr>",
                            "<tr><td>anita</td><td>Hamvay-Kovács Anita</td><td>HA</td></tr>",
                            "<tr><td>annamaria1</td><td>Szűcs Annamária</td><td>SA</td></tr>",
                            "<tr><td>ARONK</td><td>Kelemen Áron</td><td>KÁ</td></tr>",
                            "<tr><td>arpad2</td><td>Ötvös Árpád</td><td>ÖÁ</td></tr>",
                            "<tr><td>ARPADH</td><td>Horváth Árpád</td><td>HÁ</td></tr>",
                            "<tr><td>ARPADM</td><td>Móricz Árpád</td><td>MÁ</td></tr>",
                            "<tr><td>attila1</td><td>Gulyás Attila</td><td>GA</td></tr>",
                            "<tr><td>attila4</td><td>Baróti Attila</td><td>BA</td></tr>",
                            "<tr><td>balazs1</td><td>Bozsik Balázs</td><td>BB</td></tr>",
                            "<tr><td>balazs2</td><td>Szűcs Balázs</td><td>SB</td></tr>",
                            "<tr><td>balu</td><td>Endresz Bálint</td><td>EB</td></tr>",
                            "<tr><td>beata4</td><td>Bagi Beáta</td><td>BB</td></tr>",
                            "<tr><td>BEATRIXK</td><td>Kerényi Beatrix</td><td>KB</td></tr>",
                            "<tr><td>BEATRIXS</td><td>Szekendi Beatrix</td><td>SB</td></tr>",
                            "<tr><td>BENCEB</td><td>Bajusz Bence</td><td>BB</td></tr>",
                            "<tr><td>bernadett2</td><td>Kovács Bernadett</td><td>KB</td></tr>",
                            "<tr><td>BERNADETTO</td><td>Orbán Bernadett</td><td>OB</td></tr>",
                            "<tr><td>brigitta</td><td>Székely Brigitta</td><td>SB</td></tr>",
                            "<tr><td>brigitta3</td><td>Pataki Brigitta</td><td>PB</td></tr>",
                            "<tr><td>csongor3</td><td>Nagymihály Csongor</td><td>NC</td></tr>",
                            "<tr><td>daniel</td><td>Rácz Dániel</td><td>RD</td></tr>",
                            "<tr><td>daniel1</td><td>Keszler Dániel</td><td>KD</td></tr>",
                            "<tr><td>debora</td><td>Barna Debóra</td><td>BD</td></tr>",
                            "<tr><td>dora3</td><td>Sarodi Dóra</td><td>SD</td></tr>",
                            "<tr><td>edit</td><td>Bittmann Edit</td><td>BE</td></tr>",
                            "<tr><td>emese</td><td>Kuruc Emese</td><td>KE</td></tr>",
                            "<tr><td>eszter</td><td>Molnár Eszter</td><td>ME</td></tr>",
                            "<tr><td>eszter2</td><td>Balogh Eszter</td><td>BE</td></tr>",
                            "<tr><td>eszter4</td><td>Fülöp Eszter</td><td>FE</td></tr>",
                            "<tr><td>ESZTERE</td><td>Érsek Eszter</td><td>ÉE</td></tr>",
                            "<tr><td>ferenc1</td><td>Orosz Ferenc</td><td>OF</td></tr>",
                            "<tr><td>gabor4</td><td>Telek Gábor</td><td>TG</td></tr>",
                            "<tr><td>georgij</td><td>Nyíri Georgij</td><td>NG</td></tr>",
                            "<tr><td>GYONGYIK</td><td>Kornseé Gyöngyi</td><td>KG</td></tr>",
                            "<tr><td>henrik3</td><td>Nádudvari Henrik</td><td>NH</td></tr>",
                            "<tr><td>IBOLYAA</td><td>Andor Ibolya</td><td>AI</td></tr>",
                            "<tr><td>imre</td><td>Búza Imre</td><td>BI</td></tr>",
                            "<tr><td>imre1</td><td>Papp Imre</td><td>PI</td></tr>",
                            "<tr><td>istvan1</td><td>Vizi István</td><td>VI</td></tr>",
                            "<tr><td>jozsef2</td><td>Vajda József</td><td>VJ</td></tr>",
                            "<tr><td>JOZSEFG</td><td>Gyuris József</td><td>GJ</td></tr>",
                            "<tr><td>kata</td><td>Gondos Katalin</td><td>GK</td></tr>",
                            "<tr><td>katalin</td><td>Horváth Katalin</td><td>HK</td></tr>",
                            "<tr><td>kati</td><td>Zatykó Katalin</td><td>ZK</td></tr>",
                            "<tr><td>katka</td><td>Kovács Katalin</td><td>KK</td></tr>",
                            "<tr><td>klaudia2</td><td>Bakó Klaudia</td><td>BK</td></tr>",
                            "<tr><td>kornel4</td><td>Lukács Kornél</td><td>LK</td></tr>",
                            "<tr><td>krisztian4</td><td>Czérna Krisztián</td><td>CK</td></tr>",
                            "<tr><td>krisztina1</td><td>Bori Krisztina</td><td>BK</td></tr>",
                            "<tr><td>lajos</td><td>Kiss Lajos</td><td>KL</td></tr>",
                            "<tr><td>lala</td><td>Nagymihály Lajos</td><td>NL</td></tr>",
                            "<tr><td>laszlo1</td><td>Farkas László</td><td>FL</td></tr>",
                            "<tr><td>laszlo2</td><td>Móra László</td><td>ML</td></tr>",
                            "<tr><td>LASZLOA</td><td>Antal László</td><td>AL</td></tr>",
                            "<tr><td>LASZLON</td><td>Nagy László</td><td>NL</td></tr>",
                            "<tr><td>maria1</td><td>Baráth Mária</td><td>BM</td></tr>",
                            "<tr><td>mark</td><td>Kispál Márk</td><td>KM</td></tr>",
                            "<tr><td>MARKH</td><td>Horváth Márk</td><td>HM</td></tr>",
                            "<tr><td>MATEK</td><td>Koza Máté</td><td>KM</td></tr>",
                            "<tr><td>MATYASS</td><td>Szilágyi Mátyás</td><td>SM</td></tr>",
                            "<tr><td>MIHALYJ</td><td>Juhász Mihály</td><td>JM</td></tr>",
                            "<tr><td>MIKLOSB</td><td>Balla Miklós</td><td>BM</td></tr>",
                            "<tr><td>MONIKAM</td><td>Mohos Mónika</td><td>MM</td></tr>",
                            "<tr><td>NANDORF</td><td>Fő Nándor</td><td>FN</td></tr>",
                            "<tr><td>NIKOLETTAT</td><td>Tatár Nikoletta</td><td>TN</td></tr>",
                            "<tr><td>norbert2</td><td>Hegedűs Norbert</td><td>HN</td></tr>",
                            "<tr><td>pal</td><td>Barabás Pál</td><td>BP</td></tr>",
                            "<tr><td>peter4</td><td>Bíró Péter</td><td>BP</td></tr>",
                            "<tr><td>PETERB</td><td>Berendi Péter</td><td>BP</td></tr>",
                            "<tr><td>rajmond4</td><td>Rácz Rajmond</td><td>RR</td></tr>",
                            "<tr><td>reka4</td><td>Szikszai Réka</td><td>SR</td></tr>",
                            "<tr><td>RENATAK</td><td>Kardos Renáta</td><td>KR</td></tr>",
                            "<tr><td>ROBERTI</td><td>Iván Róbert</td><td>IR</td></tr>",
                            "<tr><td>roland1</td><td>Ferencz Roland</td><td>FR</td></tr>",
                            "<tr><td>sandor3</td><td>Farkas Sándor</td><td>FS</td></tr>",
                            "<tr><td>sara</td><td>Farkas Sára</td><td>FS</td></tr>",
                            "<tr><td>szabolcs</td><td>Bodor Szabolcs</td><td>BS</td></tr>",
                            "<tr><td>SZABOLCSM</td><td>Miklós Szabolcs</td><td>MS</td></tr>",
                            "<tr><td>SZILARDS</td><td>Szalai Szilárd</td><td>SS</td></tr>",
                            "<tr><td>szilvia1</td><td>Tari Szilvia</td><td>TS</td></tr>",
                            "<tr><td>tamara2</td><td>Miklós Tamara</td><td>MT</td></tr>",
                            "<tr><td>tamas</td><td>Antal Tamás</td><td>AT</td></tr>",
                            "<tr><td>tibor</td><td>Gombos Tibor</td><td>GT</td></tr>",
                            "<tr><td>tihamer</td><td>Kazy Tihamér</td><td>KT</td></tr>",
                            "<tr><td>timea2</td><td>Dusha Tímea</td><td>DT</td></tr>",
                            "<tr><td>valentin</td><td>Feró Valentin</td><td>FV</td></tr>",
                            "<tr><td>VIKTORIAU</td><td>Urbán Viktoria</td><td>UV</td></tr>",
                            "<tr><td>VIKTORK</td><td>Keresztúri Viktor</td><td>KV</td></tr>",
                            "<tr><td>zoltan</td><td>Fodor Zoltán</td><td>FZ</td></tr>",
                            "<tr><td>ZOLTANP</td><td>Pintér Zoltán</td><td>PZ</td></tr>",
                            "<tr><td>ZOLTANT</td><td>Tóth Zoltán</td><td>TZ</td></tr>",
                            "<tr><td>zsolt1</td><td>Pulai Zsolt</td><td>PZ</td></tr>",
                            "<tr><td>zsuzsa3</td><td>Varsányi Zsuzsa</td><td>VZ</td></tr>",
                            "<tr><td>zsuzsanna</td><td>Barta Zsuzsanna</td><td>BZ</td></tr>",
                            "<tr><td>ZSUZSAV</td><td>Vajda Zsuzsa</td><td>VZ</td></tr>",
                            "</table>"
                        ]
                    }
                }
            ],
            "execution_count": 19
        },
        {
            "cell_type": "code",
            "source": [
                "SELECT SZALLAS_ID AS 'Azonosító',\r\n",
                "       SZALLAS_NEV AS 'Szállás neve',\r\n",
                "       HELY AS 'Hely',\r\n",
                "       DATEDIFF(DAY, ROGZ_IDO, GETDATE()) AS 'Működés ideje'\r\n",
                "FROM Szallashely\r\n",
                "WHERE TIPUS NOT IN ('panzió', 'vendégház')"
            ],
            "metadata": {
                "language": "sql",
                "azdata_cell_guid": "0056113b-3f61-47c6-9661-9cd0ffbf05b6"
            },
            "outputs": [
                {
                    "output_type": "display_data",
                    "data": {
                        "text/html": "(10 rows affected)"
                    },
                    "metadata": {}
                },
                {
                    "output_type": "display_data",
                    "data": {
                        "text/html": "Total execution time: 00:00:00.027"
                    },
                    "metadata": {}
                },
                {
                    "output_type": "execute_result",
                    "metadata": {},
                    "execution_count": 24,
                    "data": {
                        "application/vnd.dataresource+json": {
                            "schema": {
                                "fields": [
                                    {
                                        "name": "Azonosító"
                                    },
                                    {
                                        "name": "Szállás neve"
                                    },
                                    {
                                        "name": "Hely"
                                    },
                                    {
                                        "name": "Működés ideje"
                                    }
                                ]
                            },
                            "data": [
                                {
                                    "Azonosító": "3",
                                    "Szállás neve": "Fortuna Apartman",
                                    "Hely": "Hajdúbihar megye",
                                    "Működés ideje": "3291"
                                },
                                {
                                    "Azonosító": "6",
                                    "Szállás neve": "Kentaur Hotel",
                                    "Hely": "Balaton-dél",
                                    "Működés ideje": "3289"
                                },
                                {
                                    "Azonosító": "7",
                                    "Szállás neve": "Szieszta Apartmanház",
                                    "Hely": "Balaton-dél",
                                    "Működés ideje": "3286"
                                },
                                {
                                    "Azonosító": "8",
                                    "Szállás neve": "Hotel Három Hattyú",
                                    "Hely": "Balaton-dél",
                                    "Működés ideje": "3284"
                                },
                                {
                                    "Azonosító": "10",
                                    "Szállás neve": "Lagúna Hotel",
                                    "Hely": "Budapest",
                                    "Működés ideje": "3277"
                                },
                                {
                                    "Azonosító": "12",
                                    "Szállás neve": "Gold Hotel",
                                    "Hely": "Budapest",
                                    "Működés ideje": "3273"
                                },
                                {
                                    "Azonosító": "16",
                                    "Szállás neve": "Bagoly Hotel",
                                    "Hely": "Pest megye",
                                    "Működés ideje": "3265"
                                },
                                {
                                    "Azonosító": "17",
                                    "Szállás neve": "Szarvas Hotel",
                                    "Hely": "Tolna megye",
                                    "Működés ideje": "3262"
                                },
                                {
                                    "Azonosító": "18",
                                    "Szállás neve": "Fortuna Apartman",
                                    "Hely": "Dél-Somogy",
                                    "Működés ideje": "3259"
                                },
                                {
                                    "Azonosító": "20",
                                    "Szállás neve": "Kollégium",
                                    "Hely": "Budapest",
                                    "Működés ideje": "3259"
                                }
                            ]
                        },
                        "text/html": [
                            "<table>",
                            "<tr><th>Azonosító</th><th>Szállás neve</th><th>Hely</th><th>Működés ideje</th></tr>",
                            "<tr><td>3</td><td>Fortuna Apartman</td><td>Hajdúbihar megye</td><td>3291</td></tr>",
                            "<tr><td>6</td><td>Kentaur Hotel</td><td>Balaton-dél</td><td>3289</td></tr>",
                            "<tr><td>7</td><td>Szieszta Apartmanház</td><td>Balaton-dél</td><td>3286</td></tr>",
                            "<tr><td>8</td><td>Hotel Három Hattyú</td><td>Balaton-dél</td><td>3284</td></tr>",
                            "<tr><td>10</td><td>Lagúna Hotel</td><td>Budapest</td><td>3277</td></tr>",
                            "<tr><td>12</td><td>Gold Hotel</td><td>Budapest</td><td>3273</td></tr>",
                            "<tr><td>16</td><td>Bagoly Hotel</td><td>Pest megye</td><td>3265</td></tr>",
                            "<tr><td>17</td><td>Szarvas Hotel</td><td>Tolna megye</td><td>3262</td></tr>",
                            "<tr><td>18</td><td>Fortuna Apartman</td><td>Dél-Somogy</td><td>3259</td></tr>",
                            "<tr><td>20</td><td>Kollégium</td><td>Budapest</td><td>3259</td></tr>",
                            "</table>"
                        ]
                    }
                }
            ],
            "execution_count": 24
        }
    ]
}