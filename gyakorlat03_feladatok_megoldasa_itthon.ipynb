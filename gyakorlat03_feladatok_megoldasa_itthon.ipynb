{
    "metadata": {
        "kernelspec": {
            "name": "SQL",
            "display_name": "SQL",
            "language": "sql"
        },
        "language_info": {
            "name": "sql",
            "version": ""
        },
        "extensions": {
            "azuredatastudio": {
                "version": 1,
                "views": []
            }
        }
    },
    "nbformat_minor": 2,
    "nbformat": 4,
    "cells": [
        {
            "cell_type": "markdown",
            "source": [
                "**Az első 5 feladat ismétlés (többtáblás lekérdezések) a tanulmányi adatbázisból**\n",
                "\n",
                "1. Készítsünk listát arról, hogy melyik óra melyik teremben van!\n",
                "    \n",
                "    1. Jelenítsük meg az óra azonosítóját és a terem nevét!\n",
                "    2. A listát szűrjük a 3 karakter hosszú, \\[100;199\\] zárt intervallumba eső termekre! Feltesszük, hogy a 3 karakter hosszú terem nevek csak számjegyeket tartalmaznak."
            ],
            "metadata": {
                "azdata_cell_guid": "77f2d5b3-38e9-41cc-893f-f5afd02b97ef"
            },
            "attachments": {}
        },
        {
            "cell_type": "code",
            "source": [
                "SELECT o.ora_id AS 'Óra azonosító',\r\n",
                "       t.Terem AS 'Terem neve'\r\n",
                "FROM Orak o JOIN Termek t ON o.terem=t.Tkód\r\n",
                "            JOIN Tantárgyak tan ON o.targy=tan.Tkód\r\n",
                "WHERE LEN(t.Terem)=3 AND t.Terem BETWEEN '100' AND '199'"
            ],
            "metadata": {
                "azdata_cell_guid": "bd3cef1a-4e6e-4ece-9dc3-aaa9d2b5d66d",
                "language": "sql",
                "tags": []
            },
            "outputs": [
                {
                    "output_type": "display_data",
                    "data": {
                        "text/html": "(30 rows affected)"
                    },
                    "metadata": {}
                },
                {
                    "output_type": "display_data",
                    "data": {
                        "text/html": "Total execution time: 00:00:00.092"
                    },
                    "metadata": {}
                },
                {
                    "output_type": "execute_result",
                    "execution_count": 82,
                    "data": {
                        "application/vnd.dataresource+json": {
                            "schema": {
                                "fields": [
                                    {
                                        "name": "Óra azonosító"
                                    },
                                    {
                                        "name": "Terem neve"
                                    }
                                ]
                            },
                            "data": [
                                {
                                    "Óra azonosító": "159",
                                    "Terem neve": "117"
                                },
                                {
                                    "Óra azonosító": "160",
                                    "Terem neve": "118"
                                },
                                {
                                    "Óra azonosító": "161",
                                    "Terem neve": "118"
                                },
                                {
                                    "Óra azonosító": "162",
                                    "Terem neve": "119"
                                },
                                {
                                    "Óra azonosító": "163",
                                    "Terem neve": "120"
                                },
                                {
                                    "Óra azonosító": "164",
                                    "Terem neve": "119"
                                },
                                {
                                    "Óra azonosító": "165",
                                    "Terem neve": "119"
                                },
                                {
                                    "Óra azonosító": "166",
                                    "Terem neve": "119"
                                },
                                {
                                    "Óra azonosító": "167",
                                    "Terem neve": "120"
                                },
                                {
                                    "Óra azonosító": "170",
                                    "Terem neve": "120"
                                },
                                {
                                    "Óra azonosító": "172",
                                    "Terem neve": "119"
                                },
                                {
                                    "Óra azonosító": "173",
                                    "Terem neve": "119"
                                },
                                {
                                    "Óra azonosító": "175",
                                    "Terem neve": "120"
                                },
                                {
                                    "Óra azonosító": "176",
                                    "Terem neve": "118"
                                },
                                {
                                    "Óra azonosító": "177",
                                    "Terem neve": "119"
                                },
                                {
                                    "Óra azonosító": "179",
                                    "Terem neve": "120"
                                },
                                {
                                    "Óra azonosító": "180",
                                    "Terem neve": "119"
                                },
                                {
                                    "Óra azonosító": "181",
                                    "Terem neve": "118"
                                },
                                {
                                    "Óra azonosító": "185",
                                    "Terem neve": "120"
                                },
                                {
                                    "Óra azonosító": "192",
                                    "Terem neve": "119"
                                },
                                {
                                    "Óra azonosító": "195",
                                    "Terem neve": "116"
                                },
                                {
                                    "Óra azonosító": "197",
                                    "Terem neve": "116"
                                },
                                {
                                    "Óra azonosító": "198",
                                    "Terem neve": "119"
                                },
                                {
                                    "Óra azonosító": "204",
                                    "Terem neve": "120"
                                },
                                {
                                    "Óra azonosító": "212",
                                    "Terem neve": "120"
                                },
                                {
                                    "Óra azonosító": "218",
                                    "Terem neve": "118"
                                },
                                {
                                    "Óra azonosító": "220",
                                    "Terem neve": "119"
                                },
                                {
                                    "Óra azonosító": "222",
                                    "Terem neve": "116"
                                },
                                {
                                    "Óra azonosító": "226",
                                    "Terem neve": "117"
                                },
                                {
                                    "Óra azonosító": "227",
                                    "Terem neve": "116"
                                }
                            ]
                        },
                        "text/html": "<table><tr><th>Óra azonosító</th><th>Terem neve</th></tr><tr><td>159</td><td>117</td></tr><tr><td>160</td><td>118</td></tr><tr><td>161</td><td>118</td></tr><tr><td>162</td><td>119</td></tr><tr><td>163</td><td>120</td></tr><tr><td>164</td><td>119</td></tr><tr><td>165</td><td>119</td></tr><tr><td>166</td><td>119</td></tr><tr><td>167</td><td>120</td></tr><tr><td>170</td><td>120</td></tr><tr><td>172</td><td>119</td></tr><tr><td>173</td><td>119</td></tr><tr><td>175</td><td>120</td></tr><tr><td>176</td><td>118</td></tr><tr><td>177</td><td>119</td></tr><tr><td>179</td><td>120</td></tr><tr><td>180</td><td>119</td></tr><tr><td>181</td><td>118</td></tr><tr><td>185</td><td>120</td></tr><tr><td>192</td><td>119</td></tr><tr><td>195</td><td>116</td></tr><tr><td>197</td><td>116</td></tr><tr><td>198</td><td>119</td></tr><tr><td>204</td><td>120</td></tr><tr><td>212</td><td>120</td></tr><tr><td>218</td><td>118</td></tr><tr><td>220</td><td>119</td></tr><tr><td>222</td><td>116</td></tr><tr><td>226</td><td>117</td></tr><tr><td>227</td><td>116</td></tr></table>"
                    },
                    "metadata": {}
                }
            ],
            "execution_count": 82
        },
        {
            "cell_type": "markdown",
            "source": [
                "2. <span style=\"font-weight: 600; color: rgb(36, 41, 47); font-family: -apple-system, BlinkMacSystemFont, &quot;Segoe UI&quot;, Helvetica, Arial, sans-serif, &quot;Apple Color Emoji&quot;, &quot;Segoe UI Emoji&quot;; font-size: 16px;\">Hány óra van összesen az egyes napokon?</span>\n",
                "\n",
                "1. Jelenítsük meg a napok nevét és az órák számát az adott napon!\n",
                "2. Az oszlopokat nevezzük el értelemszerűen!\n",
                "3. A listát rendezzük óraszám szerint növekvő sorrendbe!"
            ],
            "metadata": {
                "azdata_cell_guid": "88f5b4bb-f4c1-4bad-a0c7-b2592687b422"
            },
            "attachments": {}
        },
        {
            "cell_type": "code",
            "source": [
                "SELECT n.nap AS 'Napok neve',\r\n",
                "       COUNT(o.ora_id) AS 'Órák száma'\r\n",
                "FROM Orak o JOIN Napok n ON o.nap=n.nap_id\r\n",
                "GROUP BY n.nap\r\n",
                "ORDER BY COUNT(o.ora_id)\r\n",
                ""
            ],
            "metadata": {
                "azdata_cell_guid": "e9de5726-f036-4fb9-8c33-a873955ed886",
                "language": "sql"
            },
            "outputs": [
                {
                    "output_type": "display_data",
                    "data": {
                        "text/html": "(5 rows affected)"
                    },
                    "metadata": {}
                },
                {
                    "output_type": "display_data",
                    "data": {
                        "text/html": "Total execution time: 00:00:00.018"
                    },
                    "metadata": {}
                },
                {
                    "output_type": "execute_result",
                    "execution_count": 86,
                    "data": {
                        "application/vnd.dataresource+json": {
                            "schema": {
                                "fields": [
                                    {
                                        "name": "Napok neve"
                                    },
                                    {
                                        "name": "Órák száma"
                                    }
                                ]
                            },
                            "data": [
                                {
                                    "Napok neve": "Péntek",
                                    "Órák száma": "6"
                                },
                                {
                                    "Napok neve": "Szerda",
                                    "Órák száma": "6"
                                },
                                {
                                    "Napok neve": "Kedd",
                                    "Órák száma": "13"
                                },
                                {
                                    "Napok neve": "Csütörtök",
                                    "Órák száma": "19"
                                },
                                {
                                    "Napok neve": "Hétfő",
                                    "Órák száma": "23"
                                }
                            ]
                        },
                        "text/html": "<table><tr><th>Napok neve</th><th>Órák száma</th></tr><tr><td>Péntek</td><td>6</td></tr><tr><td>Szerda</td><td>6</td></tr><tr><td>Kedd</td><td>13</td></tr><tr><td>Csütörtök</td><td>19</td></tr><tr><td>Hétfő</td><td>23</td></tr></table>"
                    },
                    "metadata": {}
                }
            ],
            "execution_count": 86
        },
        {
            "cell_type": "markdown",
            "source": [
                "3. <span style=\"font-weight: 600; color: rgb(36, 41, 47); font-family: -apple-system, BlinkMacSystemFont, &quot;Segoe UI&quot;, Helvetica, Arial, sans-serif, &quot;Apple Color Emoji&quot;, &quot;Segoe UI Emoji&quot;; font-size: 16px;\">Készítsünk listát arról, hogy melyik oktatónak hány órája van az Órák táblában!</span>\n",
                "\n",
                "1. A lista jelenítse meg az oktatók nevét, és az órák számát!\n",
                "2. Az oszlopokat nevezzük el értelemszerűen!\n",
                "3. A listából hagyjuk ki az óraadókat!"
            ],
            "metadata": {
                "azdata_cell_guid": "9e7249de-1b59-43d8-84b1-26fa7d81fc5a"
            },
            "attachments": {}
        },
        {
            "cell_type": "code",
            "source": [
                "SELECT okt.nev AS 'Oktató',\r\n",
                "       COUNT(*) AS 'Órák száma'\r\n",
                "FROM Oktatok okt JOIN Orak o ON okt.oktato_id=o.tanar\r\n",
                "                 JOIN Beosztasok b ON okt.beosztás=b.beosztas_id\r\n",
                "WHERE b.beosztasnev<>'Óraadó'\r\n",
                "GROUP BY okt.nev\r\n",
                ""
            ],
            "metadata": {
                "azdata_cell_guid": "6405d3e8-a9b1-45d7-aa76-3b1e785ef6cc",
                "language": "sql"
            },
            "outputs": [
                {
                    "output_type": "display_data",
                    "data": {
                        "text/html": "(15 rows affected)"
                    },
                    "metadata": {}
                },
                {
                    "output_type": "display_data",
                    "data": {
                        "text/html": "Total execution time: 00:00:00.030"
                    },
                    "metadata": {}
                },
                {
                    "output_type": "execute_result",
                    "execution_count": 91,
                    "data": {
                        "application/vnd.dataresource+json": {
                            "schema": {
                                "fields": [
                                    {
                                        "name": "Oktató"
                                    },
                                    {
                                        "name": "Órák száma"
                                    }
                                ]
                            },
                            "data": [
                                {
                                    "Oktató": "Balkán András",
                                    "Órák száma": "3"
                                },
                                {
                                    "Oktató": "Farkasos Piroska",
                                    "Órák száma": "7"
                                },
                                {
                                    "Oktató": "Jogrerős Pál",
                                    "Órák száma": "2"
                                },
                                {
                                    "Oktató": "Juhász András",
                                    "Órák száma": "2"
                                },
                                {
                                    "Oktató": "Kiss János",
                                    "Órák száma": "4"
                                },
                                {
                                    "Oktató": "Kovács László",
                                    "Órák száma": "4"
                                },
                                {
                                    "Oktató": "Pelikán József",
                                    "Órák száma": "6"
                                },
                                {
                                    "Oktató": "Róbert Gida",
                                    "Órák száma": "1"
                                },
                                {
                                    "Oktató": "Szénási ászló",
                                    "Órák száma": "2"
                                },
                                {
                                    "Oktató": "Szentágotai Istvás",
                                    "Órák száma": "8"
                                },
                                {
                                    "Oktató": "Szép llonka",
                                    "Órák száma": "4"
                                },
                                {
                                    "Oktató": "Szerb László",
                                    "Órák száma": "3"
                                },
                                {
                                    "Oktató": "Ujfalussi István",
                                    "Órák száma": "3"
                                },
                                {
                                    "Oktató": "Varga Kata",
                                    "Órák száma": "4"
                                },
                                {
                                    "Oktató": "Vitéz János",
                                    "Órák száma": "4"
                                }
                            ]
                        },
                        "text/html": "<table><tr><th>Oktató</th><th>Órák száma</th></tr><tr><td>Balkán András</td><td>3</td></tr><tr><td>Farkasos Piroska</td><td>7</td></tr><tr><td>Jogrerős Pál</td><td>2</td></tr><tr><td>Juhász András</td><td>2</td></tr><tr><td>Kiss János</td><td>4</td></tr><tr><td>Kovács László</td><td>4</td></tr><tr><td>Pelikán József</td><td>6</td></tr><tr><td>Róbert Gida</td><td>1</td></tr><tr><td>Szénási ászló</td><td>2</td></tr><tr><td>Szentágotai Istvás</td><td>8</td></tr><tr><td>Szép llonka</td><td>4</td></tr><tr><td>Szerb László</td><td>3</td></tr><tr><td>Ujfalussi István</td><td>3</td></tr><tr><td>Varga Kata</td><td>4</td></tr><tr><td>Vitéz János</td><td>4</td></tr></table>"
                    },
                    "metadata": {}
                }
            ],
            "execution_count": 91
        },
        {
            "cell_type": "markdown",
            "source": [
                "4. <span style=\"color: rgb(36, 41, 47); font-family: -apple-system, BlinkMacSystemFont, &quot;Segoe UI&quot;, Helvetica, Arial, sans-serif, &quot;Apple Color Emoji&quot;, &quot;Segoe UI Emoji&quot;; font-size: 16px;\">Van-e olyan tantárgy, amelyből nincs óra?</span>\n",
                "\n",
                "1. Jelentsük meg a tantárgy nevét és a tantárgyfelelős nevét!"
            ],
            "metadata": {
                "azdata_cell_guid": "6478e469-c094-472c-a772-ccd5b5c61516"
            },
            "attachments": {}
        },
        {
            "cell_type": "code",
            "source": [
                "SELECT tan.Tantárgynév AS 'Tantárgy', \r\n",
                "       okt.nev AS 'Tantárgyfelelős'\r\n",
                "FROM Tantárgyak tan LEFT JOIN Orak o ON tan.Tkód=o.targy\r\n",
                "                    JOIN Oktatok okt ON tan.Tantárgyfelelős=okt.oktato_id\r\n",
                "WHERE o.ora_id IS NULL"
            ],
            "metadata": {
                "azdata_cell_guid": "02031ea2-3838-458d-839c-228e3b362b61",
                "language": "sql"
            },
            "outputs": [
                {
                    "output_type": "display_data",
                    "data": {
                        "text/html": "(1 row affected)"
                    },
                    "metadata": {}
                },
                {
                    "output_type": "display_data",
                    "data": {
                        "text/html": "Total execution time: 00:00:00.034"
                    },
                    "metadata": {}
                },
                {
                    "output_type": "execute_result",
                    "execution_count": 100,
                    "data": {
                        "application/vnd.dataresource+json": {
                            "schema": {
                                "fields": [
                                    {
                                        "name": "Tantárgy"
                                    },
                                    {
                                        "name": "Tantárgyfelelős"
                                    }
                                ]
                            },
                            "data": [
                                {
                                    "Tantárgy": "Folyami gáttan",
                                    "Tantárgyfelelős": "Varga Kata"
                                }
                            ]
                        },
                        "text/html": "<table><tr><th>Tantárgy</th><th>Tantárgyfelelős</th></tr><tr><td>Folyami gáttan</td><td>Varga Kata</td></tr></table>"
                    },
                    "metadata": {}
                }
            ],
            "execution_count": 100
        },
        {
            "cell_type": "markdown",
            "source": [
                "5. <span style=\"background-color: rgb(255, 255, 255); color: rgb(36, 41, 47); font-family: -apple-system, BlinkMacSystemFont, &quot;Segoe UI&quot;, Helvetica, Arial, sans-serif, &quot;Apple Color Emoji&quot;, &quot;Segoe UI Emoji&quot;; font-size: 16px;\">Hány óra van összesen a 120-as teremben?</span>"
            ],
            "metadata": {
                "azdata_cell_guid": "9edbbaf9-c276-4898-9a01-e1b2993c089f"
            },
            "attachments": {}
        },
        {
            "cell_type": "code",
            "source": [
                "SELECT t.Terem AS 'Terem',\r\n",
                "       COUNT(*) AS 'Órák száma'\r\n",
                "FROM Orak o JOIN Termek t On o.terem=t.Tkód\r\n",
                "WHERE t.Terem='120'\r\n",
                "GROUP BY t.Terem"
            ],
            "metadata": {
                "azdata_cell_guid": "5ad5fdcb-2878-4111-861a-833bcd50e935",
                "language": "sql"
            },
            "outputs": [
                {
                    "output_type": "display_data",
                    "data": {
                        "text/html": "(1 row affected)"
                    },
                    "metadata": {}
                },
                {
                    "output_type": "display_data",
                    "data": {
                        "text/html": "Total execution time: 00:00:00.027"
                    },
                    "metadata": {}
                },
                {
                    "output_type": "execute_result",
                    "execution_count": 106,
                    "data": {
                        "application/vnd.dataresource+json": {
                            "schema": {
                                "fields": [
                                    {
                                        "name": "Terem"
                                    },
                                    {
                                        "name": "Órák száma"
                                    }
                                ]
                            },
                            "data": [
                                {
                                    "Terem": "120",
                                    "Órák száma": "8"
                                }
                            ]
                        },
                        "text/html": "<table><tr><th>Terem</th><th>Órák száma</th></tr><tr><td>120</td><td>8</td></tr></table>"
                    },
                    "metadata": {}
                }
            ],
            "execution_count": 106
        },
        {
            "cell_type": "markdown",
            "source": [
                "**A 6-10 feladatokat halmazműveletek segítségével oldjuk meg, szintén a tanulmányi adatbázison**\n",
                "\n",
                "6. <span style=\"background-color:rgb(255, 255, 255);color:rgb(36, 41, 47);font-family:-apple-system, BlinkMacSystemFont, &quot;Segoe UI&quot;, Helvetica, Arial, sans-serif, &quot;Apple Color Emoji&quot;, &quot;Segoe UI Emoji&quot;;font-size:16px;font-weight:600;\">Jelenítsük meg azon tanárok azonosítóját és nevét, akik hétfői vagy keddi napokon tanítanak!</span>"
            ],
            "metadata": {
                "azdata_cell_guid": "5fe65c1c-2479-45ac-ad03-ec99d12eae21"
            },
            "attachments": {}
        },
        {
            "cell_type": "code",
            "source": [
                "SELECT okt.oktato_id, okt.nev\r\n",
                "FROM Orak o JOIN Napok n ON o.nap=n.nap_id\r\n",
                "            JOIN Oktatok okt ON o.tanar=okt.oktato_id\r\n",
                "WHERE n.nap=N'Hétfő' -- N'Hétfő' -> a magyar karakterek miatt\r\n",
                "\r\n",
                "UNION\r\n",
                "\r\n",
                "SELECT okt.oktato_id, okt.nev\r\n",
                "FROM Orak o JOIN Napok n ON o.nap=n.nap_id\r\n",
                "            JOIN Oktatok okt ON o.tanar=okt.oktato_id\r\n",
                "WHERE n.nap='Kedd'"
            ],
            "metadata": {
                "azdata_cell_guid": "924f2dde-f1c2-4def-a7f9-dbf4bace7735",
                "language": "sql"
            },
            "outputs": [
                {
                    "output_type": "display_data",
                    "data": {
                        "text/html": "(17 rows affected)"
                    },
                    "metadata": {}
                },
                {
                    "output_type": "display_data",
                    "data": {
                        "text/html": "Total execution time: 00:00:00.033"
                    },
                    "metadata": {}
                },
                {
                    "output_type": "execute_result",
                    "execution_count": 117,
                    "data": {
                        "application/vnd.dataresource+json": {
                            "schema": {
                                "fields": [
                                    {
                                        "name": "oktato_id"
                                    },
                                    {
                                        "name": "nev"
                                    }
                                ]
                            },
                            "data": [
                                {
                                    "oktato_id": "1",
                                    "nev": "Kovács László"
                                },
                                {
                                    "oktato_id": "2",
                                    "nev": "Szentágotai Istvás"
                                },
                                {
                                    "oktato_id": "3",
                                    "nev": "Szerb László"
                                },
                                {
                                    "oktato_id": "4",
                                    "nev": "Ujfalussi István"
                                },
                                {
                                    "oktato_id": "5",
                                    "nev": "Balkán András"
                                },
                                {
                                    "oktato_id": "6",
                                    "nev": "Szép llonka"
                                },
                                {
                                    "oktato_id": "7",
                                    "nev": "Kiss János"
                                },
                                {
                                    "oktato_id": "8",
                                    "nev": "Pelikán József"
                                },
                                {
                                    "oktato_id": "9",
                                    "nev": "Farkasos Piroska"
                                },
                                {
                                    "oktato_id": "10",
                                    "nev": "Jogrerős Pál"
                                },
                                {
                                    "oktato_id": "12",
                                    "nev": "Varga Kata"
                                },
                                {
                                    "oktato_id": "14",
                                    "nev": "Szénási ászló"
                                },
                                {
                                    "oktato_id": "18",
                                    "nev": "Nógrádi Kata"
                                },
                                {
                                    "oktato_id": "20",
                                    "nev": "Kovács András"
                                },
                                {
                                    "oktato_id": "104",
                                    "nev": "Ludas Mátyás"
                                },
                                {
                                    "oktato_id": "108",
                                    "nev": "Róbert Gida"
                                },
                                {
                                    "oktato_id": "200",
                                    "nev": "Aranyi Mária"
                                }
                            ]
                        },
                        "text/html": "<table><tr><th>oktato_id</th><th>nev</th></tr><tr><td>1</td><td>Kovács László</td></tr><tr><td>2</td><td>Szentágotai Istvás</td></tr><tr><td>3</td><td>Szerb László</td></tr><tr><td>4</td><td>Ujfalussi István</td></tr><tr><td>5</td><td>Balkán András</td></tr><tr><td>6</td><td>Szép llonka</td></tr><tr><td>7</td><td>Kiss János</td></tr><tr><td>8</td><td>Pelikán József</td></tr><tr><td>9</td><td>Farkasos Piroska</td></tr><tr><td>10</td><td>Jogrerős Pál</td></tr><tr><td>12</td><td>Varga Kata</td></tr><tr><td>14</td><td>Szénási ászló</td></tr><tr><td>18</td><td>Nógrádi Kata</td></tr><tr><td>20</td><td>Kovács András</td></tr><tr><td>104</td><td>Ludas Mátyás</td></tr><tr><td>108</td><td>Róbert Gida</td></tr><tr><td>200</td><td>Aranyi Mária</td></tr></table>"
                    },
                    "metadata": {}
                }
            ],
            "execution_count": 117
        },
        {
            "cell_type": "markdown",
            "source": [
                "7. <span style=\"background-color: rgb(255, 255, 255); color: rgb(36, 41, 47); font-family: -apple-system, BlinkMacSystemFont, &quot;Segoe UI&quot;, Helvetica, Arial, sans-serif, &quot;Apple Color Emoji&quot;, &quot;Segoe UI Emoji&quot;; font-size: 16px; font-weight: 600;\">Melyek azok a tantárgyak, amelyek esetén van óra a 8.00-kor kezdődő sávban, de nincs a 12.30-kor kezdődő sávban?</span>"
            ],
            "metadata": {
                "azdata_cell_guid": "3aeb6bf5-b111-40d5-92b2-9712ce335696"
            },
            "attachments": {}
        },
        {
            "cell_type": "code",
            "source": [
                "SELECT tan.Tantárgynév -- itt például az időt ki kell venni, mert rosszat jelenít meg\r\n",
                "FROM Tantárgyak tan JOIN Orak o ON tan.Tkód=o.targy\r\n",
                "                    JOIN Savok s ON s.Sav_id=o.sav\r\n",
                "WHERE s.Időpont='8.00'\r\n",
                "\r\n",
                "EXCEPT --elsőben benne vannak, de a másodikban nincsenek\r\n",
                "\r\n",
                "SELECT tan.Tantárgynév\r\n",
                "FROM Tantárgyak tan JOIN Orak o ON tan.Tkód=o.targy\r\n",
                "                    JOIN Savok s ON s.Sav_id=o.sav\r\n",
                "WHERE s.Időpont='12.30'"
            ],
            "metadata": {
                "azdata_cell_guid": "3e89b651-f56f-4102-af52-30eb2bbe360d",
                "language": "sql"
            },
            "outputs": [
                {
                    "output_type": "display_data",
                    "data": {
                        "text/html": "(3 rows affected)"
                    },
                    "metadata": {}
                },
                {
                    "output_type": "display_data",
                    "data": {
                        "text/html": "Total execution time: 00:00:00.073"
                    },
                    "metadata": {}
                },
                {
                    "output_type": "execute_result",
                    "execution_count": 10,
                    "data": {
                        "application/vnd.dataresource+json": {
                            "schema": {
                                "fields": [
                                    {
                                        "name": "Tantárgynév"
                                    }
                                ]
                            },
                            "data": [
                                {
                                    "Tantárgynév": "Az ürgeöntés hydrológiai alapjai II."
                                },
                                {
                                    "Tantárgynév": "Fejezetek az ürgék jogaiból"
                                },
                                {
                                    "Tantárgynév": "Ürgevitel"
                                }
                            ]
                        },
                        "text/html": "<table><tr><th>Tantárgynév</th></tr><tr><td>Az ürgeöntés hydrológiai alapjai II.</td></tr><tr><td>Fejezetek az ürgék jogaiból</td></tr><tr><td>Ürgevitel</td></tr></table>"
                    },
                    "metadata": {}
                }
            ],
            "execution_count": 10
        },
        {
            "cell_type": "markdown",
            "source": [
                "8. <span style=\"background-color: rgb(255, 255, 255); color: rgb(36, 41, 47); font-family: -apple-system, BlinkMacSystemFont, &quot;Segoe UI&quot;, Helvetica, Arial, sans-serif, &quot;Apple Color Emoji&quot;, &quot;Segoe UI Emoji&quot;; font-size: 16px; font-weight: 600;\">Listázzuk azokat a termeket, amelyekben oktat Kovács László és van olyan tanóra a teremben, ahol a tantárgy nevében nem szerepel az 'ürge' szó!</span>"
            ],
            "metadata": {
                "azdata_cell_guid": "26a504dc-ff6a-439f-94c0-4580eca3eacf"
            },
            "attachments": {}
        },
        {
            "cell_type": "code",
            "source": [
                "SELECT t.Terem\r\n",
                "FROM Termek t JOIN Orak o ON t.Tkód=o.terem\r\n",
                "              JOIN Oktatok okt ON okt.oktato_id=o.tanar\r\n",
                "              JOIN Tantárgyak tan ON tan.Tkód=o.targy\r\n",
                "WHERE okt.nev='Kovács László'\r\n",
                "\r\n",
                "INTERSECT\r\n",
                "\r\n",
                "SELECT t.Terem\r\n",
                "FROM Termek t JOIN Orak o ON t.Tkód=o.terem\r\n",
                "              JOIN Oktatok okt ON okt.oktato_id=o.tanar\r\n",
                "              JOIN Tantárgyak tan ON tan.Tkód=o.targy\r\n",
                "WHERE tan.Tantárgynév NOT LIKE '%ürge%'"
            ],
            "metadata": {
                "azdata_cell_guid": "1cbb8aeb-78b5-4350-aa45-e3202fdab85b",
                "language": "sql"
            },
            "outputs": [
                {
                    "output_type": "display_data",
                    "data": {
                        "text/html": "(4 rows affected)"
                    },
                    "metadata": {}
                },
                {
                    "output_type": "display_data",
                    "data": {
                        "text/html": "Total execution time: 00:00:00.060"
                    },
                    "metadata": {}
                },
                {
                    "output_type": "execute_result",
                    "metadata": {},
                    "execution_count": 14,
                    "data": {
                        "application/vnd.dataresource+json": {
                            "schema": {
                                "fields": [
                                    {
                                        "name": "Terem"
                                    }
                                ]
                            },
                            "data": [
                                {
                                    "Terem": "116"
                                },
                                {
                                    "Terem": "119"
                                },
                                {
                                    "Terem": "S.Asor.S3"
                                },
                                {
                                    "Terem": "VP 203."
                                }
                            ]
                        },
                        "text/html": [
                            "<table>",
                            "<tr><th>Terem</th></tr>",
                            "<tr><td>116</td></tr>",
                            "<tr><td>119</td></tr>",
                            "<tr><td>S.Asor.S3</td></tr>",
                            "<tr><td>VP 203.</td></tr>",
                            "</table>"
                        ]
                    }
                }
            ],
            "execution_count": 14
        },
        {
            "cell_type": "markdown",
            "source": [
                "9. <span style=\"font-weight: 600; color: rgb(36, 41, 47); font-family: -apple-system, BlinkMacSystemFont, &quot;Segoe UI&quot;, Helvetica, Arial, sans-serif, &quot;Apple Color Emoji&quot;, &quot;Segoe UI Emoji&quot;; font-size: 16px;\">Készítsünk listát arról, hogy melyik tanárnak hány órája van a (munka) hét elején (hétfőn), hét közben (kedd, szerda és csütörtök), illetve a hét végén (péntek)!</span>\n",
                "\n",
                "1. Jelenítsük meg a tanár azonosítóját, nevét, az időszakot (hét eleje - hét közben - hét vége), valamint az óraszámot!\n",
                "2. A három megjelölt időszakot külön kérdezzük le, majd fűzzük össze a lekérdezések eredményeit!\n",
                "3. Rendezzük a listát az oktató neve, azon belül időszak szerint!"
            ],
            "metadata": {
                "azdata_cell_guid": "435e2860-2dd5-4877-90f4-34a43baeb53c"
            },
            "attachments": {}
        },
        {
            "cell_type": "code",
            "source": [
                "SELECT okt.oktato_id,\r\n",
                "       okt.nev,\r\n",
                "       CASE \r\n",
                "            WHEN n.nap='Hétfő' THEN 'Hét eleje'\r\n",
                "            WHEN n.nap IN ('Kedd', 'Szerda', 'Csütörtök') THEN 'Két közben'\r\n",
                "            WHEN n.nap='Péntek' THEN 'Hét vége'\r\n",
                "        END AS 'Időszak',\r\n",
                "        COUNT(*) AS 'Óraszám'\r\n",
                "FROM Oktatok okt JOIN Orak o ON okt.oktato_id=o.tanar\r\n",
                "                 JOIN Napok n ON o.nap=n.nap_id\r\n",
                "GROUP BY okt.oktato_id,\r\n",
                "       okt.nev,\r\n",
                "       CASE \r\n",
                "            WHEN n.nap='Hétfő' THEN 'Hét eleje'\r\n",
                "            WHEN n.nap IN ('Kedd', 'Szerda', 'Csütörtök') THEN 'Két közben'\r\n",
                "            WHEN n.nap='Péntek' THEN 'Hét vége'\r\n",
                "        END\r\n",
                "ORDER BY okt.oktato_id, okt.nev, 'Időszak'"
            ],
            "metadata": {
                "azdata_cell_guid": "ce846351-ddbe-4d8e-b8fb-2a92c73ac80b",
                "language": "sql"
            },
            "outputs": [
                {
                    "output_type": "display_data",
                    "data": {
                        "text/html": "(33 rows affected)"
                    },
                    "metadata": {}
                },
                {
                    "output_type": "display_data",
                    "data": {
                        "text/html": "Total execution time: 00:00:00.039"
                    },
                    "metadata": {}
                },
                {
                    "output_type": "execute_result",
                    "metadata": {},
                    "execution_count": 27,
                    "data": {
                        "application/vnd.dataresource+json": {
                            "schema": {
                                "fields": [
                                    {
                                        "name": "oktato_id"
                                    },
                                    {
                                        "name": "nev"
                                    },
                                    {
                                        "name": "Időszak"
                                    },
                                    {
                                        "name": "Óraszám"
                                    }
                                ]
                            },
                            "data": [
                                {
                                    "oktato_id": "1",
                                    "nev": "Kovács László",
                                    "Időszak": "Hét vége",
                                    "Óraszám": "1"
                                },
                                {
                                    "oktato_id": "1",
                                    "nev": "Kovács László",
                                    "Időszak": "Két közben",
                                    "Óraszám": "3"
                                },
                                {
                                    "oktato_id": "2",
                                    "nev": "Szentágotai Istvás",
                                    "Időszak": "Hét eleje",
                                    "Óraszám": "1"
                                },
                                {
                                    "oktato_id": "2",
                                    "nev": "Szentágotai Istvás",
                                    "Időszak": "Hét vége",
                                    "Óraszám": "2"
                                },
                                {
                                    "oktato_id": "2",
                                    "nev": "Szentágotai Istvás",
                                    "Időszak": "Két közben",
                                    "Óraszám": "5"
                                },
                                {
                                    "oktato_id": "3",
                                    "nev": "Szerb László",
                                    "Időszak": "Két közben",
                                    "Óraszám": "3"
                                },
                                {
                                    "oktato_id": "4",
                                    "nev": "Ujfalussi István",
                                    "Időszak": "Hét eleje",
                                    "Óraszám": "1"
                                },
                                {
                                    "oktato_id": "4",
                                    "nev": "Ujfalussi István",
                                    "Időszak": "Két közben",
                                    "Óraszám": "2"
                                },
                                {
                                    "oktato_id": "5",
                                    "nev": "Balkán András",
                                    "Időszak": "Hét eleje",
                                    "Óraszám": "2"
                                },
                                {
                                    "oktato_id": "5",
                                    "nev": "Balkán András",
                                    "Időszak": "Két közben",
                                    "Óraszám": "1"
                                },
                                {
                                    "oktato_id": "6",
                                    "nev": "Szép llonka",
                                    "Időszak": "Hét eleje",
                                    "Óraszám": "4"
                                },
                                {
                                    "oktato_id": "7",
                                    "nev": "Kiss János",
                                    "Időszak": "Hét eleje",
                                    "Óraszám": "2"
                                },
                                {
                                    "oktato_id": "7",
                                    "nev": "Kiss János",
                                    "Időszak": "Két közben",
                                    "Óraszám": "2"
                                },
                                {
                                    "oktato_id": "8",
                                    "nev": "Pelikán József",
                                    "Időszak": "Hét eleje",
                                    "Óraszám": "3"
                                },
                                {
                                    "oktato_id": "8",
                                    "nev": "Pelikán József",
                                    "Időszak": "Két közben",
                                    "Óraszám": "3"
                                },
                                {
                                    "oktato_id": "9",
                                    "nev": "Farkasos Piroska",
                                    "Időszak": "Hét eleje",
                                    "Óraszám": "2"
                                },
                                {
                                    "oktato_id": "9",
                                    "nev": "Farkasos Piroska",
                                    "Időszak": "Hét vége",
                                    "Óraszám": "1"
                                },
                                {
                                    "oktato_id": "9",
                                    "nev": "Farkasos Piroska",
                                    "Időszak": "Két közben",
                                    "Óraszám": "4"
                                },
                                {
                                    "oktato_id": "10",
                                    "nev": "Jogrerős Pál",
                                    "Időszak": "Hét eleje",
                                    "Óraszám": "2"
                                },
                                {
                                    "oktato_id": "12",
                                    "nev": "Varga Kata",
                                    "Időszak": "Hét eleje",
                                    "Óraszám": "2"
                                },
                                {
                                    "oktato_id": "12",
                                    "nev": "Varga Kata",
                                    "Időszak": "Két közben",
                                    "Óraszám": "2"
                                },
                                {
                                    "oktato_id": "14",
                                    "nev": "Szénási ászló",
                                    "Időszak": "Két közben",
                                    "Óraszám": "2"
                                },
                                {
                                    "oktato_id": "18",
                                    "nev": "Nógrádi Kata",
                                    "Időszak": "Két közben",
                                    "Óraszám": "1"
                                },
                                {
                                    "oktato_id": "20",
                                    "nev": "Kovács András",
                                    "Időszak": "Hét eleje",
                                    "Óraszám": "2"
                                },
                                {
                                    "oktato_id": "20",
                                    "nev": "Kovács András",
                                    "Időszak": "Két közben",
                                    "Óraszám": "2"
                                },
                                {
                                    "oktato_id": "104",
                                    "nev": "Ludas Mátyás",
                                    "Időszak": "Hét eleje",
                                    "Óraszám": "1"
                                },
                                {
                                    "oktato_id": "104",
                                    "nev": "Ludas Mátyás",
                                    "Időszak": "Két közben",
                                    "Óraszám": "1"
                                },
                                {
                                    "oktato_id": "108",
                                    "nev": "Róbert Gida",
                                    "Időszak": "Két közben",
                                    "Óraszám": "1"
                                },
                                {
                                    "oktato_id": "111",
                                    "nev": "Vitéz János",
                                    "Időszak": "Hét vége",
                                    "Óraszám": "2"
                                },
                                {
                                    "oktato_id": "111",
                                    "nev": "Vitéz János",
                                    "Időszak": "Két közben",
                                    "Óraszám": "2"
                                },
                                {
                                    "oktato_id": "200",
                                    "nev": "Aranyi Mária",
                                    "Időszak": "Hét eleje",
                                    "Óraszám": "1"
                                },
                                {
                                    "oktato_id": "300",
                                    "nev": "Szabó Andrera",
                                    "Időszak": "Két közben",
                                    "Óraszám": "2"
                                },
                                {
                                    "oktato_id": "301",
                                    "nev": "Juhász András",
                                    "Időszak": "Két közben",
                                    "Óraszám": "2"
                                }
                            ]
                        },
                        "text/html": [
                            "<table>",
                            "<tr><th>oktato_id</th><th>nev</th><th>Időszak</th><th>Óraszám</th></tr>",
                            "<tr><td>1</td><td>Kovács László</td><td>Hét vége</td><td>1</td></tr>",
                            "<tr><td>1</td><td>Kovács László</td><td>Két közben</td><td>3</td></tr>",
                            "<tr><td>2</td><td>Szentágotai Istvás</td><td>Hét eleje</td><td>1</td></tr>",
                            "<tr><td>2</td><td>Szentágotai Istvás</td><td>Hét vége</td><td>2</td></tr>",
                            "<tr><td>2</td><td>Szentágotai Istvás</td><td>Két közben</td><td>5</td></tr>",
                            "<tr><td>3</td><td>Szerb László</td><td>Két közben</td><td>3</td></tr>",
                            "<tr><td>4</td><td>Ujfalussi István</td><td>Hét eleje</td><td>1</td></tr>",
                            "<tr><td>4</td><td>Ujfalussi István</td><td>Két közben</td><td>2</td></tr>",
                            "<tr><td>5</td><td>Balkán András</td><td>Hét eleje</td><td>2</td></tr>",
                            "<tr><td>5</td><td>Balkán András</td><td>Két közben</td><td>1</td></tr>",
                            "<tr><td>6</td><td>Szép llonka</td><td>Hét eleje</td><td>4</td></tr>",
                            "<tr><td>7</td><td>Kiss János</td><td>Hét eleje</td><td>2</td></tr>",
                            "<tr><td>7</td><td>Kiss János</td><td>Két közben</td><td>2</td></tr>",
                            "<tr><td>8</td><td>Pelikán József</td><td>Hét eleje</td><td>3</td></tr>",
                            "<tr><td>8</td><td>Pelikán József</td><td>Két közben</td><td>3</td></tr>",
                            "<tr><td>9</td><td>Farkasos Piroska</td><td>Hét eleje</td><td>2</td></tr>",
                            "<tr><td>9</td><td>Farkasos Piroska</td><td>Hét vége</td><td>1</td></tr>",
                            "<tr><td>9</td><td>Farkasos Piroska</td><td>Két közben</td><td>4</td></tr>",
                            "<tr><td>10</td><td>Jogrerős Pál</td><td>Hét eleje</td><td>2</td></tr>",
                            "<tr><td>12</td><td>Varga Kata</td><td>Hét eleje</td><td>2</td></tr>",
                            "<tr><td>12</td><td>Varga Kata</td><td>Két közben</td><td>2</td></tr>",
                            "<tr><td>14</td><td>Szénási ászló</td><td>Két közben</td><td>2</td></tr>",
                            "<tr><td>18</td><td>Nógrádi Kata</td><td>Két közben</td><td>1</td></tr>",
                            "<tr><td>20</td><td>Kovács András</td><td>Hét eleje</td><td>2</td></tr>",
                            "<tr><td>20</td><td>Kovács András</td><td>Két közben</td><td>2</td></tr>",
                            "<tr><td>104</td><td>Ludas Mátyás</td><td>Hét eleje</td><td>1</td></tr>",
                            "<tr><td>104</td><td>Ludas Mátyás</td><td>Két közben</td><td>1</td></tr>",
                            "<tr><td>108</td><td>Róbert Gida</td><td>Két közben</td><td>1</td></tr>",
                            "<tr><td>111</td><td>Vitéz János</td><td>Hét vége</td><td>2</td></tr>",
                            "<tr><td>111</td><td>Vitéz János</td><td>Két közben</td><td>2</td></tr>",
                            "<tr><td>200</td><td>Aranyi Mária</td><td>Hét eleje</td><td>1</td></tr>",
                            "<tr><td>300</td><td>Szabó Andrera</td><td>Két közben</td><td>2</td></tr>",
                            "<tr><td>301</td><td>Juhász András</td><td>Két közben</td><td>2</td></tr>",
                            "</table>"
                        ]
                    }
                }
            ],
            "execution_count": 27
        },
        {
            "cell_type": "code",
            "source": [
                "SELECT okt.oktato_id,\r\n",
                "       okt.nev,\r\n",
                "       CASE \r\n",
                "            WHEN n.nap = N'Hétfő' THEN 'Hét eleje'\r\n",
                "            WHEN n.nap IN ('Kedd', 'Szerda', 'Csütörtök') THEN 'hét közepe'\r\n",
                "            ELSE 'hét vége'\r\n",
                "       END AS 'Időszak',\r\n",
                "       COUNT(*)\r\n",
                "FROM Oktatok okt JOIN Orak o ON okt.oktato_id = o.tanar\r\n",
                "                 JOIN Napok n ON o.nap = n.nap_id\r\n",
                "GROUP BY okt.oktato_id, \r\n",
                "         okt.nev,\r\n",
                "         CASE \r\n",
                "            WHEN n.nap = N'Hétfő' THEN 'Hét eleje'\r\n",
                "            WHEN n.nap IN ('Kedd', 'Szerda', 'Csütörtök') THEN 'hét közepe'\r\n",
                "            ELSE 'hét vége'\r\n",
                "         END\r\n",
                "ORDER BY okt.oktato_id, okt.nev, 'Időszak'"
            ],
            "metadata": {
                "language": "sql",
                "azdata_cell_guid": "89c809ff-6a98-4dd0-8d53-7d1d5a2481b2"
            },
            "outputs": [
                {
                    "output_type": "display_data",
                    "data": {
                        "text/html": "(33 rows affected)"
                    },
                    "metadata": {}
                },
                {
                    "output_type": "display_data",
                    "data": {
                        "text/html": "Total execution time: 00:00:00.035"
                    },
                    "metadata": {}
                },
                {
                    "output_type": "execute_result",
                    "metadata": {},
                    "execution_count": 25,
                    "data": {
                        "application/vnd.dataresource+json": {
                            "schema": {
                                "fields": [
                                    {
                                        "name": "oktato_id"
                                    },
                                    {
                                        "name": "nev"
                                    },
                                    {
                                        "name": "Időszak"
                                    },
                                    {
                                        "name": "(No column name)"
                                    }
                                ]
                            },
                            "data": [
                                {
                                    "oktato_id": "1",
                                    "nev": "Kovács László",
                                    "Időszak": "hét közepe",
                                    "(No column name)": "3"
                                },
                                {
                                    "oktato_id": "1",
                                    "nev": "Kovács László",
                                    "Időszak": "hét vége",
                                    "(No column name)": "1"
                                },
                                {
                                    "oktato_id": "2",
                                    "nev": "Szentágotai Istvás",
                                    "Időszak": "Hét eleje",
                                    "(No column name)": "1"
                                },
                                {
                                    "oktato_id": "2",
                                    "nev": "Szentágotai Istvás",
                                    "Időszak": "hét közepe",
                                    "(No column name)": "5"
                                },
                                {
                                    "oktato_id": "2",
                                    "nev": "Szentágotai Istvás",
                                    "Időszak": "hét vége",
                                    "(No column name)": "2"
                                },
                                {
                                    "oktato_id": "3",
                                    "nev": "Szerb László",
                                    "Időszak": "hét közepe",
                                    "(No column name)": "3"
                                },
                                {
                                    "oktato_id": "4",
                                    "nev": "Ujfalussi István",
                                    "Időszak": "Hét eleje",
                                    "(No column name)": "1"
                                },
                                {
                                    "oktato_id": "4",
                                    "nev": "Ujfalussi István",
                                    "Időszak": "hét közepe",
                                    "(No column name)": "2"
                                },
                                {
                                    "oktato_id": "5",
                                    "nev": "Balkán András",
                                    "Időszak": "Hét eleje",
                                    "(No column name)": "2"
                                },
                                {
                                    "oktato_id": "5",
                                    "nev": "Balkán András",
                                    "Időszak": "hét közepe",
                                    "(No column name)": "1"
                                },
                                {
                                    "oktato_id": "6",
                                    "nev": "Szép llonka",
                                    "Időszak": "Hét eleje",
                                    "(No column name)": "4"
                                },
                                {
                                    "oktato_id": "7",
                                    "nev": "Kiss János",
                                    "Időszak": "Hét eleje",
                                    "(No column name)": "2"
                                },
                                {
                                    "oktato_id": "7",
                                    "nev": "Kiss János",
                                    "Időszak": "hét közepe",
                                    "(No column name)": "2"
                                },
                                {
                                    "oktato_id": "8",
                                    "nev": "Pelikán József",
                                    "Időszak": "Hét eleje",
                                    "(No column name)": "3"
                                },
                                {
                                    "oktato_id": "8",
                                    "nev": "Pelikán József",
                                    "Időszak": "hét közepe",
                                    "(No column name)": "3"
                                },
                                {
                                    "oktato_id": "9",
                                    "nev": "Farkasos Piroska",
                                    "Időszak": "Hét eleje",
                                    "(No column name)": "2"
                                },
                                {
                                    "oktato_id": "9",
                                    "nev": "Farkasos Piroska",
                                    "Időszak": "hét közepe",
                                    "(No column name)": "4"
                                },
                                {
                                    "oktato_id": "9",
                                    "nev": "Farkasos Piroska",
                                    "Időszak": "hét vége",
                                    "(No column name)": "1"
                                },
                                {
                                    "oktato_id": "10",
                                    "nev": "Jogrerős Pál",
                                    "Időszak": "Hét eleje",
                                    "(No column name)": "2"
                                },
                                {
                                    "oktato_id": "12",
                                    "nev": "Varga Kata",
                                    "Időszak": "Hét eleje",
                                    "(No column name)": "2"
                                },
                                {
                                    "oktato_id": "12",
                                    "nev": "Varga Kata",
                                    "Időszak": "hét közepe",
                                    "(No column name)": "2"
                                },
                                {
                                    "oktato_id": "14",
                                    "nev": "Szénási ászló",
                                    "Időszak": "hét közepe",
                                    "(No column name)": "2"
                                },
                                {
                                    "oktato_id": "18",
                                    "nev": "Nógrádi Kata",
                                    "Időszak": "hét közepe",
                                    "(No column name)": "1"
                                },
                                {
                                    "oktato_id": "20",
                                    "nev": "Kovács András",
                                    "Időszak": "Hét eleje",
                                    "(No column name)": "2"
                                },
                                {
                                    "oktato_id": "20",
                                    "nev": "Kovács András",
                                    "Időszak": "hét közepe",
                                    "(No column name)": "2"
                                },
                                {
                                    "oktato_id": "104",
                                    "nev": "Ludas Mátyás",
                                    "Időszak": "Hét eleje",
                                    "(No column name)": "1"
                                },
                                {
                                    "oktato_id": "104",
                                    "nev": "Ludas Mátyás",
                                    "Időszak": "hét közepe",
                                    "(No column name)": "1"
                                },
                                {
                                    "oktato_id": "108",
                                    "nev": "Róbert Gida",
                                    "Időszak": "hét közepe",
                                    "(No column name)": "1"
                                },
                                {
                                    "oktato_id": "111",
                                    "nev": "Vitéz János",
                                    "Időszak": "hét közepe",
                                    "(No column name)": "2"
                                },
                                {
                                    "oktato_id": "111",
                                    "nev": "Vitéz János",
                                    "Időszak": "hét vége",
                                    "(No column name)": "2"
                                },
                                {
                                    "oktato_id": "200",
                                    "nev": "Aranyi Mária",
                                    "Időszak": "Hét eleje",
                                    "(No column name)": "1"
                                },
                                {
                                    "oktato_id": "300",
                                    "nev": "Szabó Andrera",
                                    "Időszak": "hét közepe",
                                    "(No column name)": "2"
                                },
                                {
                                    "oktato_id": "301",
                                    "nev": "Juhász András",
                                    "Időszak": "hét közepe",
                                    "(No column name)": "2"
                                }
                            ]
                        },
                        "text/html": [
                            "<table>",
                            "<tr><th>oktato_id</th><th>nev</th><th>Időszak</th><th>(No column name)</th></tr>",
                            "<tr><td>1</td><td>Kovács László</td><td>hét közepe</td><td>3</td></tr>",
                            "<tr><td>1</td><td>Kovács László</td><td>hét vége</td><td>1</td></tr>",
                            "<tr><td>2</td><td>Szentágotai Istvás</td><td>Hét eleje</td><td>1</td></tr>",
                            "<tr><td>2</td><td>Szentágotai Istvás</td><td>hét közepe</td><td>5</td></tr>",
                            "<tr><td>2</td><td>Szentágotai Istvás</td><td>hét vége</td><td>2</td></tr>",
                            "<tr><td>3</td><td>Szerb László</td><td>hét közepe</td><td>3</td></tr>",
                            "<tr><td>4</td><td>Ujfalussi István</td><td>Hét eleje</td><td>1</td></tr>",
                            "<tr><td>4</td><td>Ujfalussi István</td><td>hét közepe</td><td>2</td></tr>",
                            "<tr><td>5</td><td>Balkán András</td><td>Hét eleje</td><td>2</td></tr>",
                            "<tr><td>5</td><td>Balkán András</td><td>hét közepe</td><td>1</td></tr>",
                            "<tr><td>6</td><td>Szép llonka</td><td>Hét eleje</td><td>4</td></tr>",
                            "<tr><td>7</td><td>Kiss János</td><td>Hét eleje</td><td>2</td></tr>",
                            "<tr><td>7</td><td>Kiss János</td><td>hét közepe</td><td>2</td></tr>",
                            "<tr><td>8</td><td>Pelikán József</td><td>Hét eleje</td><td>3</td></tr>",
                            "<tr><td>8</td><td>Pelikán József</td><td>hét közepe</td><td>3</td></tr>",
                            "<tr><td>9</td><td>Farkasos Piroska</td><td>Hét eleje</td><td>2</td></tr>",
                            "<tr><td>9</td><td>Farkasos Piroska</td><td>hét közepe</td><td>4</td></tr>",
                            "<tr><td>9</td><td>Farkasos Piroska</td><td>hét vége</td><td>1</td></tr>",
                            "<tr><td>10</td><td>Jogrerős Pál</td><td>Hét eleje</td><td>2</td></tr>",
                            "<tr><td>12</td><td>Varga Kata</td><td>Hét eleje</td><td>2</td></tr>",
                            "<tr><td>12</td><td>Varga Kata</td><td>hét közepe</td><td>2</td></tr>",
                            "<tr><td>14</td><td>Szénási ászló</td><td>hét közepe</td><td>2</td></tr>",
                            "<tr><td>18</td><td>Nógrádi Kata</td><td>hét közepe</td><td>1</td></tr>",
                            "<tr><td>20</td><td>Kovács András</td><td>Hét eleje</td><td>2</td></tr>",
                            "<tr><td>20</td><td>Kovács András</td><td>hét közepe</td><td>2</td></tr>",
                            "<tr><td>104</td><td>Ludas Mátyás</td><td>Hét eleje</td><td>1</td></tr>",
                            "<tr><td>104</td><td>Ludas Mátyás</td><td>hét közepe</td><td>1</td></tr>",
                            "<tr><td>108</td><td>Róbert Gida</td><td>hét közepe</td><td>1</td></tr>",
                            "<tr><td>111</td><td>Vitéz János</td><td>hét közepe</td><td>2</td></tr>",
                            "<tr><td>111</td><td>Vitéz János</td><td>hét vége</td><td>2</td></tr>",
                            "<tr><td>200</td><td>Aranyi Mária</td><td>Hét eleje</td><td>1</td></tr>",
                            "<tr><td>300</td><td>Szabó Andrera</td><td>hét közepe</td><td>2</td></tr>",
                            "<tr><td>301</td><td>Juhász András</td><td>hét közepe</td><td>2</td></tr>",
                            "</table>"
                        ]
                    }
                }
            ],
            "execution_count": 25
        },
        {
            "cell_type": "markdown",
            "source": [
                "10. <span style=\"background-color: rgb(255, 255, 255); color: rgb(36, 41, 47); font-family: -apple-system, BlinkMacSystemFont, &quot;Segoe UI&quot;, Helvetica, Arial, sans-serif, &quot;Apple Color Emoji&quot;, &quot;Segoe UI Emoji&quot;; font-size: 16px; font-weight: 600;\">Melyik napokon nincs órája Pelikán Józsefnek?</span>"
            ],
            "metadata": {
                "azdata_cell_guid": "217c5772-afe2-4a7c-b913-e3a3e09d6411"
            },
            "attachments": {}
        },
        {
            "cell_type": "code",
            "source": [
                "SELECT n.nap\r\n",
                "FROM Orak o JOIN Napok n ON o.nap=n.nap_id\r\n",
                "            JOIN Oktatok okt ON okt.oktato_id=o.tanar\r\n",
                "\r\n",
                "EXCEPT\r\n",
                "\r\n",
                "SELECT n.nap\r\n",
                "FROM Orak o JOIN Napok n ON o.nap=n.nap_id\r\n",
                "            JOIN Oktatok okt ON okt.oktato_id=o.tanar\r\n",
                "WHERE okt.nev='Pelikán József'\r\n",
                ""
            ],
            "metadata": {
                "azdata_cell_guid": "a9cc0926-3dbd-4ed8-8179-1c39d64a0762",
                "language": "sql"
            },
            "outputs": [
                {
                    "output_type": "display_data",
                    "data": {
                        "text/html": "(3 rows affected)"
                    },
                    "metadata": {}
                },
                {
                    "output_type": "display_data",
                    "data": {
                        "text/html": "Total execution time: 00:00:00.044"
                    },
                    "metadata": {}
                },
                {
                    "output_type": "execute_result",
                    "metadata": {},
                    "execution_count": 20,
                    "data": {
                        "application/vnd.dataresource+json": {
                            "schema": {
                                "fields": [
                                    {
                                        "name": "nap"
                                    }
                                ]
                            },
                            "data": [
                                {
                                    "nap": "Csütörtök"
                                },
                                {
                                    "nap": "Péntek"
                                },
                                {
                                    "nap": "Szerda"
                                }
                            ]
                        },
                        "text/html": [
                            "<table>",
                            "<tr><th>nap</th></tr>",
                            "<tr><td>Csütörtök</td></tr>",
                            "<tr><td>Péntek</td></tr>",
                            "<tr><td>Szerda</td></tr>",
                            "</table>"
                        ]
                    }
                }
            ],
            "execution_count": 20
        },
        {
            "cell_type": "markdown",
            "source": [
                "**A 11-15 feladatok gyakorlásra szolgálnak a közelgő zh-ra :-)**\n",
                "\n",
                "11. _Készítsünk listát az oktatók adatairól!_\n",
                "\n",
                "1. Az oktatók titulusa és neve összefűzve jelenjen meg, közöttük szóközzel!\n",
                "2. Ha valakinek nincs titulusa, akkor csak a neve jelenjen meg, szóköz nélkül!\n",
                "3. A listát rendezzük a beosztás kódja, azon belül a státusz kódja szerint növekvő sorrendbe!\n",
                "4. Az oszlopokat nevezzük el értelemszerűen!"
            ],
            "metadata": {
                "azdata_cell_guid": "d2340f5f-1614-473c-b937-85740d67f7c1"
            },
            "attachments": {}
        },
        {
            "cell_type": "code",
            "source": [
                "SELECT oktato_id AS 'Oktatási azonosító',\r\n",
                "       IIF(titulus IS NOT NULL, titulus+' '+nev, nev) AS 'Név',\r\n",
                "       beosztás AS 'Beosztás kódja',\r\n",
                "       [status] AS 'Státusz kódja'\r\n",
                "FROM Oktatok\r\n",
                "ORDER BY beosztás ASC,\r\n",
                "         [status] ASC"
            ],
            "metadata": {
                "azdata_cell_guid": "e99c2c53-898f-4787-b0e6-182d106dc16f",
                "language": "sql"
            },
            "outputs": [
                {
                    "output_type": "display_data",
                    "data": {
                        "text/html": "(25 rows affected)"
                    },
                    "metadata": {}
                },
                {
                    "output_type": "display_data",
                    "data": {
                        "text/html": "Total execution time: 00:00:00.031"
                    },
                    "metadata": {}
                },
                {
                    "output_type": "execute_result",
                    "execution_count": 7,
                    "data": {
                        "application/vnd.dataresource+json": {
                            "schema": {
                                "fields": [
                                    {
                                        "name": "Oktatási azonosító"
                                    },
                                    {
                                        "name": "Név"
                                    },
                                    {
                                        "name": "Beosztás kódja"
                                    },
                                    {
                                        "name": "Státusz kódja"
                                    }
                                ]
                            },
                            "data": [
                                {
                                    "Oktatási azonosító": "18",
                                    "Név": "Nógrádi Kata",
                                    "Beosztás kódja": "1",
                                    "Státusz kódja": "1"
                                },
                                {
                                    "Oktatási azonosító": "19",
                                    "Név": "Rácz András",
                                    "Beosztás kódja": "1",
                                    "Státusz kódja": "1"
                                },
                                {
                                    "Oktatási azonosító": "20",
                                    "Név": "Kovács András",
                                    "Beosztás kódja": "1",
                                    "Státusz kódja": "1"
                                },
                                {
                                    "Oktatási azonosító": "104",
                                    "Név": "Ludas Mátyás",
                                    "Beosztás kódja": "1",
                                    "Státusz kódja": "1"
                                },
                                {
                                    "Oktatási azonosító": "200",
                                    "Név": "Aranyi Mária",
                                    "Beosztás kódja": "1",
                                    "Státusz kódja": "1"
                                },
                                {
                                    "Oktatási azonosító": "300",
                                    "Név": "Szabó Andrera",
                                    "Beosztás kódja": "1",
                                    "Státusz kódja": "1"
                                },
                                {
                                    "Oktatási azonosító": "105",
                                    "Név": "Kiss István",
                                    "Beosztás kódja": "1",
                                    "Státusz kódja": "2"
                                },
                                {
                                    "Oktatási azonosító": "107",
                                    "Név": "Mészáros Kriszta",
                                    "Beosztás kódja": "1",
                                    "Státusz kódja": "2"
                                },
                                {
                                    "Oktatási azonosító": "108",
                                    "Név": "Róbert Gida",
                                    "Beosztás kódja": "2",
                                    "Státusz kódja": "1"
                                },
                                {
                                    "Oktatási azonosító": "111",
                                    "Név": "Vitéz János",
                                    "Beosztás kódja": "2",
                                    "Státusz kódja": "1"
                                },
                                {
                                    "Oktatási azonosító": "7",
                                    "Név": "Kiss János",
                                    "Beosztás kódja": "2",
                                    "Státusz kódja": "1"
                                },
                                {
                                    "Oktatási azonosító": "8",
                                    "Név": "Pelikán József",
                                    "Beosztás kódja": "2",
                                    "Státusz kódja": "3"
                                },
                                {
                                    "Oktatási azonosító": "9",
                                    "Név": "Farkasos Piroska",
                                    "Beosztás kódja": "2",
                                    "Státusz kódja": "3"
                                },
                                {
                                    "Oktatási azonosító": "6",
                                    "Név": "Dr. Szép llonka",
                                    "Beosztás kódja": "3",
                                    "Státusz kódja": "1"
                                },
                                {
                                    "Oktatási azonosító": "14",
                                    "Név": "Szénási ászló",
                                    "Beosztás kódja": "3",
                                    "Státusz kódja": "1"
                                },
                                {
                                    "Oktatási azonosító": "2",
                                    "Név": "Dr. Szentágotai Istvás",
                                    "Beosztás kódja": "3",
                                    "Státusz kódja": "2"
                                },
                                {
                                    "Oktatási azonosító": "3",
                                    "Név": "Szerb László",
                                    "Beosztás kódja": "4",
                                    "Státusz kódja": "1"
                                },
                                {
                                    "Oktatási azonosító": "11",
                                    "Név": "Dr. Józsa Gábor",
                                    "Beosztás kódja": "4",
                                    "Státusz kódja": "1"
                                },
                                {
                                    "Oktatási azonosító": "12",
                                    "Név": "Dr. Varga Kata",
                                    "Beosztás kódja": "4",
                                    "Státusz kódja": "1"
                                },
                                {
                                    "Oktatási azonosító": "5",
                                    "Név": "Dr. Balkán András",
                                    "Beosztás kódja": "4",
                                    "Státusz kódja": "2"
                                },
                                {
                                    "Oktatási azonosító": "302",
                                    "Név": "Dr. Kovacs Istvan",
                                    "Beosztás kódja": "5",
                                    "Státusz kódja": "1"
                                },
                                {
                                    "Oktatási azonosító": "301",
                                    "Név": "Dr. Juhász András",
                                    "Beosztás kódja": "6",
                                    "Státusz kódja": "1"
                                },
                                {
                                    "Oktatási azonosító": "10",
                                    "Név": "Prof. Jogrerős Pál",
                                    "Beosztás kódja": "6",
                                    "Státusz kódja": "1"
                                },
                                {
                                    "Oktatási azonosító": "1",
                                    "Név": "Dr. Kovács László",
                                    "Beosztás kódja": "6",
                                    "Státusz kódja": "2"
                                },
                                {
                                    "Oktatási azonosító": "4",
                                    "Név": "Prof, tanszékvezető Ujfalussi István",
                                    "Beosztás kódja": "6",
                                    "Státusz kódja": "2"
                                }
                            ]
                        },
                        "text/html": "<table><tr><th>Oktatási azonosító</th><th>Név</th><th>Beosztás kódja</th><th>Státusz kódja</th></tr><tr><td>18</td><td>Nógrádi Kata</td><td>1</td><td>1</td></tr><tr><td>19</td><td>Rácz András</td><td>1</td><td>1</td></tr><tr><td>20</td><td>Kovács András</td><td>1</td><td>1</td></tr><tr><td>104</td><td>Ludas Mátyás</td><td>1</td><td>1</td></tr><tr><td>200</td><td>Aranyi Mária</td><td>1</td><td>1</td></tr><tr><td>300</td><td>Szabó Andrera</td><td>1</td><td>1</td></tr><tr><td>105</td><td>Kiss István</td><td>1</td><td>2</td></tr><tr><td>107</td><td>Mészáros Kriszta</td><td>1</td><td>2</td></tr><tr><td>108</td><td>Róbert Gida</td><td>2</td><td>1</td></tr><tr><td>111</td><td>Vitéz János</td><td>2</td><td>1</td></tr><tr><td>7</td><td>Kiss János</td><td>2</td><td>1</td></tr><tr><td>8</td><td>Pelikán József</td><td>2</td><td>3</td></tr><tr><td>9</td><td>Farkasos Piroska</td><td>2</td><td>3</td></tr><tr><td>6</td><td>Dr. Szép llonka</td><td>3</td><td>1</td></tr><tr><td>14</td><td>Szénási ászló</td><td>3</td><td>1</td></tr><tr><td>2</td><td>Dr. Szentágotai Istvás</td><td>3</td><td>2</td></tr><tr><td>3</td><td>Szerb László</td><td>4</td><td>1</td></tr><tr><td>11</td><td>Dr. Józsa Gábor</td><td>4</td><td>1</td></tr><tr><td>12</td><td>Dr. Varga Kata</td><td>4</td><td>1</td></tr><tr><td>5</td><td>Dr. Balkán András</td><td>4</td><td>2</td></tr><tr><td>302</td><td>Dr. Kovacs Istvan</td><td>5</td><td>1</td></tr><tr><td>301</td><td>Dr. Juhász András</td><td>6</td><td>1</td></tr><tr><td>10</td><td>Prof. Jogrerős Pál</td><td>6</td><td>1</td></tr><tr><td>1</td><td>Dr. Kovács László</td><td>6</td><td>2</td></tr><tr><td>4</td><td>Prof, tanszékvezető Ujfalussi István</td><td>6</td><td>2</td></tr></table>"
                    },
                    "metadata": {}
                }
            ],
            "execution_count": 7
        },
        {
            "cell_type": "markdown",
            "source": [
                "<span style=\"color: #09885a;\">12</span>. Készítsünk listát, amely megmutatja, hogy összesen hány tantárgy van kreditenkénti csoportosításban!\n",
                "\n",
                "  \n",
                "\n",
                "A listából hagyjuk ki azokat a tételeket, ahol ez a darabszám <span style=\"color: #09885a;\">1</span>!\n",
                "\n",
                "A Folyami gáttan tantárgyat ne vegyük figyelembe!\n",
                "\n",
                "A listát rendezzük darabszám szerint csökkenő sorrendbe!\n",
                "\n",
                "Az oszlopokat nevezzük el értelemszerűen!"
            ],
            "metadata": {
                "azdata_cell_guid": "a765e9d6-58b3-4171-872a-78f3118fd6e3"
            },
            "attachments": {}
        },
        {
            "cell_type": "code",
            "source": [
                "SELECT Kredit AS 'Kredit',\r\n",
                "       COUNT(Tantárgynév) AS 'Tantárgyak száma'\r\n",
                "FROM Tantárgyak\r\n",
                "WHERE 'Folyami gáttan'!=Tantárgynév\r\n",
                "GROUP BY Kredit\r\n",
                "HAVING COUNT(Tantárgynév)<>1\r\n",
                "ORDER BY COUNT(Tantárgynév) DESC\r\n",
                ""
            ],
            "metadata": {
                "azdata_cell_guid": "422e8127-b652-4d3a-bfd7-9b1637b5781e",
                "language": "sql"
            },
            "outputs": [
                {
                    "output_type": "display_data",
                    "data": {
                        "text/html": "(4 rows affected)"
                    },
                    "metadata": {}
                },
                {
                    "output_type": "display_data",
                    "data": {
                        "text/html": "Total execution time: 00:00:00.036"
                    },
                    "metadata": {}
                },
                {
                    "output_type": "execute_result",
                    "execution_count": 16,
                    "data": {
                        "application/vnd.dataresource+json": {
                            "schema": {
                                "fields": [
                                    {
                                        "name": "Kredit"
                                    },
                                    {
                                        "name": "Tantárgyak száma"
                                    }
                                ]
                            },
                            "data": [
                                {
                                    "Kredit": "2",
                                    "Tantárgyak száma": "3"
                                },
                                {
                                    "Kredit": "3",
                                    "Tantárgyak száma": "3"
                                },
                                {
                                    "Kredit": "4",
                                    "Tantárgyak száma": "2"
                                },
                                {
                                    "Kredit": "1",
                                    "Tantárgyak száma": "2"
                                }
                            ]
                        },
                        "text/html": "<table><tr><th>Kredit</th><th>Tantárgyak száma</th></tr><tr><td>2</td><td>3</td></tr><tr><td>3</td><td>3</td></tr><tr><td>4</td><td>2</td></tr><tr><td>1</td><td>2</td></tr></table>"
                    },
                    "metadata": {}
                }
            ],
            "execution_count": 16
        },
        {
            "cell_type": "markdown",
            "source": [
                "13. _Készítsünk listát az oktatók nevéről, a beosztásuk alapján elvárt és a tényleges óraszámukról!_\n",
                "\n",
                "1. Az oszlopok neve legyen 'Oktató neve', 'Elvárt óraszám' és 'Tényleges óraszám'\n",
                "2. Szűrjük a listát azokra az oktatókra, ahol az elvárt és a tényleges óraszám azonos"
            ],
            "metadata": {
                "azdata_cell_guid": "3f9237ae-f109-401c-acb9-31d75e73331b"
            },
            "attachments": {}
        },
        {
            "cell_type": "code",
            "source": [
                "SELECT okt.nev AS 'Oktató neve',\r\n",
                "       b.elvart AS 'Elvárt óraszám',\r\n",
                "       COUNT(*) AS 'Tényleges óraszám' -- vagy COUNT(o.tanar)-> megszámolja, egy tanárnak hányszor van órája\r\n",
                "FROM Oktatok okt JOIN Beosztasok b ON okt.beosztás=b.beosztas_id\r\n",
                "                 JOIN Orak o ON o.tanar=okt.oktato_id\r\n",
                "GROUP BY okt.nev, b.elvart\r\n",
                "HAVING b.elvart=COUNT(*)\r\n",
                ""
            ],
            "metadata": {
                "azdata_cell_guid": "4b31bb89-cfbc-46b1-8639-85c462877786",
                "language": "sql"
            },
            "outputs": [
                {
                    "output_type": "display_data",
                    "data": {
                        "text/html": "(4 rows affected)"
                    },
                    "metadata": {}
                },
                {
                    "output_type": "display_data",
                    "data": {
                        "text/html": "Total execution time: 00:00:00.033"
                    },
                    "metadata": {}
                },
                {
                    "output_type": "execute_result",
                    "execution_count": 28,
                    "data": {
                        "application/vnd.dataresource+json": {
                            "schema": {
                                "fields": [
                                    {
                                        "name": "Oktató neve"
                                    },
                                    {
                                        "name": "Elvárt óraszám"
                                    },
                                    {
                                        "name": "Tényleges óraszám"
                                    }
                                ]
                            },
                            "data": [
                                {
                                    "Oktató neve": "Jogrerős Pál",
                                    "Elvárt óraszám": "2",
                                    "Tényleges óraszám": "2"
                                },
                                {
                                    "Oktató neve": "Juhász András",
                                    "Elvárt óraszám": "2",
                                    "Tényleges óraszám": "2"
                                },
                                {
                                    "Oktató neve": "Varga Kata",
                                    "Elvárt óraszám": "4",
                                    "Tényleges óraszám": "4"
                                },
                                {
                                    "Oktató neve": "Pelikán József",
                                    "Elvárt óraszám": "6",
                                    "Tényleges óraszám": "6"
                                }
                            ]
                        },
                        "text/html": "<table><tr><th>Oktató neve</th><th>Elvárt óraszám</th><th>Tényleges óraszám</th></tr><tr><td>Jogrerős Pál</td><td>2</td><td>2</td></tr><tr><td>Juhász András</td><td>2</td><td>2</td></tr><tr><td>Varga Kata</td><td>4</td><td>4</td></tr><tr><td>Pelikán József</td><td>6</td><td>6</td></tr></table>"
                    },
                    "metadata": {}
                }
            ],
            "execution_count": 28
        },
        {
            "cell_type": "markdown",
            "source": [
                "14. _Készítsünk listát, amely megmutatja, hogy mely tantárgyból nincs óra egyáltalán!_\n",
                "\n",
                "1. Csak a tantárgy neve jelenjen meg!"
            ],
            "metadata": {
                "azdata_cell_guid": "f634e09a-85ef-4e70-8ec6-ef355dfddaa7"
            },
            "attachments": {}
        },
        {
            "cell_type": "code",
            "source": [
                "SELECT t.Tantárgynév\r\n",
                "FROM Tantárgyak t LEFT JOIN Orak o ON t.Tkód=o.targy\r\n",
                "WHERE o.nap is NULL"
            ],
            "metadata": {
                "azdata_cell_guid": "88abc55b-2c78-495b-a72f-3f8f4eb5fe70",
                "language": "sql"
            },
            "outputs": [
                {
                    "output_type": "display_data",
                    "data": {
                        "text/html": "(1 row affected)"
                    },
                    "metadata": {}
                },
                {
                    "output_type": "display_data",
                    "data": {
                        "text/html": "Total execution time: 00:00:00.043"
                    },
                    "metadata": {}
                },
                {
                    "output_type": "execute_result",
                    "execution_count": 35,
                    "data": {
                        "application/vnd.dataresource+json": {
                            "schema": {
                                "fields": [
                                    {
                                        "name": "Tantárgynév"
                                    }
                                ]
                            },
                            "data": [
                                {
                                    "Tantárgynév": "Folyami gáttan"
                                }
                            ]
                        },
                        "text/html": "<table><tr><th>Tantárgynév</th></tr><tr><td>Folyami gáttan</td></tr></table>"
                    },
                    "metadata": {}
                }
            ],
            "execution_count": 35
        },
        {
            "cell_type": "markdown",
            "source": [
                "15. _Hány órájuk van az óraadóknak napi bontásban?_\n",
                "\n",
                "1. Csak a napok nevét és az óraszámot jelenítsük meg!\n",
                "2. Rendezzük a listát óraszám szerint növekvő sorrendbe!"
            ],
            "metadata": {
                "azdata_cell_guid": "4cbf2f0d-a65d-480a-8186-ccdb24498443"
            },
            "attachments": {}
        },
        {
            "cell_type": "code",
            "source": [
                "SELECT n.nap AS 'Napok',\r\n",
                "       --b.beosztasnev\r\n",
                "       COUNT(o.tanar) AS 'Óraszám' \r\n",
                "FROM Orak o JOIN Napok n On o.nap=n.nap_id\r\n",
                "            JOIN Oktatok okt ON o.tanar=okt.oktato_id\r\n",
                "            --JOIN Beosztasok b ON okt.beosztás=b.beosztas_id\r\n",
                "            JOIN statusok s ON s.Skod=okt.[status]\r\n",
                "\r\n",
                "WHERE s.[Status]='Óraadó'\r\n",
                "GROUP BY n.nap\r\n",
                "ORDER BY COUNT(o.tanar) ASC"
            ],
            "metadata": {
                "azdata_cell_guid": "c148aee8-bc85-40bf-b80a-a4898a6c05cb",
                "language": "sql"
            },
            "outputs": [
                {
                    "output_type": "display_data",
                    "data": {
                        "text/html": "(5 rows affected)"
                    },
                    "metadata": {}
                },
                {
                    "output_type": "display_data",
                    "data": {
                        "text/html": "Total execution time: 00:00:00.031"
                    },
                    "metadata": {}
                },
                {
                    "output_type": "execute_result",
                    "execution_count": 71,
                    "data": {
                        "application/vnd.dataresource+json": {
                            "schema": {
                                "fields": [
                                    {
                                        "name": "Napok"
                                    },
                                    {
                                        "name": "Óraszám"
                                    }
                                ]
                            },
                            "data": [
                                {
                                    "Napok": "Péntek",
                                    "Óraszám": "1"
                                },
                                {
                                    "Napok": "Szerda",
                                    "Óraszám": "1"
                                },
                                {
                                    "Napok": "Csütörtök",
                                    "Óraszám": "3"
                                },
                                {
                                    "Napok": "Kedd",
                                    "Óraszám": "3"
                                },
                                {
                                    "Napok": "Hétfő",
                                    "Óraszám": "5"
                                }
                            ]
                        },
                        "text/html": "<table><tr><th>Napok</th><th>Óraszám</th></tr><tr><td>Péntek</td><td>1</td></tr><tr><td>Szerda</td><td>1</td></tr><tr><td>Csütörtök</td><td>3</td></tr><tr><td>Kedd</td><td>3</td></tr><tr><td>Hétfő</td><td>5</td></tr></table>"
                    },
                    "metadata": {}
                }
            ],
            "execution_count": 71
        },
        {
            "cell_type": "code",
            "source": [
                "--A feladat a Beosztások táblát használva is megoldható -> nem jött ki ugyanez a szám\r\n",
                "SELECT n.nap , \r\n",
                "       COUNT(*) AS 'Óraszám'\r\n",
                "FROM Orak ora JOIN Oktatok o ON ora.tanar = o.oktato_id\r\n",
                "              JOIN Napok n ON ora.nap = n.nap_id\r\n",
                "\t\t\t  JOIN statusok s on o.status = s.Skod\r\n",
                "WHERE s.Status = 'Óraadó'\r\n",
                "GROUP BY n.nap\r\n",
                "ORDER BY 2"
            ],
            "metadata": {
                "language": "sql",
                "azdata_cell_guid": "f12afcf3-6d3b-4fed-becb-b52facf74352"
            },
            "outputs": [
                {
                    "output_type": "display_data",
                    "data": {
                        "text/html": "(5 rows affected)"
                    },
                    "metadata": {}
                },
                {
                    "output_type": "display_data",
                    "data": {
                        "text/html": "Total execution time: 00:00:00.119"
                    },
                    "metadata": {}
                },
                {
                    "output_type": "execute_result",
                    "execution_count": 61,
                    "data": {
                        "application/vnd.dataresource+json": {
                            "schema": {
                                "fields": [
                                    {
                                        "name": "nap"
                                    },
                                    {
                                        "name": "Óraszám"
                                    }
                                ]
                            },
                            "data": [
                                {
                                    "nap": "Péntek",
                                    "Óraszám": "1"
                                },
                                {
                                    "nap": "Szerda",
                                    "Óraszám": "1"
                                },
                                {
                                    "nap": "Csütörtök",
                                    "Óraszám": "3"
                                },
                                {
                                    "nap": "Kedd",
                                    "Óraszám": "3"
                                },
                                {
                                    "nap": "Hétfő",
                                    "Óraszám": "5"
                                }
                            ]
                        },
                        "text/html": "<table><tr><th>nap</th><th>Óraszám</th></tr><tr><td>Péntek</td><td>1</td></tr><tr><td>Szerda</td><td>1</td></tr><tr><td>Csütörtök</td><td>3</td></tr><tr><td>Kedd</td><td>3</td></tr><tr><td>Hétfő</td><td>5</td></tr></table>"
                    },
                    "metadata": {}
                }
            ],
            "execution_count": 61
        },
        {
            "cell_type": "code",
            "source": [
                ""
            ],
            "metadata": {
                "language": "sql",
                "azdata_cell_guid": "d411bdb2-b38d-448c-943d-aa9e68d14916"
            },
            "outputs": [
                {
                    "output_type": "display_data",
                    "data": {
                        "text/html": "(3 rows affected)"
                    },
                    "metadata": {}
                },
                {
                    "output_type": "display_data",
                    "data": {
                        "text/html": "Total execution time: 00:00:00.029"
                    },
                    "metadata": {}
                },
                {
                    "output_type": "execute_result",
                    "execution_count": 78,
                    "data": {
                        "application/vnd.dataresource+json": {
                            "schema": {
                                "fields": [
                                    {
                                        "name": "nap"
                                    },
                                    {
                                        "name": "Óraszám"
                                    }
                                ]
                            },
                            "data": [
                                {
                                    "nap": "Kedd",
                                    "Óraszám": "1"
                                },
                                {
                                    "nap": "Hétfő",
                                    "Óraszám": "4"
                                },
                                {
                                    "nap": "Csütörtök",
                                    "Óraszám": "5"
                                }
                            ]
                        },
                        "text/html": "<table><tr><th>nap</th><th>Óraszám</th></tr><tr><td>Kedd</td><td>1</td></tr><tr><td>Hétfő</td><td>4</td></tr><tr><td>Csütörtök</td><td>5</td></tr></table>"
                    },
                    "metadata": {}
                }
            ],
            "execution_count": 78
        }
    ]
}