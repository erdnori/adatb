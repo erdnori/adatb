{
    "metadata": {
        "kernelspec": {
            "name": "SQL",
            "display_name": "SQL",
            "language": "sql"
        },
        "language_info": {
            "name": "sql",
            "version": ""
        }
    },
    "nbformat_minor": 2,
    "nbformat": 4,
    "cells": [
        {
            "cell_type": "code",
            "source": [
                "--2. kérdés\r\n",
                "SELECT DATEDIFF(YEAR, SZUL_DAT, GETDATE()) AS 'Életkor',\r\n",
                "       COUNT(*) AS 'Vendégek száma'\r\n",
                "\r\n",
                "FROM Vendeg\r\n",
                "WHERE DATEDIFF(YEAR, SZUL_DAT, GETDATE())>=18\r\n",
                "GROUP BY DATEDIFF(YEAR, SZUL_DAT, GETDATE())\r\n",
                "HAVING COUNT(*)>=5"
            ],
            "metadata": {
                "azdata_cell_guid": "684a4ab7-482b-4094-9037-29b0be4bcec7",
                "language": "sql"
            },
            "outputs": [
                {
                    "output_type": "display_data",
                    "data": {
                        "text/html": "(23 rows affected)"
                    },
                    "metadata": {}
                },
                {
                    "output_type": "display_data",
                    "data": {
                        "text/html": "Total execution time: 00:00:00.008"
                    },
                    "metadata": {}
                },
                {
                    "output_type": "execute_result",
                    "metadata": {},
                    "execution_count": 44,
                    "data": {
                        "application/vnd.dataresource+json": {
                            "schema": {
                                "fields": [
                                    {
                                        "name": "Életkor"
                                    },
                                    {
                                        "name": "Vendégek száma"
                                    }
                                ]
                            },
                            "data": [
                                {
                                    "Életkor": "28",
                                    "Vendégek száma": "12"
                                },
                                {
                                    "Életkor": "29",
                                    "Vendégek száma": "7"
                                },
                                {
                                    "Életkor": "30",
                                    "Vendégek száma": "6"
                                },
                                {
                                    "Életkor": "32",
                                    "Vendégek száma": "5"
                                },
                                {
                                    "Életkor": "34",
                                    "Vendégek száma": "6"
                                },
                                {
                                    "Életkor": "35",
                                    "Vendégek száma": "8"
                                },
                                {
                                    "Életkor": "36",
                                    "Vendégek száma": "7"
                                },
                                {
                                    "Életkor": "37",
                                    "Vendégek száma": "6"
                                },
                                {
                                    "Életkor": "38",
                                    "Vendégek száma": "5"
                                },
                                {
                                    "Életkor": "39",
                                    "Vendégek száma": "9"
                                },
                                {
                                    "Életkor": "40",
                                    "Vendégek száma": "6"
                                },
                                {
                                    "Életkor": "41",
                                    "Vendégek száma": "8"
                                },
                                {
                                    "Életkor": "42",
                                    "Vendégek száma": "8"
                                },
                                {
                                    "Életkor": "45",
                                    "Vendégek száma": "7"
                                },
                                {
                                    "Életkor": "46",
                                    "Vendégek száma": "7"
                                },
                                {
                                    "Életkor": "47",
                                    "Vendégek száma": "7"
                                },
                                {
                                    "Életkor": "48",
                                    "Vendégek száma": "5"
                                },
                                {
                                    "Életkor": "49",
                                    "Vendégek száma": "7"
                                },
                                {
                                    "Életkor": "50",
                                    "Vendégek száma": "10"
                                },
                                {
                                    "Életkor": "54",
                                    "Vendégek száma": "5"
                                },
                                {
                                    "Életkor": "56",
                                    "Vendégek száma": "8"
                                },
                                {
                                    "Életkor": "57",
                                    "Vendégek száma": "7"
                                },
                                {
                                    "Életkor": "58",
                                    "Vendégek száma": "8"
                                }
                            ]
                        },
                        "text/html": [
                            "<table>",
                            "<tr><th>Életkor</th><th>Vendégek száma</th></tr>",
                            "<tr><td>28</td><td>12</td></tr>",
                            "<tr><td>29</td><td>7</td></tr>",
                            "<tr><td>30</td><td>6</td></tr>",
                            "<tr><td>32</td><td>5</td></tr>",
                            "<tr><td>34</td><td>6</td></tr>",
                            "<tr><td>35</td><td>8</td></tr>",
                            "<tr><td>36</td><td>7</td></tr>",
                            "<tr><td>37</td><td>6</td></tr>",
                            "<tr><td>38</td><td>5</td></tr>",
                            "<tr><td>39</td><td>9</td></tr>",
                            "<tr><td>40</td><td>6</td></tr>",
                            "<tr><td>41</td><td>8</td></tr>",
                            "<tr><td>42</td><td>8</td></tr>",
                            "<tr><td>45</td><td>7</td></tr>",
                            "<tr><td>46</td><td>7</td></tr>",
                            "<tr><td>47</td><td>7</td></tr>",
                            "<tr><td>48</td><td>5</td></tr>",
                            "<tr><td>49</td><td>7</td></tr>",
                            "<tr><td>50</td><td>10</td></tr>",
                            "<tr><td>54</td><td>5</td></tr>",
                            "<tr><td>56</td><td>8</td></tr>",
                            "<tr><td>57</td><td>7</td></tr>",
                            "<tr><td>58</td><td>8</td></tr>",
                            "</table>"
                        ]
                    }
                }
            ],
            "execution_count": 44
        },
        {
            "cell_type": "code",
            "source": [
                "--3. kérdés\r\n",
                "SELECT szal.SZALLAS_NEV AS 'Szálláshely neve',\r\n",
                "       szob.SZOBA_SZAMA AS 'Szoba Száma',\r\n",
                "       COUNT(f.FOGLALAS_PK) AS 'Foglalások száma'\r\n",
                "FROM Szallashely szal JOIN Szoba szob ON szal.SZALLAS_ID=szob.SZALLAS_FK\r\n",
                "                      LEFT JOIN Foglalas f ON szob.SZOBA_ID=f.SZOBA_FK\r\n",
                "GROUP BY szal.SZALLAS_NEV,\r\n",
                "         szob.SZOBA_SZAMA\r\n",
                "HAVING COUNT(f.FOGLALAS_PK)>0"
            ],
            "metadata": {
                "language": "sql",
                "azdata_cell_guid": "0e83e508-5cfe-4551-8037-aa696a615077"
            },
            "outputs": [
                {
                    "output_type": "display_data",
                    "data": {
                        "text/html": "Warning: Null value is eliminated by an aggregate or other SET operation."
                    },
                    "metadata": {}
                },
                {
                    "output_type": "display_data",
                    "data": {
                        "text/html": "(187 rows affected)"
                    },
                    "metadata": {}
                },
                {
                    "output_type": "display_data",
                    "data": {
                        "text/html": "Total execution time: 00:00:00.022"
                    },
                    "metadata": {}
                },
                {
                    "output_type": "execute_result",
                    "metadata": {},
                    "execution_count": 45,
                    "data": {
                        "application/vnd.dataresource+json": {
                            "schema": {
                                "fields": [
                                    {
                                        "name": "Szálláshely neve"
                                    },
                                    {
                                        "name": "Szoba Száma"
                                    },
                                    {
                                        "name": "Foglalások száma"
                                    }
                                ]
                            },
                            "data": [
                                {
                                    "Szálláshely neve": "Családi Ház",
                                    "Szoba Száma": "1",
                                    "Foglalások száma": "4"
                                },
                                {
                                    "Szálláshely neve": "Fortuna Apartman",
                                    "Szoba Száma": "1",
                                    "Foglalások száma": "6"
                                },
                                {
                                    "Szálláshely neve": "Fortuna panzió",
                                    "Szoba Száma": "1",
                                    "Foglalások száma": "6"
                                },
                                {
                                    "Szálláshely neve": "Gold Hotel",
                                    "Szoba Száma": "1",
                                    "Foglalások száma": "7"
                                },
                                {
                                    "Szálláshely neve": "Hotel Három Hattyú",
                                    "Szoba Száma": "1",
                                    "Foglalások száma": "4"
                                },
                                {
                                    "Szálláshely neve": "Jáde panzió",
                                    "Szoba Száma": "1",
                                    "Foglalások száma": "6"
                                },
                                {
                                    "Szálláshely neve": "Kentaur Hotel",
                                    "Szoba Száma": "1",
                                    "Foglalások száma": "4"
                                },
                                {
                                    "Szálláshely neve": "Lagúna Hotel",
                                    "Szoba Száma": "1",
                                    "Foglalások száma": "3"
                                },
                                {
                                    "Szálláshely neve": "Partiszél Vendégház",
                                    "Szoba Száma": "1",
                                    "Foglalások száma": "5"
                                },
                                {
                                    "Szálláshely neve": "Sába-Ház",
                                    "Szoba Száma": "1",
                                    "Foglalások száma": "8"
                                },
                                {
                                    "Szálláshely neve": "Szieszta Apartmanház",
                                    "Szoba Száma": "1",
                                    "Foglalások száma": "4"
                                },
                                {
                                    "Szálláshely neve": "Fortuna Panzió",
                                    "Szoba Száma": "10",
                                    "Foglalások száma": "11"
                                },
                                {
                                    "Szálláshely neve": "Gold Hotel",
                                    "Szoba Száma": "10",
                                    "Foglalások száma": "4"
                                },
                                {
                                    "Szálláshely neve": "Hotel Három Hattyú",
                                    "Szoba Száma": "10",
                                    "Foglalások száma": "4"
                                },
                                {
                                    "Szálláshely neve": "Kentaur Hotel",
                                    "Szoba Száma": "10",
                                    "Foglalások száma": "7"
                                },
                                {
                                    "Szálláshely neve": "Lagúna Hotel",
                                    "Szoba Száma": "10",
                                    "Foglalások száma": "5"
                                },
                                {
                                    "Szálláshely neve": "Sába-Ház",
                                    "Szoba Száma": "10",
                                    "Foglalások száma": "4"
                                },
                                {
                                    "Szálláshely neve": "Fortuna panzió",
                                    "Szoba Száma": "11",
                                    "Foglalások száma": "9"
                                },
                                {
                                    "Szálláshely neve": "Gold Hotel",
                                    "Szoba Száma": "11",
                                    "Foglalások száma": "5"
                                },
                                {
                                    "Szálláshely neve": "Hotel Három Hattyú",
                                    "Szoba Száma": "11",
                                    "Foglalások száma": "3"
                                },
                                {
                                    "Szálláshely neve": "Kentaur Hotel",
                                    "Szoba Száma": "11",
                                    "Foglalások száma": "1"
                                },
                                {
                                    "Szálláshely neve": "Lagúna Hotel",
                                    "Szoba Száma": "11",
                                    "Foglalások száma": "6"
                                },
                                {
                                    "Szálláshely neve": "Sába-Ház",
                                    "Szoba Száma": "11",
                                    "Foglalások száma": "4"
                                },
                                {
                                    "Szálláshely neve": "Fortuna panzió",
                                    "Szoba Száma": "12",
                                    "Foglalások száma": "6"
                                },
                                {
                                    "Szálláshely neve": "Gold Hotel",
                                    "Szoba Száma": "12",
                                    "Foglalások száma": "6"
                                },
                                {
                                    "Szálláshely neve": "Hotel Három Hattyú",
                                    "Szoba Száma": "12",
                                    "Foglalások száma": "2"
                                },
                                {
                                    "Szálláshely neve": "Kentaur Hotel",
                                    "Szoba Száma": "12",
                                    "Foglalások száma": "5"
                                },
                                {
                                    "Szálláshely neve": "Lagúna Hotel",
                                    "Szoba Száma": "12",
                                    "Foglalások száma": "6"
                                },
                                {
                                    "Szálláshely neve": "Sába-Ház",
                                    "Szoba Száma": "12",
                                    "Foglalások száma": "9"
                                },
                                {
                                    "Szálláshely neve": "Fortuna panzió",
                                    "Szoba Száma": "13",
                                    "Foglalások száma": "3"
                                },
                                {
                                    "Szálláshely neve": "Gold Hotel",
                                    "Szoba Száma": "13",
                                    "Foglalások száma": "4"
                                },
                                {
                                    "Szálláshely neve": "Hotel Három Hattyú",
                                    "Szoba Száma": "13",
                                    "Foglalások száma": "4"
                                },
                                {
                                    "Szálláshely neve": "Kentaur Hotel",
                                    "Szoba Száma": "13",
                                    "Foglalások száma": "5"
                                },
                                {
                                    "Szálláshely neve": "Lagúna Hotel",
                                    "Szoba Száma": "13",
                                    "Foglalások száma": "1"
                                },
                                {
                                    "Szálláshely neve": "Fortuna panzió",
                                    "Szoba Száma": "14",
                                    "Foglalások száma": "8"
                                },
                                {
                                    "Szálláshely neve": "Gold Hotel",
                                    "Szoba Száma": "14",
                                    "Foglalások száma": "4"
                                },
                                {
                                    "Szálláshely neve": "Hotel Három Hattyú",
                                    "Szoba Száma": "14",
                                    "Foglalások száma": "4"
                                },
                                {
                                    "Szálláshely neve": "Kentaur Hotel",
                                    "Szoba Száma": "14",
                                    "Foglalások száma": "4"
                                },
                                {
                                    "Szálláshely neve": "Lagúna Hotel",
                                    "Szoba Száma": "14",
                                    "Foglalások száma": "6"
                                },
                                {
                                    "Szálláshely neve": "Fortuna panzió",
                                    "Szoba Száma": "15",
                                    "Foglalások száma": "7"
                                },
                                {
                                    "Szálláshely neve": "Gold Hotel",
                                    "Szoba Száma": "15",
                                    "Foglalások száma": "3"
                                },
                                {
                                    "Szálláshely neve": "Hotel Három Hattyú",
                                    "Szoba Száma": "15",
                                    "Foglalások száma": "2"
                                },
                                {
                                    "Szálláshely neve": "Kentaur Hotel",
                                    "Szoba Száma": "15",
                                    "Foglalások száma": "6"
                                },
                                {
                                    "Szálláshely neve": "Lagúna Hotel",
                                    "Szoba Száma": "15",
                                    "Foglalások száma": "7"
                                },
                                {
                                    "Szálláshely neve": "Gold Hotel",
                                    "Szoba Száma": "16",
                                    "Foglalások száma": "3"
                                },
                                {
                                    "Szálláshely neve": "Hotel Három Hattyú",
                                    "Szoba Száma": "16",
                                    "Foglalások száma": "6"
                                },
                                {
                                    "Szálláshely neve": "Kentaur Hotel",
                                    "Szoba Száma": "16",
                                    "Foglalások száma": "1"
                                },
                                {
                                    "Szálláshely neve": "Lagúna Hotel",
                                    "Szoba Száma": "16",
                                    "Foglalások száma": "6"
                                },
                                {
                                    "Szálláshely neve": "Gold Hotel",
                                    "Szoba Száma": "17",
                                    "Foglalások száma": "6"
                                },
                                {
                                    "Szálláshely neve": "Hotel Három Hattyú",
                                    "Szoba Száma": "17",
                                    "Foglalások száma": "5"
                                },
                                {
                                    "Szálláshely neve": "Kentaur Hotel",
                                    "Szoba Száma": "17",
                                    "Foglalások száma": "4"
                                },
                                {
                                    "Szálláshely neve": "Lagúna Hotel",
                                    "Szoba Száma": "17",
                                    "Foglalások száma": "3"
                                },
                                {
                                    "Szálláshely neve": "Gold Hotel",
                                    "Szoba Száma": "18",
                                    "Foglalások száma": "12"
                                },
                                {
                                    "Szálláshely neve": "Hotel Három Hattyú",
                                    "Szoba Száma": "18",
                                    "Foglalások száma": "2"
                                },
                                {
                                    "Szálláshely neve": "Kentaur Hotel",
                                    "Szoba Száma": "18",
                                    "Foglalások száma": "6"
                                },
                                {
                                    "Szálláshely neve": "Lagúna Hotel",
                                    "Szoba Száma": "18",
                                    "Foglalások száma": "4"
                                },
                                {
                                    "Szálláshely neve": "Gold Hotel",
                                    "Szoba Száma": "19",
                                    "Foglalások száma": "4"
                                },
                                {
                                    "Szálláshely neve": "Hotel Három Hattyú",
                                    "Szoba Száma": "19",
                                    "Foglalások száma": "7"
                                },
                                {
                                    "Szálláshely neve": "Kentaur Hotel",
                                    "Szoba Száma": "19",
                                    "Foglalások száma": "3"
                                },
                                {
                                    "Szálláshely neve": "Lagúna Hotel",
                                    "Szoba Száma": "19",
                                    "Foglalások száma": "5"
                                },
                                {
                                    "Szálláshely neve": "Családi Ház",
                                    "Szoba Száma": "2",
                                    "Foglalások száma": "3"
                                },
                                {
                                    "Szálláshely neve": "Fortuna Apartman",
                                    "Szoba Száma": "2",
                                    "Foglalások száma": "6"
                                },
                                {
                                    "Szálláshely neve": "Fortuna panzió",
                                    "Szoba Száma": "2",
                                    "Foglalások száma": "4"
                                },
                                {
                                    "Szálláshely neve": "Gold Hotel",
                                    "Szoba Száma": "2",
                                    "Foglalások száma": "3"
                                },
                                {
                                    "Szálláshely neve": "Hotel Három Hattyú",
                                    "Szoba Száma": "2",
                                    "Foglalások száma": "6"
                                },
                                {
                                    "Szálláshely neve": "Jáde panzió",
                                    "Szoba Száma": "2",
                                    "Foglalások száma": "5"
                                },
                                {
                                    "Szálláshely neve": "Kentaur Hotel",
                                    "Szoba Száma": "2",
                                    "Foglalások száma": "5"
                                },
                                {
                                    "Szálláshely neve": "Lagúna Hotel",
                                    "Szoba Száma": "2",
                                    "Foglalások száma": "3"
                                },
                                {
                                    "Szálláshely neve": "Partiszél Vendégház",
                                    "Szoba Száma": "2",
                                    "Foglalások száma": "6"
                                },
                                {
                                    "Szálláshely neve": "Sába-Ház",
                                    "Szoba Száma": "2",
                                    "Foglalások száma": "4"
                                },
                                {
                                    "Szálláshely neve": "Szieszta Apartmanház",
                                    "Szoba Száma": "2",
                                    "Foglalások száma": "5"
                                },
                                {
                                    "Szálláshely neve": "Gold Hotel",
                                    "Szoba Száma": "20",
                                    "Foglalások száma": "4"
                                },
                                {
                                    "Szálláshely neve": "Hotel Három Hattyú",
                                    "Szoba Száma": "20",
                                    "Foglalások száma": "8"
                                },
                                {
                                    "Szálláshely neve": "Kentaur Hotel",
                                    "Szoba Száma": "20",
                                    "Foglalások száma": "4"
                                },
                                {
                                    "Szálláshely neve": "Lagúna Hotel",
                                    "Szoba Száma": "20",
                                    "Foglalások száma": "5"
                                },
                                {
                                    "Szálláshely neve": "Gold Hotel",
                                    "Szoba Száma": "21",
                                    "Foglalások száma": "12"
                                },
                                {
                                    "Szálláshely neve": "Hotel Három Hattyú",
                                    "Szoba Száma": "21",
                                    "Foglalások száma": "5"
                                },
                                {
                                    "Szálláshely neve": "Kentaur Hotel",
                                    "Szoba Száma": "21",
                                    "Foglalások száma": "11"
                                },
                                {
                                    "Szálláshely neve": "Lagúna Hotel",
                                    "Szoba Száma": "21",
                                    "Foglalások száma": "5"
                                },
                                {
                                    "Szálláshely neve": "Gold Hotel",
                                    "Szoba Száma": "22",
                                    "Foglalások száma": "4"
                                },
                                {
                                    "Szálláshely neve": "Hotel Három Hattyú",
                                    "Szoba Száma": "22",
                                    "Foglalások száma": "5"
                                },
                                {
                                    "Szálláshely neve": "Kentaur Hotel",
                                    "Szoba Száma": "22",
                                    "Foglalások száma": "3"
                                },
                                {
                                    "Szálláshely neve": "Lagúna Hotel",
                                    "Szoba Száma": "22",
                                    "Foglalások száma": "7"
                                },
                                {
                                    "Szálláshely neve": "Gold Hotel",
                                    "Szoba Száma": "23",
                                    "Foglalások száma": "7"
                                },
                                {
                                    "Szálláshely neve": "Hotel Három Hattyú",
                                    "Szoba Száma": "23",
                                    "Foglalások száma": "5"
                                },
                                {
                                    "Szálláshely neve": "Kentaur Hotel",
                                    "Szoba Száma": "23",
                                    "Foglalások száma": "4"
                                },
                                {
                                    "Szálláshely neve": "Lagúna Hotel",
                                    "Szoba Száma": "23",
                                    "Foglalások száma": "5"
                                },
                                {
                                    "Szálláshely neve": "Gold Hotel",
                                    "Szoba Száma": "24",
                                    "Foglalások száma": "6"
                                },
                                {
                                    "Szálláshely neve": "Hotel Három Hattyú",
                                    "Szoba Száma": "24",
                                    "Foglalások száma": "4"
                                },
                                {
                                    "Szálláshely neve": "Kentaur Hotel",
                                    "Szoba Száma": "24",
                                    "Foglalások száma": "4"
                                },
                                {
                                    "Szálláshely neve": "Lagúna Hotel",
                                    "Szoba Száma": "24",
                                    "Foglalások száma": "3"
                                },
                                {
                                    "Szálláshely neve": "Gold Hotel",
                                    "Szoba Száma": "25",
                                    "Foglalások száma": "5"
                                },
                                {
                                    "Szálláshely neve": "Hotel Három Hattyú",
                                    "Szoba Száma": "25",
                                    "Foglalások száma": "7"
                                },
                                {
                                    "Szálláshely neve": "Kentaur Hotel",
                                    "Szoba Száma": "25",
                                    "Foglalások száma": "9"
                                },
                                {
                                    "Szálláshely neve": "Gold Hotel",
                                    "Szoba Száma": "26",
                                    "Foglalások száma": "5"
                                },
                                {
                                    "Szálláshely neve": "Hotel Három Hattyú",
                                    "Szoba Száma": "26",
                                    "Foglalások száma": "2"
                                },
                                {
                                    "Szálláshely neve": "Kentaur Hotel",
                                    "Szoba Száma": "26",
                                    "Foglalások száma": "3"
                                },
                                {
                                    "Szálláshely neve": "Gold Hotel",
                                    "Szoba Száma": "27",
                                    "Foglalások száma": "5"
                                },
                                {
                                    "Szálláshely neve": "Hotel Három Hattyú",
                                    "Szoba Száma": "27",
                                    "Foglalások száma": "8"
                                },
                                {
                                    "Szálláshely neve": "Kentaur Hotel",
                                    "Szoba Száma": "27",
                                    "Foglalások száma": "3"
                                },
                                {
                                    "Szálláshely neve": "Gold Hotel",
                                    "Szoba Száma": "28",
                                    "Foglalások száma": "2"
                                },
                                {
                                    "Szálláshely neve": "Hotel Három Hattyú",
                                    "Szoba Száma": "28",
                                    "Foglalások száma": "7"
                                },
                                {
                                    "Szálláshely neve": "Kentaur Hotel",
                                    "Szoba Száma": "28",
                                    "Foglalások száma": "6"
                                },
                                {
                                    "Szálláshely neve": "Gold Hotel",
                                    "Szoba Száma": "29",
                                    "Foglalások száma": "7"
                                },
                                {
                                    "Szálláshely neve": "Hotel Három Hattyú",
                                    "Szoba Száma": "29",
                                    "Foglalások száma": "5"
                                },
                                {
                                    "Szálláshely neve": "Kentaur Hotel",
                                    "Szoba Száma": "29",
                                    "Foglalások száma": "6"
                                },
                                {
                                    "Szálláshely neve": "Családi Ház",
                                    "Szoba Száma": "3",
                                    "Foglalások száma": "6"
                                },
                                {
                                    "Szálláshely neve": "Fortuna Apartman",
                                    "Szoba Száma": "3",
                                    "Foglalások száma": "6"
                                },
                                {
                                    "Szálláshely neve": "Fortuna panzió",
                                    "Szoba Száma": "3",
                                    "Foglalások száma": "13"
                                },
                                {
                                    "Szálláshely neve": "Gold Hotel",
                                    "Szoba Száma": "3",
                                    "Foglalások száma": "2"
                                },
                                {
                                    "Szálláshely neve": "Hotel Három Hattyú",
                                    "Szoba Száma": "3",
                                    "Foglalások száma": "5"
                                },
                                {
                                    "Szálláshely neve": "Jáde panzió",
                                    "Szoba Száma": "3",
                                    "Foglalások száma": "6"
                                },
                                {
                                    "Szálláshely neve": "Kentaur Hotel",
                                    "Szoba Száma": "3",
                                    "Foglalások száma": "5"
                                },
                                {
                                    "Szálláshely neve": "Lagúna Hotel",
                                    "Szoba Száma": "3",
                                    "Foglalások száma": "6"
                                },
                                {
                                    "Szálláshely neve": "Partiszél Vendégház",
                                    "Szoba Száma": "3",
                                    "Foglalások száma": "3"
                                },
                                {
                                    "Szálláshely neve": "Sába-Ház",
                                    "Szoba Száma": "3",
                                    "Foglalások száma": "8"
                                },
                                {
                                    "Szálláshely neve": "Szieszta Apartmanház",
                                    "Szoba Száma": "3",
                                    "Foglalások száma": "5"
                                },
                                {
                                    "Szálláshely neve": "Gold Hotel",
                                    "Szoba Száma": "30",
                                    "Foglalások száma": "1"
                                },
                                {
                                    "Szálláshely neve": "Hotel Három Hattyú",
                                    "Szoba Száma": "30",
                                    "Foglalások száma": "6"
                                },
                                {
                                    "Szálláshely neve": "Kentaur Hotel",
                                    "Szoba Száma": "30",
                                    "Foglalások száma": "5"
                                },
                                {
                                    "Szálláshely neve": "Gold Hotel",
                                    "Szoba Száma": "31",
                                    "Foglalások száma": "6"
                                },
                                {
                                    "Szálláshely neve": "Hotel Három Hattyú",
                                    "Szoba Száma": "31",
                                    "Foglalások száma": "8"
                                },
                                {
                                    "Szálláshely neve": "Kentaur Hotel",
                                    "Szoba Száma": "31",
                                    "Foglalások száma": "7"
                                },
                                {
                                    "Szálláshely neve": "Gold Hotel",
                                    "Szoba Száma": "32",
                                    "Foglalások száma": "4"
                                },
                                {
                                    "Szálláshely neve": "Hotel Három Hattyú",
                                    "Szoba Száma": "32",
                                    "Foglalások száma": "9"
                                },
                                {
                                    "Szálláshely neve": "Kentaur Hotel",
                                    "Szoba Száma": "32",
                                    "Foglalások száma": "5"
                                },
                                {
                                    "Szálláshely neve": "Gold Hotel",
                                    "Szoba Száma": "33",
                                    "Foglalások száma": "6"
                                },
                                {
                                    "Szálláshely neve": "Hotel Három Hattyú",
                                    "Szoba Száma": "33",
                                    "Foglalások száma": "5"
                                },
                                {
                                    "Szálláshely neve": "Kentaur Hotel",
                                    "Szoba Száma": "33",
                                    "Foglalások száma": "6"
                                },
                                {
                                    "Szálláshely neve": "Gold Hotel",
                                    "Szoba Száma": "34",
                                    "Foglalások száma": "8"
                                },
                                {
                                    "Szálláshely neve": "Hotel Három Hattyú",
                                    "Szoba Száma": "34",
                                    "Foglalások száma": "6"
                                },
                                {
                                    "Szálláshely neve": "Kentaur Hotel",
                                    "Szoba Száma": "34",
                                    "Foglalások száma": "8"
                                },
                                {
                                    "Szálláshely neve": "Hotel Három Hattyú",
                                    "Szoba Száma": "35",
                                    "Foglalások száma": "1"
                                },
                                {
                                    "Szálláshely neve": "Kentaur Hotel",
                                    "Szoba Száma": "35",
                                    "Foglalások száma": "4"
                                },
                                {
                                    "Szálláshely neve": "Hotel Három Hattyú",
                                    "Szoba Száma": "36",
                                    "Foglalások száma": "6"
                                },
                                {
                                    "Szálláshely neve": "Hotel Három Hattyú",
                                    "Szoba Száma": "37",
                                    "Foglalások száma": "7"
                                },
                                {
                                    "Szálláshely neve": "Hotel Három Hattyú",
                                    "Szoba Száma": "38",
                                    "Foglalások száma": "5"
                                },
                                {
                                    "Szálláshely neve": "Hotel Három Hattyú",
                                    "Szoba Száma": "39",
                                    "Foglalások száma": "4"
                                },
                                {
                                    "Szálláshely neve": "Családi Ház",
                                    "Szoba Száma": "4",
                                    "Foglalások száma": "5"
                                },
                                {
                                    "Szálláshely neve": "Fortuna Apartman",
                                    "Szoba Száma": "4",
                                    "Foglalások száma": "5"
                                },
                                {
                                    "Szálláshely neve": "Fortuna panzió",
                                    "Szoba Száma": "4",
                                    "Foglalások száma": "14"
                                },
                                {
                                    "Szálláshely neve": "Gold Hotel",
                                    "Szoba Száma": "4",
                                    "Foglalások száma": "5"
                                },
                                {
                                    "Szálláshely neve": "Hotel Három Hattyú",
                                    "Szoba Száma": "4",
                                    "Foglalások száma": "10"
                                },
                                {
                                    "Szálláshely neve": "Jáde panzió",
                                    "Szoba Száma": "4",
                                    "Foglalások száma": "6"
                                },
                                {
                                    "Szálláshely neve": "Kentaur Hotel",
                                    "Szoba Száma": "4",
                                    "Foglalások száma": "2"
                                },
                                {
                                    "Szálláshely neve": "Lagúna Hotel",
                                    "Szoba Száma": "4",
                                    "Foglalások száma": "7"
                                },
                                {
                                    "Szálláshely neve": "Partiszél Vendégház",
                                    "Szoba Száma": "4",
                                    "Foglalások száma": "7"
                                },
                                {
                                    "Szálláshely neve": "Sába-Ház",
                                    "Szoba Száma": "4",
                                    "Foglalások száma": "6"
                                },
                                {
                                    "Szálláshely neve": "Szieszta Apartmanház",
                                    "Szoba Száma": "4",
                                    "Foglalások száma": "8"
                                },
                                {
                                    "Szálláshely neve": "Fortuna Apartman",
                                    "Szoba Száma": "5",
                                    "Foglalások száma": "4"
                                },
                                {
                                    "Szálláshely neve": "Fortuna panzió",
                                    "Szoba Száma": "5",
                                    "Foglalások száma": "12"
                                },
                                {
                                    "Szálláshely neve": "Gold Hotel",
                                    "Szoba Száma": "5",
                                    "Foglalások száma": "6"
                                },
                                {
                                    "Szálláshely neve": "Hotel Három Hattyú",
                                    "Szoba Száma": "5",
                                    "Foglalások száma": "4"
                                },
                                {
                                    "Szálláshely neve": "Jáde panzió",
                                    "Szoba Száma": "5",
                                    "Foglalások száma": "6"
                                },
                                {
                                    "Szálláshely neve": "Kentaur Hotel",
                                    "Szoba Száma": "5",
                                    "Foglalások száma": "6"
                                },
                                {
                                    "Szálláshely neve": "Lagúna Hotel",
                                    "Szoba Száma": "5",
                                    "Foglalások száma": "7"
                                },
                                {
                                    "Szálláshely neve": "Partiszél Vendégház",
                                    "Szoba Száma": "5",
                                    "Foglalások száma": "5"
                                },
                                {
                                    "Szálláshely neve": "Sába-Ház",
                                    "Szoba Száma": "5",
                                    "Foglalások száma": "4"
                                },
                                {
                                    "Szálláshely neve": "Szieszta Apartmanház",
                                    "Szoba Száma": "5",
                                    "Foglalások száma": "8"
                                },
                                {
                                    "Szálláshely neve": "Fortuna Apartman",
                                    "Szoba Száma": "6",
                                    "Foglalások száma": "6"
                                },
                                {
                                    "Szálláshely neve": "Fortuna panzió",
                                    "Szoba Száma": "6",
                                    "Foglalások száma": "8"
                                },
                                {
                                    "Szálláshely neve": "Gold Hotel",
                                    "Szoba Száma": "6",
                                    "Foglalások száma": "5"
                                },
                                {
                                    "Szálláshely neve": "Hotel Három Hattyú",
                                    "Szoba Száma": "6",
                                    "Foglalások száma": "7"
                                },
                                {
                                    "Szálláshely neve": "Kentaur Hotel",
                                    "Szoba Száma": "6",
                                    "Foglalások száma": "8"
                                },
                                {
                                    "Szálláshely neve": "Lagúna Hotel",
                                    "Szoba Száma": "6",
                                    "Foglalások száma": "8"
                                },
                                {
                                    "Szálláshely neve": "Sába-Ház",
                                    "Szoba Száma": "6",
                                    "Foglalások száma": "6"
                                },
                                {
                                    "Szálláshely neve": "Szieszta Apartmanház",
                                    "Szoba Száma": "6",
                                    "Foglalások száma": "4"
                                },
                                {
                                    "Szálláshely neve": "Fortuna Apartman",
                                    "Szoba Száma": "7",
                                    "Foglalások száma": "3"
                                },
                                {
                                    "Szálláshely neve": "Fortuna panzió",
                                    "Szoba Száma": "7",
                                    "Foglalások száma": "7"
                                },
                                {
                                    "Szálláshely neve": "Gold Hotel",
                                    "Szoba Száma": "7",
                                    "Foglalások száma": "5"
                                },
                                {
                                    "Szálláshely neve": "Hotel Három Hattyú",
                                    "Szoba Száma": "7",
                                    "Foglalások száma": "7"
                                },
                                {
                                    "Szálláshely neve": "Kentaur Hotel",
                                    "Szoba Száma": "7",
                                    "Foglalások száma": "2"
                                },
                                {
                                    "Szálláshely neve": "Lagúna Hotel",
                                    "Szoba Száma": "7",
                                    "Foglalások száma": "6"
                                },
                                {
                                    "Szálláshely neve": "Sába-Ház",
                                    "Szoba Száma": "7",
                                    "Foglalások száma": "6"
                                },
                                {
                                    "Szálláshely neve": "Fortuna Apartman",
                                    "Szoba Száma": "8",
                                    "Foglalások száma": "3"
                                },
                                {
                                    "Szálláshely neve": "Fortuna panzió",
                                    "Szoba Száma": "8",
                                    "Foglalások száma": "3"
                                },
                                {
                                    "Szálláshely neve": "Gold Hotel",
                                    "Szoba Száma": "8",
                                    "Foglalások száma": "9"
                                },
                                {
                                    "Szálláshely neve": "Hotel Három Hattyú",
                                    "Szoba Száma": "8",
                                    "Foglalások száma": "4"
                                },
                                {
                                    "Szálláshely neve": "Kentaur Hotel",
                                    "Szoba Száma": "8",
                                    "Foglalások száma": "4"
                                },
                                {
                                    "Szálláshely neve": "Lagúna Hotel",
                                    "Szoba Száma": "8",
                                    "Foglalások száma": "2"
                                },
                                {
                                    "Szálláshely neve": "Sába-Ház",
                                    "Szoba Száma": "8",
                                    "Foglalások száma": "5"
                                },
                                {
                                    "Szálláshely neve": "Fortuna panzió",
                                    "Szoba Száma": "9",
                                    "Foglalások száma": "15"
                                },
                                {
                                    "Szálláshely neve": "Gold Hotel",
                                    "Szoba Száma": "9",
                                    "Foglalások száma": "4"
                                },
                                {
                                    "Szálláshely neve": "Hotel Három Hattyú",
                                    "Szoba Száma": "9",
                                    "Foglalások száma": "5"
                                },
                                {
                                    "Szálláshely neve": "Kentaur Hotel",
                                    "Szoba Száma": "9",
                                    "Foglalások száma": "13"
                                },
                                {
                                    "Szálláshely neve": "Lagúna Hotel",
                                    "Szoba Száma": "9",
                                    "Foglalások száma": "7"
                                },
                                {
                                    "Szálláshely neve": "Sába-Ház",
                                    "Szoba Száma": "9",
                                    "Foglalások száma": "6"
                                }
                            ]
                        },
                        "text/html": [
                            "<table>",
                            "<tr><th>Szálláshely neve</th><th>Szoba Száma</th><th>Foglalások száma</th></tr>",
                            "<tr><td>Családi Ház</td><td>1</td><td>4</td></tr>",
                            "<tr><td>Fortuna Apartman</td><td>1</td><td>6</td></tr>",
                            "<tr><td>Fortuna panzió</td><td>1</td><td>6</td></tr>",
                            "<tr><td>Gold Hotel</td><td>1</td><td>7</td></tr>",
                            "<tr><td>Hotel Három Hattyú</td><td>1</td><td>4</td></tr>",
                            "<tr><td>Jáde panzió</td><td>1</td><td>6</td></tr>",
                            "<tr><td>Kentaur Hotel</td><td>1</td><td>4</td></tr>",
                            "<tr><td>Lagúna Hotel</td><td>1</td><td>3</td></tr>",
                            "<tr><td>Partiszél Vendégház</td><td>1</td><td>5</td></tr>",
                            "<tr><td>Sába-Ház</td><td>1</td><td>8</td></tr>",
                            "<tr><td>Szieszta Apartmanház</td><td>1</td><td>4</td></tr>",
                            "<tr><td>Fortuna Panzió</td><td>10</td><td>11</td></tr>",
                            "<tr><td>Gold Hotel</td><td>10</td><td>4</td></tr>",
                            "<tr><td>Hotel Három Hattyú</td><td>10</td><td>4</td></tr>",
                            "<tr><td>Kentaur Hotel</td><td>10</td><td>7</td></tr>",
                            "<tr><td>Lagúna Hotel</td><td>10</td><td>5</td></tr>",
                            "<tr><td>Sába-Ház</td><td>10</td><td>4</td></tr>",
                            "<tr><td>Fortuna panzió</td><td>11</td><td>9</td></tr>",
                            "<tr><td>Gold Hotel</td><td>11</td><td>5</td></tr>",
                            "<tr><td>Hotel Három Hattyú</td><td>11</td><td>3</td></tr>",
                            "<tr><td>Kentaur Hotel</td><td>11</td><td>1</td></tr>",
                            "<tr><td>Lagúna Hotel</td><td>11</td><td>6</td></tr>",
                            "<tr><td>Sába-Ház</td><td>11</td><td>4</td></tr>",
                            "<tr><td>Fortuna panzió</td><td>12</td><td>6</td></tr>",
                            "<tr><td>Gold Hotel</td><td>12</td><td>6</td></tr>",
                            "<tr><td>Hotel Három Hattyú</td><td>12</td><td>2</td></tr>",
                            "<tr><td>Kentaur Hotel</td><td>12</td><td>5</td></tr>",
                            "<tr><td>Lagúna Hotel</td><td>12</td><td>6</td></tr>",
                            "<tr><td>Sába-Ház</td><td>12</td><td>9</td></tr>",
                            "<tr><td>Fortuna panzió</td><td>13</td><td>3</td></tr>",
                            "<tr><td>Gold Hotel</td><td>13</td><td>4</td></tr>",
                            "<tr><td>Hotel Három Hattyú</td><td>13</td><td>4</td></tr>",
                            "<tr><td>Kentaur Hotel</td><td>13</td><td>5</td></tr>",
                            "<tr><td>Lagúna Hotel</td><td>13</td><td>1</td></tr>",
                            "<tr><td>Fortuna panzió</td><td>14</td><td>8</td></tr>",
                            "<tr><td>Gold Hotel</td><td>14</td><td>4</td></tr>",
                            "<tr><td>Hotel Három Hattyú</td><td>14</td><td>4</td></tr>",
                            "<tr><td>Kentaur Hotel</td><td>14</td><td>4</td></tr>",
                            "<tr><td>Lagúna Hotel</td><td>14</td><td>6</td></tr>",
                            "<tr><td>Fortuna panzió</td><td>15</td><td>7</td></tr>",
                            "<tr><td>Gold Hotel</td><td>15</td><td>3</td></tr>",
                            "<tr><td>Hotel Három Hattyú</td><td>15</td><td>2</td></tr>",
                            "<tr><td>Kentaur Hotel</td><td>15</td><td>6</td></tr>",
                            "<tr><td>Lagúna Hotel</td><td>15</td><td>7</td></tr>",
                            "<tr><td>Gold Hotel</td><td>16</td><td>3</td></tr>",
                            "<tr><td>Hotel Három Hattyú</td><td>16</td><td>6</td></tr>",
                            "<tr><td>Kentaur Hotel</td><td>16</td><td>1</td></tr>",
                            "<tr><td>Lagúna Hotel</td><td>16</td><td>6</td></tr>",
                            "<tr><td>Gold Hotel</td><td>17</td><td>6</td></tr>",
                            "<tr><td>Hotel Három Hattyú</td><td>17</td><td>5</td></tr>",
                            "<tr><td>Kentaur Hotel</td><td>17</td><td>4</td></tr>",
                            "<tr><td>Lagúna Hotel</td><td>17</td><td>3</td></tr>",
                            "<tr><td>Gold Hotel</td><td>18</td><td>12</td></tr>",
                            "<tr><td>Hotel Három Hattyú</td><td>18</td><td>2</td></tr>",
                            "<tr><td>Kentaur Hotel</td><td>18</td><td>6</td></tr>",
                            "<tr><td>Lagúna Hotel</td><td>18</td><td>4</td></tr>",
                            "<tr><td>Gold Hotel</td><td>19</td><td>4</td></tr>",
                            "<tr><td>Hotel Három Hattyú</td><td>19</td><td>7</td></tr>",
                            "<tr><td>Kentaur Hotel</td><td>19</td><td>3</td></tr>",
                            "<tr><td>Lagúna Hotel</td><td>19</td><td>5</td></tr>",
                            "<tr><td>Családi Ház</td><td>2</td><td>3</td></tr>",
                            "<tr><td>Fortuna Apartman</td><td>2</td><td>6</td></tr>",
                            "<tr><td>Fortuna panzió</td><td>2</td><td>4</td></tr>",
                            "<tr><td>Gold Hotel</td><td>2</td><td>3</td></tr>",
                            "<tr><td>Hotel Három Hattyú</td><td>2</td><td>6</td></tr>",
                            "<tr><td>Jáde panzió</td><td>2</td><td>5</td></tr>",
                            "<tr><td>Kentaur Hotel</td><td>2</td><td>5</td></tr>",
                            "<tr><td>Lagúna Hotel</td><td>2</td><td>3</td></tr>",
                            "<tr><td>Partiszél Vendégház</td><td>2</td><td>6</td></tr>",
                            "<tr><td>Sába-Ház</td><td>2</td><td>4</td></tr>",
                            "<tr><td>Szieszta Apartmanház</td><td>2</td><td>5</td></tr>",
                            "<tr><td>Gold Hotel</td><td>20</td><td>4</td></tr>",
                            "<tr><td>Hotel Három Hattyú</td><td>20</td><td>8</td></tr>",
                            "<tr><td>Kentaur Hotel</td><td>20</td><td>4</td></tr>",
                            "<tr><td>Lagúna Hotel</td><td>20</td><td>5</td></tr>",
                            "<tr><td>Gold Hotel</td><td>21</td><td>12</td></tr>",
                            "<tr><td>Hotel Három Hattyú</td><td>21</td><td>5</td></tr>",
                            "<tr><td>Kentaur Hotel</td><td>21</td><td>11</td></tr>",
                            "<tr><td>Lagúna Hotel</td><td>21</td><td>5</td></tr>",
                            "<tr><td>Gold Hotel</td><td>22</td><td>4</td></tr>",
                            "<tr><td>Hotel Három Hattyú</td><td>22</td><td>5</td></tr>",
                            "<tr><td>Kentaur Hotel</td><td>22</td><td>3</td></tr>",
                            "<tr><td>Lagúna Hotel</td><td>22</td><td>7</td></tr>",
                            "<tr><td>Gold Hotel</td><td>23</td><td>7</td></tr>",
                            "<tr><td>Hotel Három Hattyú</td><td>23</td><td>5</td></tr>",
                            "<tr><td>Kentaur Hotel</td><td>23</td><td>4</td></tr>",
                            "<tr><td>Lagúna Hotel</td><td>23</td><td>5</td></tr>",
                            "<tr><td>Gold Hotel</td><td>24</td><td>6</td></tr>",
                            "<tr><td>Hotel Három Hattyú</td><td>24</td><td>4</td></tr>",
                            "<tr><td>Kentaur Hotel</td><td>24</td><td>4</td></tr>",
                            "<tr><td>Lagúna Hotel</td><td>24</td><td>3</td></tr>",
                            "<tr><td>Gold Hotel</td><td>25</td><td>5</td></tr>",
                            "<tr><td>Hotel Három Hattyú</td><td>25</td><td>7</td></tr>",
                            "<tr><td>Kentaur Hotel</td><td>25</td><td>9</td></tr>",
                            "<tr><td>Gold Hotel</td><td>26</td><td>5</td></tr>",
                            "<tr><td>Hotel Három Hattyú</td><td>26</td><td>2</td></tr>",
                            "<tr><td>Kentaur Hotel</td><td>26</td><td>3</td></tr>",
                            "<tr><td>Gold Hotel</td><td>27</td><td>5</td></tr>",
                            "<tr><td>Hotel Három Hattyú</td><td>27</td><td>8</td></tr>",
                            "<tr><td>Kentaur Hotel</td><td>27</td><td>3</td></tr>",
                            "<tr><td>Gold Hotel</td><td>28</td><td>2</td></tr>",
                            "<tr><td>Hotel Három Hattyú</td><td>28</td><td>7</td></tr>",
                            "<tr><td>Kentaur Hotel</td><td>28</td><td>6</td></tr>",
                            "<tr><td>Gold Hotel</td><td>29</td><td>7</td></tr>",
                            "<tr><td>Hotel Három Hattyú</td><td>29</td><td>5</td></tr>",
                            "<tr><td>Kentaur Hotel</td><td>29</td><td>6</td></tr>",
                            "<tr><td>Családi Ház</td><td>3</td><td>6</td></tr>",
                            "<tr><td>Fortuna Apartman</td><td>3</td><td>6</td></tr>",
                            "<tr><td>Fortuna panzió</td><td>3</td><td>13</td></tr>",
                            "<tr><td>Gold Hotel</td><td>3</td><td>2</td></tr>",
                            "<tr><td>Hotel Három Hattyú</td><td>3</td><td>5</td></tr>",
                            "<tr><td>Jáde panzió</td><td>3</td><td>6</td></tr>",
                            "<tr><td>Kentaur Hotel</td><td>3</td><td>5</td></tr>",
                            "<tr><td>Lagúna Hotel</td><td>3</td><td>6</td></tr>",
                            "<tr><td>Partiszél Vendégház</td><td>3</td><td>3</td></tr>",
                            "<tr><td>Sába-Ház</td><td>3</td><td>8</td></tr>",
                            "<tr><td>Szieszta Apartmanház</td><td>3</td><td>5</td></tr>",
                            "<tr><td>Gold Hotel</td><td>30</td><td>1</td></tr>",
                            "<tr><td>Hotel Három Hattyú</td><td>30</td><td>6</td></tr>",
                            "<tr><td>Kentaur Hotel</td><td>30</td><td>5</td></tr>",
                            "<tr><td>Gold Hotel</td><td>31</td><td>6</td></tr>",
                            "<tr><td>Hotel Három Hattyú</td><td>31</td><td>8</td></tr>",
                            "<tr><td>Kentaur Hotel</td><td>31</td><td>7</td></tr>",
                            "<tr><td>Gold Hotel</td><td>32</td><td>4</td></tr>",
                            "<tr><td>Hotel Három Hattyú</td><td>32</td><td>9</td></tr>",
                            "<tr><td>Kentaur Hotel</td><td>32</td><td>5</td></tr>",
                            "<tr><td>Gold Hotel</td><td>33</td><td>6</td></tr>",
                            "<tr><td>Hotel Három Hattyú</td><td>33</td><td>5</td></tr>",
                            "<tr><td>Kentaur Hotel</td><td>33</td><td>6</td></tr>",
                            "<tr><td>Gold Hotel</td><td>34</td><td>8</td></tr>",
                            "<tr><td>Hotel Három Hattyú</td><td>34</td><td>6</td></tr>",
                            "<tr><td>Kentaur Hotel</td><td>34</td><td>8</td></tr>",
                            "<tr><td>Hotel Három Hattyú</td><td>35</td><td>1</td></tr>",
                            "<tr><td>Kentaur Hotel</td><td>35</td><td>4</td></tr>",
                            "<tr><td>Hotel Három Hattyú</td><td>36</td><td>6</td></tr>",
                            "<tr><td>Hotel Három Hattyú</td><td>37</td><td>7</td></tr>",
                            "<tr><td>Hotel Három Hattyú</td><td>38</td><td>5</td></tr>",
                            "<tr><td>Hotel Három Hattyú</td><td>39</td><td>4</td></tr>",
                            "<tr><td>Családi Ház</td><td>4</td><td>5</td></tr>",
                            "<tr><td>Fortuna Apartman</td><td>4</td><td>5</td></tr>",
                            "<tr><td>Fortuna panzió</td><td>4</td><td>14</td></tr>",
                            "<tr><td>Gold Hotel</td><td>4</td><td>5</td></tr>",
                            "<tr><td>Hotel Három Hattyú</td><td>4</td><td>10</td></tr>",
                            "<tr><td>Jáde panzió</td><td>4</td><td>6</td></tr>",
                            "<tr><td>Kentaur Hotel</td><td>4</td><td>2</td></tr>",
                            "<tr><td>Lagúna Hotel</td><td>4</td><td>7</td></tr>",
                            "<tr><td>Partiszél Vendégház</td><td>4</td><td>7</td></tr>",
                            "<tr><td>Sába-Ház</td><td>4</td><td>6</td></tr>",
                            "<tr><td>Szieszta Apartmanház</td><td>4</td><td>8</td></tr>",
                            "<tr><td>Fortuna Apartman</td><td>5</td><td>4</td></tr>",
                            "<tr><td>Fortuna panzió</td><td>5</td><td>12</td></tr>",
                            "<tr><td>Gold Hotel</td><td>5</td><td>6</td></tr>",
                            "<tr><td>Hotel Három Hattyú</td><td>5</td><td>4</td></tr>",
                            "<tr><td>Jáde panzió</td><td>5</td><td>6</td></tr>",
                            "<tr><td>Kentaur Hotel</td><td>5</td><td>6</td></tr>",
                            "<tr><td>Lagúna Hotel</td><td>5</td><td>7</td></tr>",
                            "<tr><td>Partiszél Vendégház</td><td>5</td><td>5</td></tr>",
                            "<tr><td>Sába-Ház</td><td>5</td><td>4</td></tr>",
                            "<tr><td>Szieszta Apartmanház</td><td>5</td><td>8</td></tr>",
                            "<tr><td>Fortuna Apartman</td><td>6</td><td>6</td></tr>",
                            "<tr><td>Fortuna panzió</td><td>6</td><td>8</td></tr>",
                            "<tr><td>Gold Hotel</td><td>6</td><td>5</td></tr>",
                            "<tr><td>Hotel Három Hattyú</td><td>6</td><td>7</td></tr>",
                            "<tr><td>Kentaur Hotel</td><td>6</td><td>8</td></tr>",
                            "<tr><td>Lagúna Hotel</td><td>6</td><td>8</td></tr>",
                            "<tr><td>Sába-Ház</td><td>6</td><td>6</td></tr>",
                            "<tr><td>Szieszta Apartmanház</td><td>6</td><td>4</td></tr>",
                            "<tr><td>Fortuna Apartman</td><td>7</td><td>3</td></tr>",
                            "<tr><td>Fortuna panzió</td><td>7</td><td>7</td></tr>",
                            "<tr><td>Gold Hotel</td><td>7</td><td>5</td></tr>",
                            "<tr><td>Hotel Három Hattyú</td><td>7</td><td>7</td></tr>",
                            "<tr><td>Kentaur Hotel</td><td>7</td><td>2</td></tr>",
                            "<tr><td>Lagúna Hotel</td><td>7</td><td>6</td></tr>",
                            "<tr><td>Sába-Ház</td><td>7</td><td>6</td></tr>",
                            "<tr><td>Fortuna Apartman</td><td>8</td><td>3</td></tr>",
                            "<tr><td>Fortuna panzió</td><td>8</td><td>3</td></tr>",
                            "<tr><td>Gold Hotel</td><td>8</td><td>9</td></tr>",
                            "<tr><td>Hotel Három Hattyú</td><td>8</td><td>4</td></tr>",
                            "<tr><td>Kentaur Hotel</td><td>8</td><td>4</td></tr>",
                            "<tr><td>Lagúna Hotel</td><td>8</td><td>2</td></tr>",
                            "<tr><td>Sába-Ház</td><td>8</td><td>5</td></tr>",
                            "<tr><td>Fortuna panzió</td><td>9</td><td>15</td></tr>",
                            "<tr><td>Gold Hotel</td><td>9</td><td>4</td></tr>",
                            "<tr><td>Hotel Három Hattyú</td><td>9</td><td>5</td></tr>",
                            "<tr><td>Kentaur Hotel</td><td>9</td><td>13</td></tr>",
                            "<tr><td>Lagúna Hotel</td><td>9</td><td>7</td></tr>",
                            "<tr><td>Sába-Ház</td><td>9</td><td>6</td></tr>",
                            "</table>"
                        ]
                    }
                }
            ],
            "execution_count": 45
        },
        {
            "cell_type": "code",
            "source": [
                ""
            ],
            "metadata": {
                "language": "sql",
                "azdata_cell_guid": "cd476931-af0b-4fc2-96c8-c3da857d6486"
            },
            "outputs": [
                {
                    "output_type": "display_data",
                    "data": {
                        "text/html": "(21 rows affected)"
                    },
                    "metadata": {}
                },
                {
                    "output_type": "display_data",
                    "data": {
                        "text/html": "Total execution time: 00:00:00.006"
                    },
                    "metadata": {}
                },
                {
                    "output_type": "execute_result",
                    "metadata": {},
                    "execution_count": 6,
                    "data": {
                        "application/vnd.dataresource+json": {
                            "schema": {
                                "fields": [
                                    {
                                        "name": "SZALLAS_NEV"
                                    }
                                ]
                            },
                            "data": [
                                {
                                    "SZALLAS_NEV": "Sába-Ház"
                                },
                                {
                                    "SZALLAS_NEV": "Családi Ház"
                                },
                                {
                                    "SZALLAS_NEV": "Fortuna Apartman"
                                },
                                {
                                    "SZALLAS_NEV": "Fortuna panzió"
                                },
                                {
                                    "SZALLAS_NEV": "Fortuna Panzió"
                                },
                                {
                                    "SZALLAS_NEV": "Kentaur Hotel"
                                },
                                {
                                    "SZALLAS_NEV": "Szieszta Apartmanház"
                                },
                                {
                                    "SZALLAS_NEV": "Hotel Három Hattyú"
                                },
                                {
                                    "SZALLAS_NEV": "Jáde panzió"
                                },
                                {
                                    "SZALLAS_NEV": "Lagúna Hotel"
                                },
                                {
                                    "SZALLAS_NEV": "Partiszél Vendégház"
                                },
                                {
                                    "SZALLAS_NEV": "Gold Hotel"
                                },
                                {
                                    "SZALLAS_NEV": "Riviéra Panzió"
                                },
                                {
                                    "SZALLAS_NEV": "Nyárfás Vendégház"
                                },
                                {
                                    "SZALLAS_NEV": "Tímárház Panzió"
                                },
                                {
                                    "SZALLAS_NEV": "Bagoly Hotel"
                                },
                                {
                                    "SZALLAS_NEV": "Szarvas Hotel"
                                },
                                {
                                    "SZALLAS_NEV": "Fortuna Apartman"
                                },
                                {
                                    "SZALLAS_NEV": "Nyárfás Vendégház"
                                },
                                {
                                    "SZALLAS_NEV": "Kollégium"
                                },
                                {
                                    "SZALLAS_NEV": "Müller Vendégház"
                                }
                            ]
                        },
                        "text/html": [
                            "<table>",
                            "<tr><th>SZALLAS_NEV</th></tr>",
                            "<tr><td>Sába-Ház</td></tr>",
                            "<tr><td>Családi Ház</td></tr>",
                            "<tr><td>Fortuna Apartman</td></tr>",
                            "<tr><td>Fortuna panzió</td></tr>",
                            "<tr><td>Fortuna Panzió</td></tr>",
                            "<tr><td>Kentaur Hotel</td></tr>",
                            "<tr><td>Szieszta Apartmanház</td></tr>",
                            "<tr><td>Hotel Három Hattyú</td></tr>",
                            "<tr><td>Jáde panzió</td></tr>",
                            "<tr><td>Lagúna Hotel</td></tr>",
                            "<tr><td>Partiszél Vendégház</td></tr>",
                            "<tr><td>Gold Hotel</td></tr>",
                            "<tr><td>Riviéra Panzió</td></tr>",
                            "<tr><td>Nyárfás Vendégház</td></tr>",
                            "<tr><td>Tímárház Panzió</td></tr>",
                            "<tr><td>Bagoly Hotel</td></tr>",
                            "<tr><td>Szarvas Hotel</td></tr>",
                            "<tr><td>Fortuna Apartman</td></tr>",
                            "<tr><td>Nyárfás Vendégház</td></tr>",
                            "<tr><td>Kollégium</td></tr>",
                            "<tr><td>Müller Vendégház</td></tr>",
                            "</table>"
                        ]
                    }
                }
            ],
            "execution_count": 6
        }
    ]
}